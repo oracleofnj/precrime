{
 "cells": [
  {
   "cell_type": "code",
   "execution_count": 1,
   "metadata": {
    "collapsed": false
   },
   "outputs": [],
   "source": [
    "import numpy as np\n",
    "import pandas as pd\n",
    "import seaborn\n",
    "import matplotlib.pyplot as plt\n",
    "import datetime\n",
    "import csv\n",
    "import os\n",
    "from sklearn.metrics import r2_score, mean_squared_error\n",
    "from IPython.display import display\n",
    "\n",
    "%matplotlib inline\n",
    "%load_ext autoreload\n",
    "%autoreload 2"
   ]
  },
  {
   "cell_type": "code",
   "execution_count": 2,
   "metadata": {
    "collapsed": true
   },
   "outputs": [],
   "source": [
    "from modules.prediction import load_all_data\n",
    "from modules.prediction import precrime_train_test_split\n",
    "from modules.prediction import load_splits\n",
    "from modules.prediction import create_all_splits\n",
    "from modules.prediction import sample_model\n",
    "from modules.fancy_time_series import fancy_time_series_model\n",
    "from modules.eval_model import eval_predictions"
   ]
  },
  {
   "cell_type": "code",
   "execution_count": 3,
   "metadata": {
    "collapsed": false,
    "scrolled": true
   },
   "outputs": [
    {
     "name": "stderr",
     "output_type": "stream",
     "text": [
      "/Users/jsamet/anaconda2/envs/py3k/lib/python3.6/site-packages/numpy/lib/arraysetops.py:463: FutureWarning: elementwise comparison failed; returning scalar instead, but in the future will perform elementwise comparison\n",
      "  mask |= (ar1 == a)\n"
     ]
    }
   ],
   "source": [
    "crime_data = load_all_data()\n",
    "splits = load_splits()\n",
    "train_test_data = create_all_splits(crime_data, splits)"
   ]
  },
  {
   "cell_type": "code",
   "execution_count": 4,
   "metadata": {
    "collapsed": true
   },
   "outputs": [],
   "source": [
    "X_train_fine, X_test_fine, y_train_fine, y_test_fine = train_test_data['fine']\n",
    "X_train_coarse, X_test_coarse, y_train_coarse, y_test_coarse = train_test_data['coarse']\n",
    "X_train_2016, X_test_2016, y_train_2016, y_test_2016 = train_test_data['2016']"
   ]
  },
  {
   "cell_type": "code",
   "execution_count": 5,
   "metadata": {
    "collapsed": false
   },
   "outputs": [],
   "source": [
    "y_ts_fine = fancy_time_series_model(X_train_fine, y_train_fine, X_test_fine, y_test_fine)\n",
    "y_ts_coarse = fancy_time_series_model(X_train_coarse, y_train_coarse, X_test_coarse, y_test_coarse)\n",
    "y_ts_2016 = fancy_time_series_model(X_train_2016, y_train_2016, X_test_2016, y_test_2016)"
   ]
  },
  {
   "cell_type": "code",
   "execution_count": 6,
   "metadata": {
    "collapsed": false
   },
   "outputs": [
    {
     "name": "stdout",
     "output_type": "stream",
     "text": [
      "------------------------------------------------------------------\n",
      "Four-hour buckets:\n",
      "------------------------------------------------------------------\n",
      "Homicide:         R2 =     -2.1, RMSE =     0.055, RMSE (%) =  1977.185\n",
      "Rape:             R2 =     -1.6, RMSE =     0.123, RMSE (%) =   884.016\n",
      "Robbery:          R2 =      3.2, RMSE =     0.352, RMSE (%) =   304.105\n",
      "FelonyAssault:    R2 =      4.0, RMSE =     0.367, RMSE (%) =   334.084\n",
      "Burglary:         R2 =      2.6, RMSE =     0.348, RMSE (%) =   315.924\n",
      "GrandLarceny:     R2 =     15.2, RMSE =     0.516, RMSE (%) =   205.752\n",
      "GrandLarcenyAuto: R2 =      2.4, RMSE =     0.249, RMSE (%) =   422.572\n",
      "Fraud:            R2 =      0.8, RMSE =     0.185, RMSE (%) =   578.384\n",
      "Forgery:          R2 =      2.0, RMSE =     0.184, RMSE (%) =   618.552\n",
      "Arson:            R2 =     -2.1, RMSE =     0.095, RMSE (%) =  1197.076\n",
      "Drugs:            R2 =      4.2, RMSE =     0.200, RMSE (%) =   556.938\n",
      "Weapons:          R2 =      2.4, RMSE =     0.177, RMSE (%) =   604.365\n",
      "CriminalMischief: R2 =      0.4, RMSE =     0.231, RMSE (%) =   526.766\n",
      "Other:            R2 =      2.8, RMSE =     0.285, RMSE (%) =   373.838\n",
      "\n",
      "------------------------------------------------------------------\n",
      "Days:\n",
      "------------------------------------------------------------------\n",
      "Homicide:         R2 =     -1.9, RMSE =     0.062, RMSE (%) =  1758.010\n",
      "Rape:             R2 =     -0.9, RMSE =     0.139, RMSE (%) =   787.474\n",
      "Robbery:          R2 =      6.9, RMSE =     0.397, RMSE (%) =   270.160\n",
      "FelonyAssault:    R2 =      7.7, RMSE =     0.415, RMSE (%) =   297.254\n",
      "Burglary:         R2 =      5.2, RMSE =     0.394, RMSE (%) =   281.302\n",
      "GrandLarceny:     R2 =     21.6, RMSE =     0.584, RMSE (%) =   183.197\n",
      "GrandLarcenyAuto: R2 =      4.5, RMSE =     0.281, RMSE (%) =   375.858\n",
      "Fraud:            R2 =      1.7, RMSE =     0.209, RMSE (%) =   515.736\n",
      "Forgery:          R2 =      3.4, RMSE =     0.207, RMSE (%) =   550.077\n",
      "Arson:            R2 =     -1.8, RMSE =     0.107, RMSE (%) =  1061.269\n",
      "Drugs:            R2 =      6.0, RMSE =     0.226, RMSE (%) =   495.675\n",
      "Weapons:          R2 =      4.0, RMSE =     0.199, RMSE (%) =   535.248\n",
      "CriminalMischief: R2 =      1.8, RMSE =     0.262, RMSE (%) =   469.508\n",
      "Other:            R2 =      5.5, RMSE =     0.322, RMSE (%) =   332.311\n",
      "\n",
      "------------------------------------------------------------------\n",
      "Days (All Precincts):\n",
      "------------------------------------------------------------------\n",
      "Homicide:         R2 =      9.2, RMSE =     0.550, RMSE (%) =   201.777\n",
      "Rape:             R2 =      8.5, RMSE =     2.100, RMSE (%) =   154.561\n",
      "Robbery:          R2 =     68.8, RMSE =     4.242, RMSE (%) =    37.460\n",
      "FelonyAssault:    R2 =     65.6, RMSE =     4.439, RMSE (%) =    41.300\n",
      "Burglary:         R2 =     69.9, RMSE =     3.868, RMSE (%) =    35.905\n",
      "GrandLarceny:     R2 =     81.4, RMSE =     6.798, RMSE (%) =    27.698\n",
      "GrandLarcenyAuto: R2 =     63.9, RMSE =     2.750, RMSE (%) =    47.730\n",
      "Fraud:            R2 =     39.6, RMSE =     2.874, RMSE (%) =    92.103\n",
      "Forgery:          R2 =     48.7, RMSE =     1.986, RMSE (%) =    68.417\n",
      "Arson:            R2 =     13.9, RMSE =     0.989, RMSE (%) =   127.334\n",
      "Drugs:            R2 =     59.3, RMSE =     2.244, RMSE (%) =    63.992\n",
      "Weapons:          R2 =     49.9, RMSE =     1.893, RMSE (%) =    66.028\n",
      "CriminalMischief: R2 =     45.1, RMSE =     2.527, RMSE (%) =    58.810\n",
      "Other:            R2 =     60.8, RMSE =     3.042, RMSE (%) =    40.719\n",
      "\n"
     ]
    }
   ],
   "source": [
    "eval_predictions(X_test_fine, y_test_fine, y_ts_fine)"
   ]
  },
  {
   "cell_type": "code",
   "execution_count": 7,
   "metadata": {
    "collapsed": false
   },
   "outputs": [
    {
     "name": "stdout",
     "output_type": "stream",
     "text": [
      "------------------------------------------------------------------\n",
      "Four-hour buckets:\n",
      "------------------------------------------------------------------\n",
      "Homicide:         R2 =     -1.7, RMSE =     0.050, RMSE (%) =  2114.411\n",
      "Rape:             R2 =     -1.2, RMSE =     0.123, RMSE (%) =   868.470\n",
      "Robbery:          R2 =      3.9, RMSE =     0.347, RMSE (%) =   304.614\n",
      "FelonyAssault:    R2 =      5.2, RMSE =     0.377, RMSE (%) =   321.838\n",
      "Burglary:         R2 =      2.0, RMSE =     0.333, RMSE (%) =   325.360\n",
      "GrandLarceny:     R2 =     14.7, RMSE =     0.524, RMSE (%) =   201.744\n",
      "GrandLarcenyAuto: R2 =      2.5, RMSE =     0.235, RMSE (%) =   441.849\n",
      "Fraud:            R2 =      0.3, RMSE =     0.177, RMSE (%) =   601.274\n",
      "Forgery:          R2 =      1.7, RMSE =     0.177, RMSE (%) =   630.242\n",
      "Arson:            R2 =     -1.5, RMSE =     0.091, RMSE (%) =  1240.591\n",
      "Drugs:            R2 =      4.0, RMSE =     0.187, RMSE (%) =   579.150\n",
      "Weapons:          R2 =      3.7, RMSE =     0.183, RMSE (%) =   580.492\n",
      "CriminalMischief: R2 =      0.5, RMSE =     0.229, RMSE (%) =   482.752\n",
      "Other:            R2 =      3.2, RMSE =     0.294, RMSE (%) =   364.706\n",
      "\n",
      "------------------------------------------------------------------\n",
      "Days:\n",
      "------------------------------------------------------------------\n",
      "Homicide:         R2 =     -0.8, RMSE =     0.126, RMSE (%) =   878.417\n",
      "Rape:             R2 =      0.4, RMSE =     0.307, RMSE (%) =   360.295\n",
      "Robbery:          R2 =     16.8, RMSE =     0.864, RMSE (%) =   126.266\n",
      "FelonyAssault:    R2 =     22.6, RMSE =     0.936, RMSE (%) =   133.321\n",
      "Burglary:         R2 =     11.4, RMSE =     0.840, RMSE (%) =   136.573\n",
      "GrandLarceny:     R2 =     36.4, RMSE =     1.315, RMSE (%) =    84.425\n",
      "GrandLarcenyAuto: R2 =     11.0, RMSE =     0.588, RMSE (%) =   184.232\n",
      "Fraud:            R2 =      1.5, RMSE =     0.441, RMSE (%) =   249.320\n",
      "Forgery:          R2 =      8.2, RMSE =     0.443, RMSE (%) =   263.038\n",
      "Arson:            R2 =      0.4, RMSE =     0.226, RMSE (%) =   513.272\n",
      "Drugs:            R2 =     15.5, RMSE =     0.463, RMSE (%) =   238.442\n",
      "Weapons:          R2 =     13.9, RMSE =     0.453, RMSE (%) =   239.423\n",
      "CriminalMischief: R2 =      7.1, RMSE =     0.569, RMSE (%) =   199.953\n",
      "Other:            R2 =     16.1, RMSE =     0.724, RMSE (%) =   149.957\n",
      "\n",
      "------------------------------------------------------------------\n",
      "Days (All Precincts):\n",
      "------------------------------------------------------------------\n",
      "Homicide:         R2 =      3.0, RMSE =     1.055, RMSE (%) =    95.656\n",
      "Rape:             R2 =     -1.0, RMSE =     5.396, RMSE (%) =    82.253\n",
      "Robbery:          R2 =     48.3, RMSE =     9.232, RMSE (%) =    17.517\n",
      "FelonyAssault:    R2 =     53.7, RMSE =    11.470, RMSE (%) =    21.211\n",
      "Burglary:         R2 =     62.1, RMSE =     8.803, RMSE (%) =    18.592\n",
      "GrandLarceny:     R2 =     52.5, RMSE =    16.505, RMSE (%) =    13.762\n",
      "GrandLarcenyAuto: R2 =     51.6, RMSE =     5.445, RMSE (%) =    22.158\n",
      "Fraud:            R2 =      2.4, RMSE =     7.459, RMSE (%) =    54.824\n",
      "Forgery:          R2 =     34.8, RMSE =     4.431, RMSE (%) =    34.134\n",
      "Arson:            R2 =     20.7, RMSE =     2.032, RMSE (%) =    59.897\n",
      "Drugs:            R2 =     52.9, RMSE =     5.517, RMSE (%) =    36.891\n",
      "Weapons:          R2 =     37.6, RMSE =     4.696, RMSE (%) =    32.268\n",
      "CriminalMischief: R2 =     36.8, RMSE =     5.647, RMSE (%) =    25.761\n",
      "Other:            R2 =     39.3, RMSE =     6.754, RMSE (%) =    18.164\n",
      "\n"
     ]
    }
   ],
   "source": [
    "eval_predictions(X_test_coarse, y_test_coarse, y_ts_coarse)"
   ]
  },
  {
   "cell_type": "code",
   "execution_count": 8,
   "metadata": {
    "collapsed": false
   },
   "outputs": [
    {
     "name": "stdout",
     "output_type": "stream",
     "text": [
      "------------------------------------------------------------------\n",
      "Four-hour buckets:\n",
      "------------------------------------------------------------------\n",
      "Homicide:         R2 =     -1.8, RMSE =     0.045, RMSE (%) =  2403.798\n",
      "Rape:             R2 =     -1.4, RMSE =     0.114, RMSE (%) =   912.278\n",
      "Robbery:          R2 =      3.2, RMSE =     0.311, RMSE (%) =   339.816\n",
      "FelonyAssault:    R2 =      4.8, RMSE =     0.381, RMSE (%) =   311.632\n",
      "Burglary:         R2 =      0.0, RMSE =     0.286, RMSE (%) =   376.725\n",
      "GrandLarceny:     R2 =     12.2, RMSE =     0.515, RMSE (%) =   206.721\n",
      "GrandLarcenyAuto: R2 =      0.4, RMSE =     0.196, RMSE (%) =   529.180\n",
      "Fraud:            R2 =      0.1, RMSE =     0.156, RMSE (%) =   669.338\n",
      "Forgery:          R2 =      3.1, RMSE =     0.198, RMSE (%) =   556.387\n",
      "Arson:            R2 =     -1.7, RMSE =     0.071, RMSE (%) =  1618.622\n",
      "Drugs:            R2 =      1.7, RMSE =     0.175, RMSE (%) =   624.060\n",
      "Weapons:          R2 =      4.1, RMSE =     0.184, RMSE (%) =   571.337\n",
      "CriminalMischief: R2 =      0.6, RMSE =     0.255, RMSE (%) =   445.833\n",
      "Other:            R2 =      3.3, RMSE =     0.303, RMSE (%) =   355.177\n",
      "\n",
      "------------------------------------------------------------------\n",
      "Days:\n",
      "------------------------------------------------------------------\n",
      "Homicide:         R2 =     -1.4, RMSE =     0.111, RMSE (%) =   986.327\n",
      "Rape:             R2 =     -0.0, RMSE =     0.281, RMSE (%) =   373.400\n",
      "Robbery:          R2 =     15.5, RMSE =     0.770, RMSE (%) =   140.325\n",
      "FelonyAssault:    R2 =     22.0, RMSE =     0.943, RMSE (%) =   128.531\n",
      "Burglary:         R2 =      6.4, RMSE =     0.712, RMSE (%) =   156.398\n",
      "GrandLarceny:     R2 =     32.0, RMSE =     1.291, RMSE (%) =    86.390\n",
      "GrandLarcenyAuto: R2 =      5.4, RMSE =     0.486, RMSE (%) =   219.133\n",
      "Fraud:            R2 =      2.6, RMSE =     0.384, RMSE (%) =   275.120\n",
      "Forgery:          R2 =     12.2, RMSE =     0.495, RMSE (%) =   231.864\n",
      "Arson:            R2 =     -0.5, RMSE =     0.176, RMSE (%) =   665.214\n",
      "Drugs:            R2 =      9.2, RMSE =     0.433, RMSE (%) =   258.040\n",
      "Weapons:          R2 =     15.0, RMSE =     0.455, RMSE (%) =   235.609\n",
      "CriminalMischief: R2 =      6.7, RMSE =     0.634, RMSE (%) =   184.927\n",
      "Other:            R2 =     15.6, RMSE =     0.758, RMSE (%) =   148.042\n",
      "\n",
      "------------------------------------------------------------------\n",
      "Days (All Precincts):\n",
      "------------------------------------------------------------------\n",
      "Homicide:         R2 =     -0.4, RMSE =     0.960, RMSE (%) =   110.448\n",
      "Rape:             R2 =      6.5, RMSE =     3.070, RMSE (%) =    52.968\n",
      "Robbery:          R2 =     -2.4, RMSE =     8.001, RMSE (%) =    18.943\n",
      "FelonyAssault:    R2 =     37.7, RMSE =    10.962, RMSE (%) =    19.413\n",
      "Burglary:         R2 =     11.7, RMSE =     7.403, RMSE (%) =    21.109\n",
      "GrandLarceny:     R2 =     30.7, RMSE =    15.638, RMSE (%) =    13.595\n",
      "GrandLarcenyAuto: R2 =      5.7, RMSE =     5.119, RMSE (%) =    29.993\n",
      "Fraud:            R2 =     23.6, RMSE =     4.346, RMSE (%) =    40.419\n",
      "Forgery:          R2 =     28.3, RMSE =     5.365, RMSE (%) =    32.664\n",
      "Arson:            R2 =      0.0, RMSE =     1.553, RMSE (%) =    76.283\n",
      "Drugs:            R2 =     49.0, RMSE =     4.518, RMSE (%) =    34.931\n",
      "Weapons:          R2 =     30.3, RMSE =     4.861, RMSE (%) =    32.660\n",
      "CriminalMischief: R2 =     -5.4, RMSE =     6.366, RMSE (%) =    24.100\n",
      "Other:            R2 =     10.4, RMSE =     7.544, RMSE (%) =    19.137\n",
      "\n"
     ]
    }
   ],
   "source": [
    "eval_predictions(X_test_2016, y_test_2016, y_ts_2016)"
   ]
  },
  {
   "cell_type": "code",
   "execution_count": null,
   "metadata": {
    "collapsed": true
   },
   "outputs": [],
   "source": []
  }
 ],
 "metadata": {
  "kernelspec": {
   "display_name": "Python 3",
   "language": "python",
   "name": "python3"
  },
  "language_info": {
   "codemirror_mode": {
    "name": "ipython",
    "version": 3
   },
   "file_extension": ".py",
   "mimetype": "text/x-python",
   "name": "python",
   "nbconvert_exporter": "python",
   "pygments_lexer": "ipython3",
   "version": "3.6.0"
  }
 },
 "nbformat": 4,
 "nbformat_minor": 2
}
