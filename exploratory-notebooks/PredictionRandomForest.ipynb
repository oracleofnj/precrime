{
 "cells": [
  {
   "cell_type": "code",
   "execution_count": 1,
   "metadata": {
    "collapsed": true
   },
   "outputs": [],
   "source": [
    "import numpy as np\n",
    "import pandas as pd\n",
    "import seaborn\n",
    "import matplotlib.pyplot as plt\n",
    "import datetime\n",
    "import csv\n",
    "import os\n",
    "from sklearn.metrics import r2_score, mean_squared_error\n",
    "\n",
    "%matplotlib inline\n",
    "%load_ext autoreload\n",
    "%autoreload 2"
   ]
  },
  {
   "cell_type": "code",
   "execution_count": 2,
   "metadata": {
    "collapsed": true
   },
   "outputs": [],
   "source": [
    "from modules.prediction import load_all_data\n",
    "from modules.prediction import precrime_train_test_split\n",
    "from modules.prediction import load_splits\n",
    "from modules.prediction import create_all_splits\n",
    "from modules.prediction import sample_model\n",
    "from modules.poly_ridge import poly_ridge_model\n",
    "from modules.fancy_time_series import fancy_time_series_model\n",
    "from modules.eval_model import eval_predictions\n",
    "\n",
    "from modules.prediction_model import sample_model_RF"
   ]
  },
  {
   "cell_type": "code",
   "execution_count": 3,
   "metadata": {},
   "outputs": [
    {
     "name": "stderr",
     "output_type": "stream",
     "text": [
      "/Users/panpancheng/.pyenv/versions/3.6.2/envs/vir3/lib/python3.6/site-packages/numpy/lib/arraysetops.py:463: FutureWarning: elementwise comparison failed; returning scalar instead, but in the future will perform elementwise comparison\n",
      "  mask |= (ar1 == a)\n"
     ]
    }
   ],
   "source": [
    "crime_data = load_all_data()\n",
    "splits = load_splits()\n",
    "train_test_data = create_all_splits(crime_data, splits)"
   ]
  },
  {
   "cell_type": "code",
   "execution_count": 4,
   "metadata": {
    "collapsed": true
   },
   "outputs": [],
   "source": [
    "X_train_fine, X_test_fine, y_train_fine, y_test_fine = train_test_data['fine']\n",
    "X_train_coarse, X_test_coarse, y_train_coarse, y_test_coarse = train_test_data['coarse']\n",
    "X_train_2016, X_test_2016, y_train_2016, y_test_2016 = train_test_data['2016']"
   ]
  },
  {
   "cell_type": "code",
   "execution_count": 5,
   "metadata": {
    "collapsed": true
   },
   "outputs": [],
   "source": [
    "y_rf_fine = sample_model_RF(X_train_fine, y_train_fine, X_test_fine)\n",
    "y_rf_coarse = sample_model_RF(X_train_coarse, y_train_coarse, X_test_coarse)\n",
    "y_rf_2016 = sample_model_RF(X_train_2016, y_train_2016, X_test_2016)"
   ]
  },
  {
   "cell_type": "code",
   "execution_count": 6,
   "metadata": {},
   "outputs": [
    {
     "name": "stdout",
     "output_type": "stream",
     "text": [
      "------------------------------------------------------------------\n",
      "Four-hour buckets:\n",
      "------------------------------------------------------------------\n",
      "Homicide:         R2 =      0.1, RMSE =     0.054, RMSE (%) =  1956.170\n",
      "Rape:             R2 =      0.1, RMSE =     0.122, RMSE (%) =   876.789\n",
      "Robbery:          R2 =      0.8, RMSE =     0.356, RMSE (%) =   307.923\n",
      "FelonyAssault:    R2 =      0.9, RMSE =     0.373, RMSE (%) =   339.371\n",
      "Burglary:         R2 =      0.3, RMSE =     0.352, RMSE (%) =   319.493\n",
      "GrandLarceny:     R2 =      4.2, RMSE =     0.549, RMSE (%) =   218.674\n",
      "GrandLarcenyAuto: R2 =      0.4, RMSE =     0.252, RMSE (%) =   426.992\n",
      "Fraud:            R2 =      0.4, RMSE =     0.185, RMSE (%) =   579.603\n",
      "Forgery:          R2 =      0.5, RMSE =     0.185, RMSE (%) =   623.075\n",
      "Arson:            R2 =      0.1, RMSE =     0.094, RMSE (%) =  1184.314\n",
      "Drugs:            R2 =      0.8, RMSE =     0.203, RMSE (%) =   566.686\n",
      "Weapons:          R2 =      0.7, RMSE =     0.179, RMSE (%) =   609.737\n",
      "CriminalMischief: R2 =      0.3, RMSE =     0.231, RMSE (%) =   526.968\n",
      "Other:            R2 =      1.3, RMSE =     0.288, RMSE (%) =   376.764\n",
      "\n",
      "------------------------------------------------------------------\n",
      "Days:\n",
      "------------------------------------------------------------------\n",
      "Homicide:         R2 =      0.2, RMSE =     0.062, RMSE (%) =  1740.331\n",
      "Rape:             R2 =      0.4, RMSE =     0.138, RMSE (%) =   782.320\n",
      "Robbery:          R2 =      3.4, RMSE =     0.405, RMSE (%) =   275.176\n",
      "FelonyAssault:    R2 =      3.2, RMSE =     0.425, RMSE (%) =   304.436\n",
      "Burglary:         R2 =      2.0, RMSE =     0.400, RMSE (%) =   285.979\n",
      "GrandLarceny:     R2 =      9.5, RMSE =     0.627, RMSE (%) =   196.749\n",
      "GrandLarcenyAuto: R2 =      1.6, RMSE =     0.285, RMSE (%) =   381.423\n",
      "Fraud:            R2 =      1.0, RMSE =     0.210, RMSE (%) =   517.488\n",
      "Forgery:          R2 =      1.3, RMSE =     0.210, RMSE (%) =   555.899\n",
      "Arson:            R2 =      0.3, RMSE =     0.106, RMSE (%) =  1050.483\n",
      "Drugs:            R2 =      1.8, RMSE =     0.231, RMSE (%) =   506.635\n",
      "Weapons:          R2 =      1.4, RMSE =     0.202, RMSE (%) =   542.222\n",
      "CriminalMischief: R2 =      1.2, RMSE =     0.263, RMSE (%) =   470.883\n",
      "Other:            R2 =      3.2, RMSE =     0.326, RMSE (%) =   336.209\n",
      "\n",
      "------------------------------------------------------------------\n",
      "Days (All Precincts):\n",
      "------------------------------------------------------------------\n",
      "Homicide:         R2 =      4.0, RMSE =     0.566, RMSE (%) =   207.555\n",
      "Rape:             R2 =      8.2, RMSE =     2.104, RMSE (%) =   154.845\n",
      "Robbery:          R2 =     42.3, RMSE =     5.768, RMSE (%) =    50.927\n",
      "FelonyAssault:    R2 =     46.1, RMSE =     5.557, RMSE (%) =    51.707\n",
      "Burglary:         R2 =     35.6, RMSE =     5.659, RMSE (%) =    52.528\n",
      "GrandLarceny:     R2 =     40.8, RMSE =    12.139, RMSE (%) =    49.464\n",
      "GrandLarcenyAuto: R2 =     24.6, RMSE =     3.974, RMSE (%) =    68.961\n",
      "Fraud:            R2 =     19.3, RMSE =     3.322, RMSE (%) =   106.458\n",
      "Forgery:          R2 =     17.8, RMSE =     2.514, RMSE (%) =    86.607\n",
      "Arson:            R2 =      9.9, RMSE =     1.011, RMSE (%) =   130.247\n",
      "Drugs:            R2 =     15.8, RMSE =     3.225, RMSE (%) =    91.964\n",
      "Weapons:          R2 =     16.3, RMSE =     2.447, RMSE (%) =    85.354\n",
      "CriminalMischief: R2 =     26.9, RMSE =     2.917, RMSE (%) =    67.869\n",
      "Other:            R2 =     37.5, RMSE =     3.839, RMSE (%) =    51.394\n",
      "\n"
     ]
    }
   ],
   "source": [
    "eval_predictions(X_test_fine, y_test_fine, y_rf_fine)"
   ]
  },
  {
   "cell_type": "code",
   "execution_count": 7,
   "metadata": {},
   "outputs": [
    {
     "name": "stdout",
     "output_type": "stream",
     "text": [
      "------------------------------------------------------------------\n",
      "Four-hour buckets:\n",
      "------------------------------------------------------------------\n",
      "Homicide:         R2 =      0.1, RMSE =     0.050, RMSE (%) =  2095.805\n",
      "Rape:             R2 =      0.1, RMSE =     0.122, RMSE (%) =   862.551\n",
      "Robbery:          R2 =      0.9, RMSE =     0.353, RMSE (%) =   309.343\n",
      "FelonyAssault:    R2 =      1.1, RMSE =     0.385, RMSE (%) =   328.677\n",
      "Burglary:         R2 =      0.2, RMSE =     0.337, RMSE (%) =   328.361\n",
      "GrandLarceny:     R2 =      4.3, RMSE =     0.555, RMSE (%) =   213.696\n",
      "GrandLarcenyAuto: R2 =      0.3, RMSE =     0.238, RMSE (%) =   446.933\n",
      "Fraud:            R2 =      0.3, RMSE =     0.177, RMSE (%) =   601.262\n",
      "Forgery:          R2 =      0.3, RMSE =     0.178, RMSE (%) =   634.878\n",
      "Arson:            R2 =      0.1, RMSE =     0.090, RMSE (%) =  1230.345\n",
      "Drugs:            R2 =      0.5, RMSE =     0.191, RMSE (%) =   589.504\n",
      "Weapons:          R2 =      0.8, RMSE =     0.186, RMSE (%) =   589.152\n",
      "CriminalMischief: R2 =      0.4, RMSE =     0.229, RMSE (%) =   482.974\n",
      "Other:            R2 =      1.3, RMSE =     0.296, RMSE (%) =   368.355\n",
      "\n",
      "------------------------------------------------------------------\n",
      "Days:\n",
      "------------------------------------------------------------------\n",
      "Homicide:         R2 =      0.3, RMSE =     0.125, RMSE (%) =   873.605\n",
      "Rape:             R2 =      0.6, RMSE =     0.307, RMSE (%) =   359.992\n",
      "Robbery:          R2 =      4.5, RMSE =     0.926, RMSE (%) =   135.279\n",
      "FelonyAssault:    R2 =      3.8, RMSE =     1.044, RMSE (%) =   148.635\n",
      "Burglary:         R2 =      0.3, RMSE =     0.891, RMSE (%) =   144.928\n",
      "GrandLarceny:     R2 =     18.0, RMSE =     1.493, RMSE (%) =    95.867\n",
      "GrandLarcenyAuto: R2 =      1.4, RMSE =     0.619, RMSE (%) =   193.944\n",
      "Fraud:            R2 =      0.1, RMSE =     0.444, RMSE (%) =   251.099\n",
      "Forgery:          R2 =      1.2, RMSE =     0.460, RMSE (%) =   272.883\n",
      "Arson:            R2 =      0.7, RMSE =     0.226, RMSE (%) =   512.474\n",
      "Drugs:            R2 =      2.4, RMSE =     0.498, RMSE (%) =   256.194\n",
      "Weapons:          R2 =      4.2, RMSE =     0.477, RMSE (%) =   252.476\n",
      "CriminalMischief: R2 =      1.9, RMSE =     0.585, RMSE (%) =   205.452\n",
      "Other:            R2 =      6.6, RMSE =     0.764, RMSE (%) =   158.237\n",
      "\n",
      "------------------------------------------------------------------\n",
      "Days (All Precincts):\n",
      "------------------------------------------------------------------\n",
      "Homicide:         R2 =     -1.6, RMSE =     1.079, RMSE (%) =    97.864\n",
      "Rape:             R2 =     -0.5, RMSE =     5.381, RMSE (%) =    82.031\n",
      "Robbery:          R2 =     -0.4, RMSE =    12.862, RMSE (%) =    24.405\n",
      "FelonyAssault:    R2 =      7.6, RMSE =    16.197, RMSE (%) =    29.952\n",
      "Burglary:         R2 =      4.0, RMSE =    14.003, RMSE (%) =    29.573\n",
      "GrandLarceny:     R2 =     -1.3, RMSE =    24.113, RMSE (%) =    20.106\n",
      "GrandLarcenyAuto: R2 =    -10.8, RMSE =     8.242, RMSE (%) =    33.541\n",
      "Fraud:            R2 =      1.3, RMSE =     7.500, RMSE (%) =    55.123\n",
      "Forgery:          R2 =     -1.9, RMSE =     5.537, RMSE (%) =    42.658\n",
      "Arson:            R2 =     -1.5, RMSE =     2.298, RMSE (%) =    67.757\n",
      "Drugs:            R2 =     -6.0, RMSE =     8.278, RMSE (%) =    55.358\n",
      "Weapons:          R2 =     -0.7, RMSE =     5.969, RMSE (%) =    41.016\n",
      "CriminalMischief: R2 =     -5.3, RMSE =     7.292, RMSE (%) =    33.266\n",
      "Other:            R2 =     -4.3, RMSE =     8.854, RMSE (%) =    23.811\n",
      "\n"
     ]
    }
   ],
   "source": [
    "eval_predictions(X_test_coarse, y_test_coarse, y_rf_coarse)"
   ]
  },
  {
   "cell_type": "code",
   "execution_count": 8,
   "metadata": {
    "scrolled": false
   },
   "outputs": [
    {
     "name": "stdout",
     "output_type": "stream",
     "text": [
      "------------------------------------------------------------------\n",
      "Four-hour buckets:\n",
      "------------------------------------------------------------------\n",
      "Homicide:         R2 =      0.0, RMSE =     0.045, RMSE (%) =  2382.158\n",
      "Rape:             R2 =      0.1, RMSE =     0.114, RMSE (%) =   905.807\n",
      "Robbery:          R2 =      0.1, RMSE =     0.316, RMSE (%) =   345.216\n",
      "FelonyAssault:    R2 =      0.8, RMSE =     0.389, RMSE (%) =   318.034\n",
      "Burglary:         R2 =     -1.8, RMSE =     0.289, RMSE (%) =   380.091\n",
      "GrandLarceny:     R2 =      3.5, RMSE =     0.540, RMSE (%) =   216.747\n",
      "GrandLarcenyAuto: R2 =     -1.2, RMSE =     0.197, RMSE (%) =   533.399\n",
      "Fraud:            R2 =     -0.1, RMSE =     0.156, RMSE (%) =   670.148\n",
      "Forgery:          R2 =     -0.2, RMSE =     0.201, RMSE (%) =   565.862\n",
      "Arson:            R2 =     -0.2, RMSE =     0.071, RMSE (%) =  1606.872\n",
      "Drugs:            R2 =     -0.2, RMSE =     0.176, RMSE (%) =   630.131\n",
      "Weapons:          R2 =      1.3, RMSE =     0.187, RMSE (%) =   579.868\n",
      "CriminalMischief: R2 =      0.1, RMSE =     0.255, RMSE (%) =   446.847\n",
      "Other:            R2 =      1.2, RMSE =     0.306, RMSE (%) =   359.106\n",
      "\n",
      "------------------------------------------------------------------\n",
      "Days:\n",
      "------------------------------------------------------------------\n",
      "Homicide:         R2 =      0.1, RMSE =     0.111, RMSE (%) =   979.389\n",
      "Rape:             R2 =      0.3, RMSE =     0.281, RMSE (%) =   372.745\n",
      "Robbery:          R2 =      0.5, RMSE =     0.835, RMSE (%) =   152.223\n",
      "FelonyAssault:    R2 =      3.5, RMSE =     1.049, RMSE (%) =   142.997\n",
      "Burglary:         R2 =     -8.8, RMSE =     0.768, RMSE (%) =   168.617\n",
      "GrandLarceny:     R2 =     14.9, RMSE =     1.443, RMSE (%) =    96.619\n",
      "GrandLarcenyAuto: R2 =     -6.8, RMSE =     0.516, RMSE (%) =   232.839\n",
      "Fraud:            R2 =     -1.8, RMSE =     0.393, RMSE (%) =   281.208\n",
      "Forgery:          R2 =     -1.1, RMSE =     0.531, RMSE (%) =   248.723\n",
      "Arson:            R2 =     -1.3, RMSE =     0.177, RMSE (%) =   667.775\n",
      "Drugs:            R2 =     -1.1, RMSE =     0.457, RMSE (%) =   272.262\n",
      "Weapons:          R2 =      6.2, RMSE =     0.478, RMSE (%) =   247.491\n",
      "CriminalMischief: R2 =      0.6, RMSE =     0.655, RMSE (%) =   190.933\n",
      "Other:            R2 =      5.7, RMSE =     0.801, RMSE (%) =   156.503\n",
      "\n",
      "------------------------------------------------------------------\n",
      "Days (All Precincts):\n",
      "------------------------------------------------------------------\n",
      "Homicide:         R2 =    -15.7, RMSE =     1.030, RMSE (%) =   118.550\n",
      "Rape:             R2 =     -3.9, RMSE =     3.235, RMSE (%) =    55.827\n",
      "Robbery:          R2 =   -240.5, RMSE =    14.587, RMSE (%) =    34.538\n",
      "FelonyAssault:    R2 =     -5.3, RMSE =    14.254, RMSE (%) =    25.242\n",
      "Burglary:         R2 =   -467.1, RMSE =    18.761, RMSE (%) =    53.493\n",
      "GrandLarceny:     R2 =      0.9, RMSE =    18.704, RMSE (%) =    16.260\n",
      "GrandLarcenyAuto: R2 =   -416.8, RMSE =    11.985, RMSE (%) =    70.218\n",
      "Fraud:            R2 =    -66.5, RMSE =     6.414, RMSE (%) =    59.655\n",
      "Forgery:          R2 =    -21.2, RMSE =     6.976, RMSE (%) =    42.469\n",
      "Arson:            R2 =   -130.9, RMSE =     2.360, RMSE (%) =   115.917\n",
      "Drugs:            R2 =    -42.6, RMSE =     7.552, RMSE (%) =    58.389\n",
      "Weapons:          R2 =     -2.9, RMSE =     5.907, RMSE (%) =    39.691\n",
      "CriminalMischief: R2 =   -111.4, RMSE =     9.015, RMSE (%) =    34.130\n",
      "Other:            R2 =    -33.0, RMSE =     9.192, RMSE (%) =    23.318\n",
      "\n"
     ]
    }
   ],
   "source": [
    "eval_predictions(X_test_2016, y_test_2016, y_rf_2016)"
   ]
  },
  {
   "cell_type": "code",
   "execution_count": null,
   "metadata": {
    "collapsed": true
   },
   "outputs": [],
   "source": []
  }
 ],
 "metadata": {
  "kernelspec": {
   "display_name": "Python 3",
   "language": "python",
   "name": "python3"
  },
  "language_info": {
   "codemirror_mode": {
    "name": "ipython",
    "version": 3
   },
   "file_extension": ".py",
   "mimetype": "text/x-python",
   "name": "python",
   "nbconvert_exporter": "python",
   "pygments_lexer": "ipython3",
   "version": "3.6.2"
  }
 },
 "nbformat": 4,
 "nbformat_minor": 2
}
