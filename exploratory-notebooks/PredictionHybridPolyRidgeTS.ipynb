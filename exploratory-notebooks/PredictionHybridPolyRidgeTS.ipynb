{
 "cells": [
  {
   "cell_type": "code",
   "execution_count": 1,
   "metadata": {
    "collapsed": true
   },
   "outputs": [],
   "source": [
    "import numpy as np\n",
    "import pandas as pd\n",
    "import seaborn\n",
    "import matplotlib.pyplot as plt\n",
    "import datetime\n",
    "import csv\n",
    "import os\n",
    "from sklearn.metrics import r2_score, mean_squared_error\n",
    "\n",
    "%matplotlib inline\n",
    "%load_ext autoreload\n",
    "%autoreload 2"
   ]
  },
  {
   "cell_type": "code",
   "execution_count": 2,
   "metadata": {
    "collapsed": true
   },
   "outputs": [],
   "source": [
    "from modules.prediction import load_all_data\n",
    "from modules.prediction import precrime_train_test_split\n",
    "from modules.prediction import load_splits\n",
    "from modules.prediction import create_all_splits\n",
    "from modules.prediction import sample_model\n",
    "from modules.poly_ridge import poly_ridge_model\n",
    "from modules.fancy_time_series import fancy_time_series_model\n",
    "from modules.eval_model import eval_predictions\n"
   ]
  },
  {
   "cell_type": "code",
   "execution_count": 3,
   "metadata": {},
   "outputs": [
    {
     "name": "stderr",
     "output_type": "stream",
     "text": [
      "C:\\Users\\ngamf\\Anaconda3\\envs\\capstone\\lib\\site-packages\\numpy\\lib\\arraysetops.py:463: FutureWarning: elementwise comparison failed; returning scalar instead, but in the future will perform elementwise comparison\n",
      "  mask |= (ar1 == a)\n"
     ]
    }
   ],
   "source": [
    "crime_data = load_all_data()\n",
    "splits = load_splits()\n",
    "train_test_data = create_all_splits(crime_data, splits)"
   ]
  },
  {
   "cell_type": "code",
   "execution_count": 4,
   "metadata": {
    "collapsed": true
   },
   "outputs": [],
   "source": [
    "X_train_fine, X_test_fine, y_train_fine, y_test_fine = train_test_data['fine']\n",
    "X_train_coarse, X_test_coarse, y_train_coarse, y_test_coarse = train_test_data['coarse']\n",
    "X_train_2016, X_test_2016, y_train_2016, y_test_2016 = train_test_data['2016']"
   ]
  },
  {
   "cell_type": "code",
   "execution_count": 6,
   "metadata": {
    "scrolled": true
   },
   "outputs": [
    {
     "data": {
      "text/plain": [
       "(1670284, 30)"
      ]
     },
     "execution_count": 6,
     "metadata": {},
     "output_type": "execute_result"
    }
   ],
   "source": [
    "X_train_fine.shape"
   ]
  },
  {
   "cell_type": "code",
   "execution_count": 5,
   "metadata": {
    "collapsed": true
   },
   "outputs": [],
   "source": [
    "y_poly_fine = poly_ridge_model(X_train_fine, y_train_fine, X_test_fine)\n",
    "y_poly_coarse = poly_ridge_model(X_train_coarse, y_train_coarse, X_test_coarse)\n",
    "y_poly_2016 = poly_ridge_model(X_train_2016, y_train_2016, X_test_2016)\n",
    "\n",
    "y_ts_fine = fancy_time_series_model(X_train_fine, y_train_fine, X_test_fine, y_test_fine)\n",
    "y_ts_coarse = fancy_time_series_model(X_train_coarse, y_train_coarse, X_test_coarse, y_test_coarse)\n",
    "y_ts_2016 = fancy_time_series_model(X_train_2016, y_train_2016, X_test_2016, y_test_2016)\n",
    "\n",
    "y_hybrid_fine = (y_poly_fine + y_ts_fine) / 2\n",
    "y_hybrid_coarse = (y_poly_coarse + y_ts_coarse) / 2\n",
    "y_hybrid_2016 = (y_poly_2016 + y_ts_2016) / 2"
   ]
  },
  {
   "cell_type": "code",
   "execution_count": 6,
   "metadata": {},
   "outputs": [
    {
     "name": "stdout",
     "output_type": "stream",
     "text": [
      "------------------------------------------------------------------\n",
      "Four-hour buckets:\n",
      "------------------------------------------------------------------\n",
      "Homicide:         R2 =     -0.3, RMSE =     0.055, RMSE (%) =  1959.830\n",
      "Rape:             R2 =      0.0, RMSE =     0.122, RMSE (%) =   876.920\n",
      "Robbery:          R2 =      4.8, RMSE =     0.349, RMSE (%) =   301.591\n",
      "FelonyAssault:    R2 =      5.4, RMSE =     0.364, RMSE (%) =   331.706\n",
      "Burglary:         R2 =      4.1, RMSE =     0.345, RMSE (%) =   313.400\n",
      "GrandLarceny:     R2 =     15.7, RMSE =     0.515, RMSE (%) =   205.208\n",
      "GrandLarcenyAuto: R2 =      4.1, RMSE =     0.247, RMSE (%) =   418.945\n",
      "Fraud:            R2 =      2.4, RMSE =     0.183, RMSE (%) =   573.824\n",
      "Forgery:          R2 =      3.3, RMSE =     0.182, RMSE (%) =   614.388\n",
      "Arson:            R2 =     -0.1, RMSE =     0.094, RMSE (%) =  1185.638\n",
      "Drugs:            R2 =      5.5, RMSE =     0.198, RMSE (%) =   553.240\n",
      "Weapons:          R2 =      3.7, RMSE =     0.176, RMSE (%) =   600.334\n",
      "CriminalMischief: R2 =      1.8, RMSE =     0.230, RMSE (%) =   523.009\n",
      "Other:            R2 =      4.2, RMSE =     0.283, RMSE (%) =   371.218\n",
      "\n",
      "------------------------------------------------------------------\n",
      "Days:\n",
      "------------------------------------------------------------------\n",
      "Homicide:         R2 =     -0.1, RMSE =     0.062, RMSE (%) =  1742.812\n",
      "Rape:             R2 =      0.6, RMSE =     0.138, RMSE (%) =   781.427\n",
      "Robbery:          R2 =      8.5, RMSE =     0.394, RMSE (%) =   267.807\n",
      "FelonyAssault:    R2 =      9.0, RMSE =     0.412, RMSE (%) =   295.117\n",
      "Burglary:         R2 =      6.7, RMSE =     0.390, RMSE (%) =   279.059\n",
      "GrandLarceny:     R2 =     21.8, RMSE =     0.583, RMSE (%) =   182.921\n",
      "GrandLarcenyAuto: R2 =      6.1, RMSE =     0.279, RMSE (%) =   372.552\n",
      "Fraud:            R2 =      3.3, RMSE =     0.207, RMSE (%) =   511.597\n",
      "Forgery:          R2 =      4.6, RMSE =     0.206, RMSE (%) =   546.512\n",
      "Arson:            R2 =      0.2, RMSE =     0.106, RMSE (%) =  1051.130\n",
      "Drugs:            R2 =      7.3, RMSE =     0.224, RMSE (%) =   492.231\n",
      "Weapons:          R2 =      5.2, RMSE =     0.198, RMSE (%) =   531.857\n",
      "CriminalMischief: R2 =      3.2, RMSE =     0.260, RMSE (%) =   466.216\n",
      "Other:            R2 =      6.8, RMSE =     0.320, RMSE (%) =   329.957\n",
      "\n",
      "------------------------------------------------------------------\n",
      "Days (All Precincts):\n",
      "------------------------------------------------------------------\n",
      "Homicide:         R2 =     11.0, RMSE =     0.545, RMSE (%) =   199.846\n",
      "Rape:             R2 =     10.4, RMSE =     2.078, RMSE (%) =   152.987\n",
      "Robbery:          R2 =     71.6, RMSE =     4.049, RMSE (%) =    35.748\n",
      "FelonyAssault:    R2 =     68.6, RMSE =     4.242, RMSE (%) =    39.467\n",
      "Burglary:         R2 =     70.7, RMSE =     3.816, RMSE (%) =    35.417\n",
      "GrandLarceny:     R2 =     82.5, RMSE =     6.607, RMSE (%) =    26.923\n",
      "GrandLarcenyAuto: R2 =     66.3, RMSE =     2.656, RMSE (%) =    46.099\n",
      "Fraud:            R2 =     42.4, RMSE =     2.808, RMSE (%) =    89.984\n",
      "Forgery:          R2 =     52.2, RMSE =     1.918, RMSE (%) =    66.054\n",
      "Arson:            R2 =     16.4, RMSE =     0.974, RMSE (%) =   125.469\n",
      "Drugs:            R2 =     61.5, RMSE =     2.183, RMSE (%) =    62.234\n",
      "Weapons:          R2 =     51.7, RMSE =     1.859, RMSE (%) =    64.856\n",
      "CriminalMischief: R2 =     47.0, RMSE =     2.484, RMSE (%) =    57.815\n",
      "Other:            R2 =     64.0, RMSE =     2.916, RMSE (%) =    39.032\n",
      "\n"
     ]
    }
   ],
   "source": [
    "eval_predictions(X_test_fine, y_test_fine, y_hybrid_fine)"
   ]
  },
  {
   "cell_type": "code",
   "execution_count": 7,
   "metadata": {},
   "outputs": [
    {
     "name": "stdout",
     "output_type": "stream",
     "text": [
      "------------------------------------------------------------------\n",
      "Four-hour buckets:\n",
      "------------------------------------------------------------------\n",
      "Homicide:         R2 =     -0.2, RMSE =     0.050, RMSE (%) =  2098.583\n",
      "Rape:             R2 =      0.2, RMSE =     0.122, RMSE (%) =   862.376\n",
      "Robbery:          R2 =      5.0, RMSE =     0.346, RMSE (%) =   302.895\n",
      "FelonyAssault:    R2 =      6.2, RMSE =     0.375, RMSE (%) =   320.059\n",
      "Burglary:         R2 =      3.4, RMSE =     0.331, RMSE (%) =   323.033\n",
      "GrandLarceny:     R2 =     15.1, RMSE =     0.523, RMSE (%) =   201.366\n",
      "GrandLarcenyAuto: R2 =      3.7, RMSE =     0.234, RMSE (%) =   439.239\n",
      "Fraud:            R2 =      2.0, RMSE =     0.176, RMSE (%) =   596.200\n",
      "Forgery:          R2 =      2.8, RMSE =     0.176, RMSE (%) =   626.775\n",
      "Arson:            R2 =      0.0, RMSE =     0.090, RMSE (%) =  1230.980\n",
      "Drugs:            R2 =      4.9, RMSE =     0.187, RMSE (%) =   576.393\n",
      "Weapons:          R2 =      4.6, RMSE =     0.182, RMSE (%) =   577.996\n",
      "CriminalMischief: R2 =      1.9, RMSE =     0.227, RMSE (%) =   479.264\n",
      "Other:            R2 =      4.4, RMSE =     0.292, RMSE (%) =   362.486\n",
      "\n",
      "------------------------------------------------------------------\n",
      "Days:\n",
      "------------------------------------------------------------------\n",
      "Homicide:         R2 =      0.7, RMSE =     0.125, RMSE (%) =   872.182\n",
      "Rape:             R2 =      1.8, RMSE =     0.305, RMSE (%) =   357.666\n",
      "Robbery:          R2 =     17.7, RMSE =     0.860, RMSE (%) =   125.609\n",
      "FelonyAssault:    R2 =     23.2, RMSE =     0.933, RMSE (%) =   132.811\n",
      "Burglary:         R2 =     13.0, RMSE =     0.833, RMSE (%) =   135.399\n",
      "GrandLarceny:     R2 =     36.7, RMSE =     1.312, RMSE (%) =    84.213\n",
      "GrandLarcenyAuto: R2 =     12.1, RMSE =     0.584, RMSE (%) =   183.106\n",
      "Fraud:            R2 =      4.0, RMSE =     0.435, RMSE (%) =   246.210\n",
      "Forgery:          R2 =      8.7, RMSE =     0.442, RMSE (%) =   262.277\n",
      "Arson:            R2 =      1.9, RMSE =     0.224, RMSE (%) =   509.255\n",
      "Drugs:            R2 =     15.8, RMSE =     0.462, RMSE (%) =   238.059\n",
      "Weapons:          R2 =     14.2, RMSE =     0.452, RMSE (%) =   238.935\n",
      "CriminalMischief: R2 =      8.4, RMSE =     0.565, RMSE (%) =   198.587\n",
      "Other:            R2 =     17.2, RMSE =     0.719, RMSE (%) =   148.970\n",
      "\n",
      "------------------------------------------------------------------\n",
      "Days (All Precincts):\n",
      "------------------------------------------------------------------\n",
      "Homicide:         R2 =      4.5, RMSE =     1.046, RMSE (%) =    94.886\n",
      "Rape:             R2 =      2.9, RMSE =     5.289, RMSE (%) =    80.627\n",
      "Robbery:          R2 =     48.5, RMSE =     9.214, RMSE (%) =    17.483\n",
      "FelonyAssault:    R2 =     60.4, RMSE =    10.609, RMSE (%) =    19.618\n",
      "Burglary:         R2 =     63.9, RMSE =     8.587, RMSE (%) =    18.135\n",
      "GrandLarceny:     R2 =     50.2, RMSE =    16.900, RMSE (%) =    14.091\n",
      "GrandLarcenyAuto: R2 =     53.0, RMSE =     5.366, RMSE (%) =    21.837\n",
      "Fraud:            R2 =     17.0, RMSE =     6.878, RMSE (%) =    50.549\n",
      "Forgery:          R2 =     40.2, RMSE =     4.243, RMSE (%) =    32.691\n",
      "Arson:            R2 =     21.8, RMSE =     2.017, RMSE (%) =    59.468\n",
      "Drugs:            R2 =     56.7, RMSE =     5.293, RMSE (%) =    35.396\n",
      "Weapons:          R2 =     40.8, RMSE =     4.574, RMSE (%) =    31.430\n",
      "CriminalMischief: R2 =     43.8, RMSE =     5.329, RMSE (%) =    24.311\n",
      "Other:            R2 =     45.2, RMSE =     6.422, RMSE (%) =    17.269\n",
      "\n"
     ]
    }
   ],
   "source": [
    "eval_predictions(X_test_coarse, y_test_coarse, y_hybrid_coarse)"
   ]
  },
  {
   "cell_type": "code",
   "execution_count": 8,
   "metadata": {
    "scrolled": false
   },
   "outputs": [
    {
     "name": "stdout",
     "output_type": "stream",
     "text": [
      "------------------------------------------------------------------\n",
      "Four-hour buckets:\n",
      "------------------------------------------------------------------\n",
      "Homicide:         R2 =     -0.3, RMSE =     0.045, RMSE (%) =  2386.304\n",
      "Rape:             R2 =      0.0, RMSE =     0.114, RMSE (%) =   906.020\n",
      "Robbery:          R2 =      4.3, RMSE =     0.309, RMSE (%) =   337.934\n",
      "FelonyAssault:    R2 =      5.8, RMSE =     0.379, RMSE (%) =   309.953\n",
      "Burglary:         R2 =      1.1, RMSE =     0.285, RMSE (%) =   374.797\n",
      "GrandLarceny:     R2 =     12.5, RMSE =     0.514, RMSE (%) =   206.393\n",
      "GrandLarcenyAuto: R2 =      1.6, RMSE =     0.194, RMSE (%) =   526.033\n",
      "Fraud:            R2 =      1.4, RMSE =     0.155, RMSE (%) =   664.941\n",
      "Forgery:          R2 =      3.5, RMSE =     0.197, RMSE (%) =   555.294\n",
      "Arson:            R2 =     -0.2, RMSE =     0.071, RMSE (%) =  1606.762\n",
      "Drugs:            R2 =      2.8, RMSE =     0.174, RMSE (%) =   620.678\n",
      "Weapons:          R2 =      4.7, RMSE =     0.183, RMSE (%) =   569.564\n",
      "CriminalMischief: R2 =      1.7, RMSE =     0.253, RMSE (%) =   443.232\n",
      "Other:            R2 =      4.3, RMSE =     0.301, RMSE (%) =   353.289\n",
      "\n",
      "------------------------------------------------------------------\n",
      "Days:\n",
      "------------------------------------------------------------------\n",
      "Homicide:         R2 =      0.2, RMSE =     0.110, RMSE (%) =   978.789\n",
      "Rape:             R2 =      1.3, RMSE =     0.279, RMSE (%) =   371.019\n",
      "Robbery:          R2 =     16.1, RMSE =     0.767, RMSE (%) =   139.795\n",
      "FelonyAssault:    R2 =     22.7, RMSE =     0.938, RMSE (%) =   127.962\n",
      "Burglary:         R2 =      6.5, RMSE =     0.712, RMSE (%) =   156.294\n",
      "GrandLarceny:     R2 =     31.2, RMSE =     1.298, RMSE (%) =    86.872\n",
      "GrandLarcenyAuto: R2 =      5.7, RMSE =     0.485, RMSE (%) =   218.768\n",
      "Fraud:            R2 =      3.7, RMSE =     0.382, RMSE (%) =   273.604\n",
      "Forgery:          R2 =     11.0, RMSE =     0.498, RMSE (%) =   233.410\n",
      "Arson:            R2 =      0.7, RMSE =     0.175, RMSE (%) =   661.398\n",
      "Drugs:            R2 =      9.3, RMSE =     0.433, RMSE (%) =   257.887\n",
      "Weapons:          R2 =     15.1, RMSE =     0.455, RMSE (%) =   235.495\n",
      "CriminalMischief: R2 =      7.4, RMSE =     0.632, RMSE (%) =   184.278\n",
      "Other:            R2 =     16.2, RMSE =     0.755, RMSE (%) =   147.533\n",
      "\n",
      "------------------------------------------------------------------\n",
      "Days (All Precincts):\n",
      "------------------------------------------------------------------\n",
      "Homicide:         R2 =      0.9, RMSE =     0.953, RMSE (%) =   109.718\n",
      "Rape:             R2 =      8.8, RMSE =     3.031, RMSE (%) =    52.310\n",
      "Robbery:          R2 =     -4.3, RMSE =     8.073, RMSE (%) =    19.116\n",
      "FelonyAssault:    R2 =     47.0, RMSE =    10.116, RMSE (%) =    17.914\n",
      "Burglary:         R2 =    -24.4, RMSE =     8.785, RMSE (%) =    25.050\n",
      "GrandLarceny:     R2 =     -0.4, RMSE =    18.827, RMSE (%) =    16.367\n",
      "GrandLarcenyAuto: R2 =     -5.9, RMSE =     5.425, RMSE (%) =    31.783\n",
      "Fraud:            R2 =     19.4, RMSE =     4.462, RMSE (%) =    41.505\n",
      "Forgery:          R2 =     35.1, RMSE =     5.104, RMSE (%) =    31.070\n",
      "Arson:            R2 =     -9.1, RMSE =     1.622, RMSE (%) =    79.666\n",
      "Drugs:            R2 =     53.2, RMSE =     4.329, RMSE (%) =    33.467\n",
      "Weapons:          R2 =     30.8, RMSE =     4.844, RMSE (%) =    32.551\n",
      "CriminalMischief: R2 =      2.1, RMSE =     6.136, RMSE (%) =    23.230\n",
      "Other:            R2 =     15.1, RMSE =     7.344, RMSE (%) =    18.629\n",
      "\n"
     ]
    }
   ],
   "source": [
    "eval_predictions(X_test_2016, y_test_2016, y_hybrid_2016)"
   ]
  }
 ],
 "metadata": {
  "kernelspec": {
   "display_name": "Python 3",
   "language": "python",
   "name": "python3"
  },
  "language_info": {
   "codemirror_mode": {
    "name": "ipython",
    "version": 3
   },
   "file_extension": ".py",
   "mimetype": "text/x-python",
   "name": "python",
   "nbconvert_exporter": "python",
   "pygments_lexer": "ipython3",
   "version": "3.6.3"
  }
 },
 "nbformat": 4,
 "nbformat_minor": 2
}
