{
 "cells": [
  {
   "cell_type": "code",
   "execution_count": 1,
   "metadata": {
    "collapsed": false
   },
   "outputs": [],
   "source": [
    "import numpy as np\n",
    "import pandas as pd\n",
    "import seaborn\n",
    "import matplotlib.pyplot as plt\n",
    "import datetime\n",
    "import csv\n",
    "import os\n",
    "from sklearn.metrics import r2_score, mean_squared_error\n",
    "\n",
    "%matplotlib inline\n",
    "%load_ext autoreload\n",
    "%autoreload 2"
   ]
  },
  {
   "cell_type": "code",
   "execution_count": 2,
   "metadata": {
    "collapsed": false
   },
   "outputs": [],
   "source": [
    "from modules.prediction import load_all_data\n",
    "from modules.prediction import precrime_train_test_split\n",
    "from modules.prediction import load_splits\n",
    "from modules.prediction import create_all_splits\n",
    "from modules.prediction import sample_model\n"
   ]
  },
  {
   "cell_type": "code",
   "execution_count": 3,
   "metadata": {
    "collapsed": false
   },
   "outputs": [
    {
     "name": "stderr",
     "output_type": "stream",
     "text": [
      "/usr/local/lib/python3.6/site-packages/numpy/lib/arraysetops.py:463: FutureWarning: elementwise comparison failed; returning scalar instead, but in the future will perform elementwise comparison\n",
      "  mask |= (ar1 == a)\n"
     ]
    }
   ],
   "source": [
    "crime_data = load_all_data()\n",
    "splits = load_splits()\n",
    "train_test_data = create_all_splits(crime_data, splits)"
   ]
  },
  {
   "cell_type": "code",
   "execution_count": 4,
   "metadata": {
    "collapsed": false
   },
   "outputs": [],
   "source": [
    "X_train_fine, X_test_fine, y_train_fine, y_test_fine = train_test_data['fine']\n",
    "X_train_coarse, X_test_coarse, y_train_coarse, y_test_coarse = train_test_data['coarse']\n",
    "X_train_2016, X_test_2016, y_train_2016, y_test_2016 = train_test_data['2016']"
   ]
  },
  {
   "cell_type": "code",
   "execution_count": 286,
   "metadata": {
    "collapsed": true
   },
   "outputs": [
    {
     "name": "stdout",
     "output_type": "stream",
     "text": [
      "calculating for the time stamp: 2008-10-1-0\n",
      "X created for 2008-10-1-0 X shape:(77, 540)\n",
      "done for 2008-10-1-0\n",
      "calculating for the time stamp: 2008-10-1-4\n",
      "X created for 2008-10-1-4 X shape:(77, 540)\n",
      "done for 2008-10-1-4\n",
      "calculating for the time stamp: 2008-10-1-0\n",
      "X created for 2008-10-1-0 X shape:(77, 540)\n",
      "done for 2008-10-1-0\n",
      "calculating for the time stamp: 2008-10-1-4\n",
      "X created for 2008-10-1-4 X shape:(77, 540)\n",
      "done for 2008-10-1-4\n",
      "calculating for the time stamp: 2008-10-1-0\n",
      "X created for 2008-10-1-0 X shape:(77, 540)\n",
      "done for 2008-10-1-0\n",
      "calculating for the time stamp: 2008-10-1-4\n",
      "X created for 2008-10-1-4 X shape:(77, 540)\n",
      "done for 2008-10-1-4\n",
      "calculating for the time stamp: 2008-10-1-0\n",
      "X created for 2008-10-1-0 X shape:(77, 540)\n",
      "done for 2008-10-1-0\n",
      "calculating for the time stamp: 2008-10-1-4\n",
      "X created for 2008-10-1-4 X shape:(77, 540)\n",
      "done for 2008-10-1-4\n",
      "calculating for the time stamp: 2008-10-1-0\n",
      "X created for 2008-10-1-0 X shape:(77, 540)\n",
      "done for 2008-10-1-0\n",
      "calculating for the time stamp: 2008-10-1-4\n",
      "X created for 2008-10-1-4 X shape:(77, 540)\n",
      "done for 2008-10-1-4\n",
      "calculating for the time stamp: 2008-10-1-0\n",
      "X created for 2008-10-1-0 X shape:(77, 540)\n",
      "done for 2008-10-1-0\n",
      "calculating for the time stamp: 2008-10-1-4\n",
      "X created for 2008-10-1-4 X shape:(77, 540)\n",
      "done for 2008-10-1-4\n",
      "calculating for the time stamp: 2008-10-1-0\n",
      "X created for 2008-10-1-0 X shape:(77, 540)\n",
      "done for 2008-10-1-0\n",
      "calculating for the time stamp: 2008-10-1-4\n",
      "X created for 2008-10-1-4 X shape:(77, 540)\n",
      "done for 2008-10-1-4\n",
      "calculating for the time stamp: 2008-10-1-0\n",
      "X created for 2008-10-1-0 X shape:(77, 540)\n",
      "done for 2008-10-1-0\n",
      "calculating for the time stamp: 2008-10-1-4\n",
      "X created for 2008-10-1-4 X shape:(77, 540)\n",
      "done for 2008-10-1-4\n",
      "calculating for the time stamp: 2008-10-1-0\n",
      "X created for 2008-10-1-0 X shape:(77, 540)\n",
      "done for 2008-10-1-0\n",
      "calculating for the time stamp: 2008-10-1-4\n",
      "X created for 2008-10-1-4 X shape:(77, 540)\n",
      "done for 2008-10-1-4\n",
      "calculating for the time stamp: 2008-10-1-0\n",
      "X created for 2008-10-1-0 X shape:(77, 540)\n",
      "done for 2008-10-1-0\n",
      "calculating for the time stamp: 2008-10-1-4\n",
      "X created for 2008-10-1-4 X shape:(77, 540)\n",
      "done for 2008-10-1-4\n",
      "calculating for the time stamp: 2008-10-1-0\n",
      "X created for 2008-10-1-0 X shape:(77, 540)\n",
      "done for 2008-10-1-0\n",
      "calculating for the time stamp: 2008-10-1-4\n",
      "X created for 2008-10-1-4 X shape:(77, 540)\n",
      "done for 2008-10-1-4\n",
      "calculating for the time stamp: 2008-10-1-0\n",
      "X created for 2008-10-1-0 X shape:(77, 540)\n",
      "done for 2008-10-1-0\n",
      "calculating for the time stamp: 2008-10-1-4\n",
      "X created for 2008-10-1-4 X shape:(77, 540)\n",
      "done for 2008-10-1-4\n",
      "calculating for the time stamp: 2008-10-1-0\n",
      "X created for 2008-10-1-0 X shape:(77, 540)\n",
      "done for 2008-10-1-0\n",
      "calculating for the time stamp: 2008-10-1-4\n",
      "X created for 2008-10-1-4 X shape:(77, 540)\n",
      "done for 2008-10-1-4\n",
      "calculating for the time stamp: 2008-10-1-0\n",
      "X created for 2008-10-1-0 X shape:(77, 540)\n",
      "done for 2008-10-1-0\n",
      "calculating for the time stamp: 2008-10-1-4\n",
      "X created for 2008-10-1-4 X shape:(77, 540)\n",
      "done for 2008-10-1-4\n"
     ]
    }
   ],
   "source": [
    "from modules.nmf import nmf_modelnmf\n",
    "model_coarse = nmf_model(X_train_coarse, y_train_coarse, X_test_coarse.head(100))\n",
    "crimes=['Homicide', 'Rape', 'Robbery', 'FelonyAssault', 'Burglary',\n",
    "       'GrandLarceny', 'GrandLarcenyAuto', 'Fraud', 'Forgery', 'Arson',\n",
    "       'Drugs', 'Weapons', 'CriminalMischief', 'Other']\n",
    "model_coarse_dct={}\n",
    "for crime in crimes:\n",
    "    \n",
    "    model_coarse_dct[crime]=model_coarse.fit(crime)"
   ]
  },
  {
   "cell_type": "code",
   "execution_count": 298,
   "metadata": {
    "collapsed": false
   },
   "outputs": [
    {
     "name": "stdout",
     "output_type": "stream",
     "text": [
      "Homicide: R2 = -1.0, MSE = 0.0100\n",
      "Rape: R2 = -2.0, MSE = 0.0200\n",
      "Robbery: R2 = -183.5, MSE = 0.2322\n",
      "FelonyAssault: R2 = -106.5, MSE = 0.0793\n",
      "Burglary: R2 = -45.1, MSE = 0.0818\n",
      "GrandLarceny: R2 = 1.4, MSE = 0.4410\n",
      "GrandLarcenyAuto: R2 = -9.6, MSE = 0.1026\n",
      "Fraud: R2 = -7.5, MSE = 0.0700\n",
      "Forgery: R2 = -7.3, MSE = 0.0699\n",
      "Arson: R2 = -78.0, MSE = 0.0176\n",
      "Drugs: R2 = -26.3, MSE = 0.0965\n",
      "Weapons: R2 = -269.8, MSE = 0.0366\n",
      "CriminalMischief: R2 = -43.5, MSE = 0.0281\n",
      "Other: R2 = -13.9, MSE = 0.1294\n"
     ]
    }
   ],
   "source": [
    "\n",
    "for crime_type in y_train_coarse.select_dtypes(exclude=['object']).columns:\n",
    "    print('{0}: R2 = {1:.1f}, MSE = {2:.4f}'.format(\n",
    "            crime_type,\n",
    "            100*r2_score(y_test_fine[crime_type].head(100), model_coarse_dct['Other'][crime_type]),\n",
    "            mean_squared_error(y_test_fine[crime_type].head(100), model_coarse_dct['Other'][crime_type]\n",
    "    )))"
   ]
  },
  {
   "cell_type": "code",
   "execution_count": 296,
   "metadata": {
    "collapsed": false
   },
   "outputs": [],
   "source": [
    "os.makedirs('../model_predictions/coarse/', exist_ok=True)\n",
    "model_coarse_dct['Other'].to_csv('../model_predictions/coarse/nmf.csv', quoting=csv.QUOTE_NONNUMERIC)"
   ]
  },
  {
   "cell_type": "code",
   "execution_count": 295,
   "metadata": {
    "collapsed": false
   },
   "outputs": [
    {
     "name": "stdout",
     "output_type": "stream",
     "text": [
      "calculating for the time stamp: 2016-1-1-0\n",
      "X created for 2016-1-1-0 X shape:(77, 540)\n",
      "done for 2016-1-1-0\n",
      "calculating for the time stamp: 2016-1-1-4\n",
      "X created for 2016-1-1-4 X shape:(77, 540)\n",
      "done for 2016-1-1-4\n",
      "calculating for the time stamp: 2016-1-1-0\n",
      "X created for 2016-1-1-0 X shape:(77, 540)\n",
      "done for 2016-1-1-0\n",
      "calculating for the time stamp: 2016-1-1-4\n",
      "X created for 2016-1-1-4 X shape:(77, 540)\n",
      "done for 2016-1-1-4\n",
      "calculating for the time stamp: 2016-1-1-0\n",
      "X created for 2016-1-1-0 X shape:(77, 540)\n",
      "done for 2016-1-1-0\n",
      "calculating for the time stamp: 2016-1-1-4\n",
      "X created for 2016-1-1-4 X shape:(77, 540)\n",
      "done for 2016-1-1-4\n",
      "calculating for the time stamp: 2016-1-1-0\n",
      "X created for 2016-1-1-0 X shape:(77, 540)\n",
      "done for 2016-1-1-0\n",
      "calculating for the time stamp: 2016-1-1-4\n",
      "X created for 2016-1-1-4 X shape:(77, 540)\n",
      "done for 2016-1-1-4\n",
      "calculating for the time stamp: 2016-1-1-0\n",
      "X created for 2016-1-1-0 X shape:(77, 540)\n",
      "done for 2016-1-1-0\n",
      "calculating for the time stamp: 2016-1-1-4\n",
      "X created for 2016-1-1-4 X shape:(77, 540)\n",
      "done for 2016-1-1-4\n",
      "calculating for the time stamp: 2016-1-1-0\n"
     ]
    },
    {
     "ename": "KeyboardInterrupt",
     "evalue": "",
     "output_type": "error",
     "traceback": [
      "\u001b[0;31m---------------------------------------------------------------------------\u001b[0m",
      "\u001b[0;31mKeyboardInterrupt\u001b[0m                         Traceback (most recent call last)",
      "\u001b[0;32m<ipython-input-295-b1976b6821af>\u001b[0m in \u001b[0;36m<module>\u001b[0;34m()\u001b[0m\n\u001b[1;32m      7\u001b[0m \u001b[0;32mfor\u001b[0m \u001b[0mcrime\u001b[0m \u001b[0;32min\u001b[0m \u001b[0mcrimes\u001b[0m\u001b[0;34m:\u001b[0m\u001b[0;34m\u001b[0m\u001b[0m\n\u001b[1;32m      8\u001b[0m \u001b[0;34m\u001b[0m\u001b[0m\n\u001b[0;32m----> 9\u001b[0;31m     \u001b[0mmodel_2016_dct\u001b[0m\u001b[0;34m[\u001b[0m\u001b[0mcrime\u001b[0m\u001b[0;34m]\u001b[0m\u001b[0;34m=\u001b[0m\u001b[0mmodel_2016\u001b[0m\u001b[0;34m.\u001b[0m\u001b[0mfit\u001b[0m\u001b[0;34m(\u001b[0m\u001b[0mcrime\u001b[0m\u001b[0;34m)\u001b[0m\u001b[0;34m\u001b[0m\u001b[0m\n\u001b[0m",
      "\u001b[0;32m~/Desktop/fall2017/capstone/precrime/exploratory-notebooks/modules/nmf.py\u001b[0m in \u001b[0;36mfit\u001b[0;34m(self, crime_type)\u001b[0m\n\u001b[1;32m     82\u001b[0m                 \u001b[0mt_stamp\u001b[0m\u001b[0;34m=\u001b[0m\u001b[0;34m[\u001b[0m\u001b[0;34m''\u001b[0m\u001b[0;34m]\u001b[0m\u001b[0;34m*\u001b[0m\u001b[0mlen\u001b[0m\u001b[0;34m(\u001b[0m\u001b[0mself\u001b[0m\u001b[0;34m.\u001b[0m\u001b[0mcode2idx\u001b[0m\u001b[0;34m.\u001b[0m\u001b[0mkeys\u001b[0m\u001b[0;34m(\u001b[0m\u001b[0;34m)\u001b[0m\u001b[0;34m)\u001b[0m\u001b[0;34m\u001b[0m\u001b[0m\n\u001b[1;32m     83\u001b[0m                 \u001b[0mp_date_val\u001b[0m\u001b[0;34m=\u001b[0m\u001b[0;34m'-'\u001b[0m\u001b[0;34m.\u001b[0m\u001b[0mjoin\u001b[0m\u001b[0;34m(\u001b[0m\u001b[0mlist\u001b[0m\u001b[0;34m(\u001b[0m\u001b[0mmap\u001b[0m\u001b[0;34m(\u001b[0m\u001b[0mstr\u001b[0m\u001b[0;34m,\u001b[0m\u001b[0mp_date\u001b[0m\u001b[0;34m)\u001b[0m\u001b[0;34m)\u001b[0m\u001b[0;34m)\u001b[0m\u001b[0;34m\u001b[0m\u001b[0m\n\u001b[0;32m---> 84\u001b[0;31m                 \u001b[0mtemp\u001b[0m\u001b[0;34m=\u001b[0m\u001b[0mself\u001b[0m\u001b[0;34m.\u001b[0m\u001b[0mtrain_features\u001b[0m\u001b[0;34m.\u001b[0m\u001b[0mloc\u001b[0m\u001b[0;34m[\u001b[0m\u001b[0mself\u001b[0m\u001b[0;34m.\u001b[0m\u001b[0mtrain_features\u001b[0m\u001b[0;34m[\u001b[0m\u001b[0;34m'COMPLAINT_DAY_HOUR'\u001b[0m\u001b[0;34m]\u001b[0m \u001b[0;34m==\u001b[0m \u001b[0mp_date_val\u001b[0m\u001b[0;34m]\u001b[0m\u001b[0;34m\u001b[0m\u001b[0m\n\u001b[0m\u001b[1;32m     85\u001b[0m                 \u001b[0;32mif\u001b[0m \u001b[0;32mnot\u001b[0m \u001b[0mlen\u001b[0m\u001b[0;34m(\u001b[0m\u001b[0mtemp\u001b[0m\u001b[0;34m)\u001b[0m\u001b[0;34m:\u001b[0m\u001b[0;34m\u001b[0m\u001b[0m\n\u001b[1;32m     86\u001b[0m                     \u001b[0mtemp\u001b[0m\u001b[0;34m=\u001b[0m\u001b[0mself\u001b[0m\u001b[0;34m.\u001b[0m\u001b[0mtest_features\u001b[0m\u001b[0;34m.\u001b[0m\u001b[0mloc\u001b[0m\u001b[0;34m[\u001b[0m\u001b[0mself\u001b[0m\u001b[0;34m.\u001b[0m\u001b[0mtest_features\u001b[0m\u001b[0;34m[\u001b[0m\u001b[0;34m'COMPLAINT_DAY_HOUR'\u001b[0m\u001b[0;34m]\u001b[0m \u001b[0;34m==\u001b[0m \u001b[0mp_date_val\u001b[0m\u001b[0;34m]\u001b[0m\u001b[0;34m\u001b[0m\u001b[0m\n",
      "\u001b[0;32m/usr/local/lib/python3.6/site-packages/pandas/core/ops.py\u001b[0m in \u001b[0;36mwrapper\u001b[0;34m(self, other, axis)\u001b[0m\n\u001b[1;32m    877\u001b[0m \u001b[0;34m\u001b[0m\u001b[0m\n\u001b[1;32m    878\u001b[0m             \u001b[0;32mwith\u001b[0m \u001b[0mnp\u001b[0m\u001b[0;34m.\u001b[0m\u001b[0merrstate\u001b[0m\u001b[0;34m(\u001b[0m\u001b[0mall\u001b[0m\u001b[0;34m=\u001b[0m\u001b[0;34m'ignore'\u001b[0m\u001b[0;34m)\u001b[0m\u001b[0;34m:\u001b[0m\u001b[0;34m\u001b[0m\u001b[0m\n\u001b[0;32m--> 879\u001b[0;31m                 \u001b[0mres\u001b[0m \u001b[0;34m=\u001b[0m \u001b[0mna_op\u001b[0m\u001b[0;34m(\u001b[0m\u001b[0mvalues\u001b[0m\u001b[0;34m,\u001b[0m \u001b[0mother\u001b[0m\u001b[0;34m)\u001b[0m\u001b[0;34m\u001b[0m\u001b[0m\n\u001b[0m\u001b[1;32m    880\u001b[0m             \u001b[0;32mif\u001b[0m \u001b[0mis_scalar\u001b[0m\u001b[0;34m(\u001b[0m\u001b[0mres\u001b[0m\u001b[0;34m)\u001b[0m\u001b[0;34m:\u001b[0m\u001b[0;34m\u001b[0m\u001b[0m\n\u001b[1;32m    881\u001b[0m                 raise TypeError('Could not compare {typ} type with Series'\n",
      "\u001b[0;32m/usr/local/lib/python3.6/site-packages/pandas/core/ops.py\u001b[0m in \u001b[0;36mna_op\u001b[0;34m(x, y)\u001b[0m\n\u001b[1;32m    781\u001b[0m \u001b[0;34m\u001b[0m\u001b[0m\n\u001b[1;32m    782\u001b[0m         \u001b[0;32mif\u001b[0m \u001b[0mis_object_dtype\u001b[0m\u001b[0;34m(\u001b[0m\u001b[0mx\u001b[0m\u001b[0;34m.\u001b[0m\u001b[0mdtype\u001b[0m\u001b[0;34m)\u001b[0m\u001b[0;34m:\u001b[0m\u001b[0;34m\u001b[0m\u001b[0m\n\u001b[0;32m--> 783\u001b[0;31m             \u001b[0mresult\u001b[0m \u001b[0;34m=\u001b[0m \u001b[0m_comp_method_OBJECT_ARRAY\u001b[0m\u001b[0;34m(\u001b[0m\u001b[0mop\u001b[0m\u001b[0;34m,\u001b[0m \u001b[0mx\u001b[0m\u001b[0;34m,\u001b[0m \u001b[0my\u001b[0m\u001b[0;34m)\u001b[0m\u001b[0;34m\u001b[0m\u001b[0m\n\u001b[0m\u001b[1;32m    784\u001b[0m         \u001b[0;32melse\u001b[0m\u001b[0;34m:\u001b[0m\u001b[0;34m\u001b[0m\u001b[0m\n\u001b[1;32m    785\u001b[0m \u001b[0;34m\u001b[0m\u001b[0m\n",
      "\u001b[0;32m/usr/local/lib/python3.6/site-packages/pandas/core/ops.py\u001b[0m in \u001b[0;36m_comp_method_OBJECT_ARRAY\u001b[0;34m(op, x, y)\u001b[0m\n\u001b[1;32m    761\u001b[0m         \u001b[0mresult\u001b[0m \u001b[0;34m=\u001b[0m \u001b[0mlib\u001b[0m\u001b[0;34m.\u001b[0m\u001b[0mvec_compare\u001b[0m\u001b[0;34m(\u001b[0m\u001b[0mx\u001b[0m\u001b[0;34m,\u001b[0m \u001b[0my\u001b[0m\u001b[0;34m,\u001b[0m \u001b[0mop\u001b[0m\u001b[0;34m)\u001b[0m\u001b[0;34m\u001b[0m\u001b[0m\n\u001b[1;32m    762\u001b[0m     \u001b[0;32melse\u001b[0m\u001b[0;34m:\u001b[0m\u001b[0;34m\u001b[0m\u001b[0m\n\u001b[0;32m--> 763\u001b[0;31m         \u001b[0mresult\u001b[0m \u001b[0;34m=\u001b[0m \u001b[0mlib\u001b[0m\u001b[0;34m.\u001b[0m\u001b[0mscalar_compare\u001b[0m\u001b[0;34m(\u001b[0m\u001b[0mx\u001b[0m\u001b[0;34m,\u001b[0m \u001b[0my\u001b[0m\u001b[0;34m,\u001b[0m \u001b[0mop\u001b[0m\u001b[0;34m)\u001b[0m\u001b[0;34m\u001b[0m\u001b[0m\n\u001b[0m\u001b[1;32m    764\u001b[0m     \u001b[0;32mreturn\u001b[0m \u001b[0mresult\u001b[0m\u001b[0;34m\u001b[0m\u001b[0m\n\u001b[1;32m    765\u001b[0m \u001b[0;34m\u001b[0m\u001b[0m\n",
      "\u001b[0;31mKeyboardInterrupt\u001b[0m: "
     ]
    }
   ],
   "source": [
    "from modules.nmf import nmf_model\n",
    "model_2016 = nmf_model(X_train_2016, y_train_2016, X_test_2016.head(100))\n",
    "crimes=['Homicide', 'Rape', 'Robbery', 'FelonyAssault', 'Burglary',\n",
    "       'GrandLarceny', 'GrandLarcenyAuto', 'Fraud', 'Forgery', 'Arson',\n",
    "       'Drugs', 'Weapons', 'CriminalMischief', 'Other']\n",
    "model_2016_dct={}\n",
    "for crime in crimes:\n",
    "    \n",
    "    model_2016_dct[crime]=model_2016.fit(crime)"
   ]
  }
 ],
 "metadata": {
  "kernelspec": {
   "display_name": "Python 3",
   "language": "python",
   "name": "python3"
  },
  "language_info": {
   "codemirror_mode": {
    "name": "ipython",
    "version": 3
   },
   "file_extension": ".py",
   "mimetype": "text/x-python",
   "name": "python",
   "nbconvert_exporter": "python",
   "pygments_lexer": "ipython3",
   "version": "3.6.3"
  }
 },
 "nbformat": 4,
 "nbformat_minor": 2
}
