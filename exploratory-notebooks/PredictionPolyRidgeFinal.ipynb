{
 "cells": [
  {
   "cell_type": "code",
   "execution_count": 1,
   "metadata": {
    "collapsed": true
   },
   "outputs": [],
   "source": [
    "import numpy as np\n",
    "import pandas as pd\n",
    "import seaborn\n",
    "import matplotlib.pyplot as plt\n",
    "import datetime\n",
    "import csv\n",
    "import os\n",
    "from sklearn.metrics import r2_score, mean_squared_error\n",
    "\n",
    "%matplotlib inline\n",
    "%load_ext autoreload\n",
    "%autoreload 2"
   ]
  },
  {
   "cell_type": "code",
   "execution_count": 2,
   "metadata": {
    "collapsed": true
   },
   "outputs": [],
   "source": [
    "from modules.prediction import load_all_data\n",
    "from modules.prediction import precrime_train_test_split\n",
    "from modules.prediction import load_splits\n",
    "from modules.prediction import create_all_splits\n",
    "from modules.prediction import sample_model\n",
    "from modules.poly_ridge import poly_ridge_model\n",
    "from modules.eval_model import eval_predictions"
   ]
  },
  {
   "cell_type": "code",
   "execution_count": 3,
   "metadata": {
    "collapsed": false
   },
   "outputs": [
    {
     "name": "stderr",
     "output_type": "stream",
     "text": [
      "/Users/jsamet/anaconda2/envs/py3k/lib/python3.6/site-packages/numpy/lib/arraysetops.py:463: FutureWarning: elementwise comparison failed; returning scalar instead, but in the future will perform elementwise comparison\n",
      "  mask |= (ar1 == a)\n"
     ]
    }
   ],
   "source": [
    "crime_data = load_all_data()\n",
    "splits = load_splits()\n",
    "train_test_data = create_all_splits(crime_data, splits)"
   ]
  },
  {
   "cell_type": "code",
   "execution_count": 4,
   "metadata": {
    "collapsed": true
   },
   "outputs": [],
   "source": [
    "X_train_fine, X_test_fine, y_train_fine, y_test_fine = train_test_data['fine']\n",
    "X_train_coarse, X_test_coarse, y_train_coarse, y_test_coarse = train_test_data['coarse']\n",
    "X_train_2016, X_test_2016, y_train_2016, y_test_2016 = train_test_data['2016']"
   ]
  },
  {
   "cell_type": "code",
   "execution_count": 5,
   "metadata": {
    "collapsed": true
   },
   "outputs": [],
   "source": [
    "y_poly_fine = poly_ridge_model(X_train_fine, y_train_fine, X_test_fine)\n",
    "y_poly_coarse = poly_ridge_model(X_train_coarse, y_train_coarse, X_test_coarse)\n",
    "y_poly_2016 = poly_ridge_model(X_train_2016, y_train_2016, X_test_2016)"
   ]
  },
  {
   "cell_type": "code",
   "execution_count": 6,
   "metadata": {
    "collapsed": false
   },
   "outputs": [
    {
     "name": "stdout",
     "output_type": "stream",
     "text": [
      "------------------------------------------------------------------\n",
      "Four-hour buckets:\n",
      "------------------------------------------------------------------\n",
      "Homicide:         R2 =      0.3, RMSE =     0.054, RMSE (%) =  1954.125\n",
      "Rape:             R2 =      0.5, RMSE =     0.122, RMSE (%) =   875.009\n",
      "Robbery:          R2 =      4.8, RMSE =     0.349, RMSE (%) =   301.658\n",
      "FelonyAssault:    R2 =      5.1, RMSE =     0.365, RMSE (%) =   332.094\n",
      "Burglary:         R2 =      3.8, RMSE =     0.346, RMSE (%) =   313.868\n",
      "GrandLarceny:     R2 =     12.8, RMSE =     0.524, RMSE (%) =   208.714\n",
      "GrandLarcenyAuto: R2 =      4.0, RMSE =     0.247, RMSE (%) =   419.259\n",
      "Fraud:            R2 =      2.3, RMSE =     0.183, RMSE (%) =   573.995\n",
      "Forgery:          R2 =      2.3, RMSE =     0.183, RMSE (%) =   617.558\n",
      "Arson:            R2 =      0.4, RMSE =     0.094, RMSE (%) =  1182.312\n",
      "Drugs:            R2 =      3.8, RMSE =     0.200, RMSE (%) =   558.053\n",
      "Weapons:          R2 =      3.0, RMSE =     0.177, RMSE (%) =   602.698\n",
      "CriminalMischief: R2 =      1.8, RMSE =     0.230, RMSE (%) =   523.046\n",
      "Other:            R2 =      4.0, RMSE =     0.284, RMSE (%) =   371.554\n",
      "\n",
      "------------------------------------------------------------------\n",
      "Days:\n",
      "------------------------------------------------------------------\n",
      "Homicide:         R2 =      0.4, RMSE =     0.062, RMSE (%) =  1737.925\n",
      "Rape:             R2 =      1.0, RMSE =     0.138, RMSE (%) =   780.018\n",
      "Robbery:          R2 =      8.5, RMSE =     0.394, RMSE (%) =   267.823\n",
      "FelonyAssault:    R2 =      8.8, RMSE =     0.413, RMSE (%) =   295.553\n",
      "Burglary:         R2 =      6.3, RMSE =     0.391, RMSE (%) =   279.593\n",
      "GrandLarceny:     R2 =     18.9, RMSE =     0.594, RMSE (%) =   186.251\n",
      "GrandLarcenyAuto: R2 =      6.0, RMSE =     0.279, RMSE (%) =   372.841\n",
      "Fraud:            R2 =      3.2, RMSE =     0.207, RMSE (%) =   511.735\n",
      "Forgery:          R2 =      3.5, RMSE =     0.207, RMSE (%) =   549.724\n",
      "Arson:            R2 =      0.7, RMSE =     0.106, RMSE (%) =  1048.207\n",
      "Drugs:            R2 =      5.6, RMSE =     0.226, RMSE (%) =   496.706\n",
      "Weapons:          R2 =      4.3, RMSE =     0.199, RMSE (%) =   534.429\n",
      "CriminalMischief: R2 =      3.1, RMSE =     0.260, RMSE (%) =   466.465\n",
      "Other:            R2 =      6.6, RMSE =     0.320, RMSE (%) =   330.334\n",
      "\n",
      "------------------------------------------------------------------\n",
      "Days (All Precincts):\n",
      "------------------------------------------------------------------\n",
      "Homicide:         R2 =     11.5, RMSE =     0.543, RMSE (%) =   199.268\n",
      "Rape:             R2 =     10.8, RMSE =     2.073, RMSE (%) =   152.636\n",
      "Robbery:          R2 =     71.9, RMSE =     4.026, RMSE (%) =    35.546\n",
      "FelonyAssault:    R2 =     69.1, RMSE =     4.204, RMSE (%) =    39.116\n",
      "Burglary:         R2 =     69.0, RMSE =     3.922, RMSE (%) =    36.409\n",
      "GrandLarceny:     R2 =     81.8, RMSE =     6.725, RMSE (%) =    27.402\n",
      "GrandLarcenyAuto: R2 =     65.9, RMSE =     2.673, RMSE (%) =    46.397\n",
      "Fraud:            R2 =     42.9, RMSE =     2.796, RMSE (%) =    89.600\n",
      "Forgery:          R2 =     51.8, RMSE =     1.925, RMSE (%) =    66.296\n",
      "Arson:            R2 =     16.9, RMSE =     0.971, RMSE (%) =   125.057\n",
      "Drugs:            R2 =     59.5, RMSE =     2.236, RMSE (%) =    63.769\n",
      "Weapons:          R2 =     50.0, RMSE =     1.892, RMSE (%) =    66.012\n",
      "CriminalMischief: R2 =     46.9, RMSE =     2.488, RMSE (%) =    57.885\n",
      "Other:            R2 =     64.7, RMSE =     2.885, RMSE (%) =    38.616\n",
      "\n"
     ]
    }
   ],
   "source": [
    "eval_predictions(X_test_fine, y_test_fine, y_poly_fine)"
   ]
  },
  {
   "cell_type": "code",
   "execution_count": 7,
   "metadata": {
    "collapsed": false
   },
   "outputs": [
    {
     "name": "stdout",
     "output_type": "stream",
     "text": [
      "------------------------------------------------------------------\n",
      "Four-hour buckets:\n",
      "------------------------------------------------------------------\n",
      "Homicide:         R2 =      0.2, RMSE =     0.050, RMSE (%) =  2093.946\n",
      "Rape:             R2 =      0.6, RMSE =     0.122, RMSE (%) =   860.606\n",
      "Robbery:          R2 =      4.7, RMSE =     0.346, RMSE (%) =   303.417\n",
      "FelonyAssault:    R2 =      5.9, RMSE =     0.375, RMSE (%) =   320.693\n",
      "Burglary:         R2 =      3.2, RMSE =     0.331, RMSE (%) =   323.295\n",
      "GrandLarceny:     R2 =     12.3, RMSE =     0.531, RMSE (%) =   204.567\n",
      "GrandLarcenyAuto: R2 =      3.5, RMSE =     0.234, RMSE (%) =   439.711\n",
      "Fraud:            R2 =      2.1, RMSE =     0.175, RMSE (%) =   595.846\n",
      "Forgery:          R2 =      1.9, RMSE =     0.177, RMSE (%) =   629.669\n",
      "Arson:            R2 =      0.5, RMSE =     0.090, RMSE (%) =  1228.189\n",
      "Drugs:            R2 =      3.2, RMSE =     0.188, RMSE (%) =   581.364\n",
      "Weapons:          R2 =      3.5, RMSE =     0.183, RMSE (%) =   581.304\n",
      "CriminalMischief: R2 =      1.9, RMSE =     0.227, RMSE (%) =   479.262\n",
      "Other:            R2 =      4.1, RMSE =     0.292, RMSE (%) =   363.001\n",
      "\n",
      "------------------------------------------------------------------\n",
      "Days:\n",
      "------------------------------------------------------------------\n",
      "Homicide:         R2 =      1.0, RMSE =     0.125, RMSE (%) =   870.667\n",
      "Rape:             R2 =      2.2, RMSE =     0.304, RMSE (%) =   356.928\n",
      "Robbery:          R2 =     17.1, RMSE =     0.863, RMSE (%) =   126.021\n",
      "FelonyAssault:    R2 =     22.1, RMSE =     0.939, RMSE (%) =   133.749\n",
      "Burglary:         R2 =     12.4, RMSE =     0.835, RMSE (%) =   135.791\n",
      "GrandLarceny:     R2 =     35.0, RMSE =     1.330, RMSE (%) =    85.361\n",
      "GrandLarcenyAuto: R2 =     11.8, RMSE =     0.585, RMSE (%) =   183.426\n",
      "Fraud:            R2 =      4.4, RMSE =     0.434, RMSE (%) =   245.685\n",
      "Forgery:          R2 =      6.5, RMSE =     0.447, RMSE (%) =   265.407\n",
      "Arson:            R2 =      2.3, RMSE =     0.224, RMSE (%) =   508.275\n",
      "Drugs:            R2 =     12.2, RMSE =     0.472, RMSE (%) =   243.030\n",
      "Weapons:          R2 =     12.1, RMSE =     0.457, RMSE (%) =   241.844\n",
      "CriminalMischief: R2 =      7.5, RMSE =     0.568, RMSE (%) =   199.496\n",
      "Other:            R2 =     16.5, RMSE =     0.722, RMSE (%) =   149.593\n",
      "\n",
      "------------------------------------------------------------------\n",
      "Days (All Precincts):\n",
      "------------------------------------------------------------------\n",
      "Homicide:         R2 =      3.8, RMSE =     1.050, RMSE (%) =    95.226\n",
      "Rape:             R2 =      5.6, RMSE =     5.216, RMSE (%) =    79.513\n",
      "Robbery:          R2 =     44.5, RMSE =     9.563, RMSE (%) =    18.145\n",
      "FelonyAssault:    R2 =     63.3, RMSE =    10.201, RMSE (%) =    18.865\n",
      "Burglary:         R2 =     62.0, RMSE =     8.816, RMSE (%) =    18.618\n",
      "GrandLarceny:     R2 =     43.3, RMSE =    18.038, RMSE (%) =    15.040\n",
      "GrandLarcenyAuto: R2 =     50.7, RMSE =     5.499, RMSE (%) =    22.378\n",
      "Fraud:            R2 =     22.1, RMSE =     6.665, RMSE (%) =    48.986\n",
      "Forgery:          R2 =     41.8, RMSE =     4.185, RMSE (%) =    32.245\n",
      "Arson:            R2 =     18.6, RMSE =     2.059, RMSE (%) =    60.705\n",
      "Drugs:            R2 =     54.1, RMSE =     5.449, RMSE (%) =    36.438\n",
      "Weapons:          R2 =     40.8, RMSE =     4.576, RMSE (%) =    31.442\n",
      "CriminalMischief: R2 =     45.7, RMSE =     5.238, RMSE (%) =    23.896\n",
      "Other:            R2 =     43.5, RMSE =     6.517, RMSE (%) =    17.526\n",
      "\n"
     ]
    }
   ],
   "source": [
    "eval_predictions(X_test_coarse, y_test_coarse, y_poly_coarse)"
   ]
  },
  {
   "cell_type": "code",
   "execution_count": 8,
   "metadata": {
    "collapsed": false,
    "scrolled": false
   },
   "outputs": [
    {
     "name": "stdout",
     "output_type": "stream",
     "text": [
      "------------------------------------------------------------------\n",
      "Four-hour buckets:\n",
      "------------------------------------------------------------------\n",
      "Homicide:         R2 =      0.2, RMSE =     0.045, RMSE (%) =  2380.479\n",
      "Rape:             R2 =      0.3, RMSE =     0.113, RMSE (%) =   904.613\n",
      "Robbery:          R2 =      3.7, RMSE =     0.310, RMSE (%) =   338.893\n",
      "FelonyAssault:    R2 =      5.3, RMSE =     0.380, RMSE (%) =   310.747\n",
      "Burglary:         R2 =      0.2, RMSE =     0.286, RMSE (%) =   376.370\n",
      "GrandLarceny:     R2 =      9.7, RMSE =     0.522, RMSE (%) =   209.635\n",
      "GrandLarcenyAuto: R2 =      1.2, RMSE =     0.195, RMSE (%) =   526.950\n",
      "Fraud:            R2 =      1.2, RMSE =     0.155, RMSE (%) =   665.719\n",
      "Forgery:          R2 =      1.8, RMSE =     0.199, RMSE (%) =   560.366\n",
      "Arson:            R2 =      0.1, RMSE =     0.071, RMSE (%) =  1604.211\n",
      "Drugs:            R2 =      1.7, RMSE =     0.175, RMSE (%) =   624.149\n",
      "Weapons:          R2 =      3.4, RMSE =     0.185, RMSE (%) =   573.605\n",
      "CriminalMischief: R2 =      1.5, RMSE =     0.254, RMSE (%) =   443.767\n",
      "Other:            R2 =      3.8, RMSE =     0.302, RMSE (%) =   354.305\n",
      "\n",
      "------------------------------------------------------------------\n",
      "Days:\n",
      "------------------------------------------------------------------\n",
      "Homicide:         R2 =      0.7, RMSE =     0.110, RMSE (%) =   976.484\n",
      "Rape:             R2 =      1.2, RMSE =     0.279, RMSE (%) =   371.135\n",
      "Robbery:          R2 =     14.5, RMSE =     0.774, RMSE (%) =   141.128\n",
      "FelonyAssault:    R2 =     21.2, RMSE =     0.948, RMSE (%) =   129.215\n",
      "Burglary:         R2 =      3.1, RMSE =     0.725, RMSE (%) =   159.125\n",
      "GrandLarceny:     R2 =     26.9, RMSE =     1.338, RMSE (%) =    89.535\n",
      "GrandLarcenyAuto: R2 =      3.4, RMSE =     0.491, RMSE (%) =   221.429\n",
      "Fraud:            R2 =      2.6, RMSE =     0.384, RMSE (%) =   275.132\n",
      "Forgery:          R2 =      5.9, RMSE =     0.512, RMSE (%) =   240.009\n",
      "Arson:            R2 =      0.4, RMSE =     0.175, RMSE (%) =   662.394\n",
      "Drugs:            R2 =      5.4, RMSE =     0.442, RMSE (%) =   263.337\n",
      "Weapons:          R2 =     12.3, RMSE =     0.463, RMSE (%) =   239.308\n",
      "CriminalMischief: R2 =      5.6, RMSE =     0.638, RMSE (%) =   186.029\n",
      "Other:            R2 =     14.7, RMSE =     0.762, RMSE (%) =   148.873\n",
      "\n",
      "------------------------------------------------------------------\n",
      "Days (All Precincts):\n",
      "------------------------------------------------------------------\n",
      "Homicide:         R2 =      0.7, RMSE =     0.954, RMSE (%) =   109.848\n",
      "Rape:             R2 =      6.4, RMSE =     3.071, RMSE (%) =    52.987\n",
      "Robbery:          R2 =    -35.6, RMSE =     9.204, RMSE (%) =    21.793\n",
      "FelonyAssault:    R2 =     43.4, RMSE =    10.454, RMSE (%) =    18.513\n",
      "Burglary:         R2 =   -106.5, RMSE =    11.320, RMSE (%) =    32.278\n",
      "GrandLarceny:     R2 =    -76.7, RMSE =    24.972, RMSE (%) =    21.709\n",
      "GrandLarcenyAuto: R2 =    -42.5, RMSE =     6.293, RMSE (%) =    36.871\n",
      "Fraud:            R2 =      6.9, RMSE =     4.797, RMSE (%) =    44.614\n",
      "Forgery:          R2 =     38.3, RMSE =     4.978, RMSE (%) =    30.305\n",
      "Arson:            R2 =    -24.8, RMSE =     1.734, RMSE (%) =    85.211\n",
      "Drugs:            R2 =     53.2, RMSE =     4.328, RMSE (%) =    33.462\n",
      "Weapons:          R2 =     25.7, RMSE =     5.018, RMSE (%) =    33.717\n",
      "CriminalMischief: R2 =     -1.6, RMSE =     6.250, RMSE (%) =    23.662\n",
      "Other:            R2 =      7.7, RMSE =     7.659, RMSE (%) =    19.429\n",
      "\n"
     ]
    }
   ],
   "source": [
    "eval_predictions(X_test_2016, y_test_2016, y_poly_2016)"
   ]
  }
 ],
 "metadata": {
  "kernelspec": {
   "display_name": "Python 3",
   "language": "python",
   "name": "python3"
  },
  "language_info": {
   "codemirror_mode": {
    "name": "ipython",
    "version": 3
   },
   "file_extension": ".py",
   "mimetype": "text/x-python",
   "name": "python",
   "nbconvert_exporter": "python",
   "pygments_lexer": "ipython3",
   "version": "3.6.0"
  }
 },
 "nbformat": 4,
 "nbformat_minor": 2
}
