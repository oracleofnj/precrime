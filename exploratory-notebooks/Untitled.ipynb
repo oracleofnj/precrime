{
 "cells": [
  {
   "cell_type": "code",
   "execution_count": 1,
   "metadata": {
    "collapsed": true
   },
   "outputs": [],
   "source": [
    "import numpy as np\n",
    "from sklearn.metrics import r2_score, mean_squared_error"
   ]
  },
  {
   "cell_type": "code",
   "execution_count": 11,
   "metadata": {
    "collapsed": true
   },
   "outputs": [],
   "source": [
    "p = 0.5\n",
    "data = np.random.binomial(1, p, size=500)\n",
    "pred = p * np.ones_like(data)"
   ]
  },
  {
   "cell_type": "code",
   "execution_count": 12,
   "metadata": {
    "collapsed": false
   },
   "outputs": [
    {
     "name": "stdout",
     "output_type": "stream",
     "text": [
      "R2 =     -0.4, RMSE =     0.500, RMSE (%) =    94.340\n"
     ]
    }
   ],
   "source": [
    "r2 = r2_score(data, pred)\n",
    "rmse = np.sqrt(\n",
    "    mean_squared_error(data, pred)\n",
    ")\n",
    "underlying_mean = np.mean(data)\n",
    "\n",
    "print(('R2 = {0:8.1f}, ' +\n",
    "       'RMSE = {1:9.3f}, ' +\n",
    "       'RMSE (%) = {2:9.3f}').format(\n",
    "        100*r2,\n",
    "        rmse,\n",
    "        100*rmse/underlying_mean\n",
    "))\n"
   ]
  },
  {
   "cell_type": "code",
   "execution_count": null,
   "metadata": {
    "collapsed": true
   },
   "outputs": [],
   "source": []
  }
 ],
 "metadata": {
  "kernelspec": {
   "display_name": "Python 3",
   "language": "python",
   "name": "python3"
  },
  "language_info": {
   "codemirror_mode": {
    "name": "ipython",
    "version": 3
   },
   "file_extension": ".py",
   "mimetype": "text/x-python",
   "name": "python",
   "nbconvert_exporter": "python",
   "pygments_lexer": "ipython3",
   "version": "3.6.0"
  }
 },
 "nbformat": 4,
 "nbformat_minor": 2
}
