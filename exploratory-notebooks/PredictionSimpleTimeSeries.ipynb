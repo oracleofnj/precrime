{
 "cells": [
  {
   "cell_type": "code",
   "execution_count": 1,
   "metadata": {},
   "outputs": [],
   "source": [
    "import numpy as np\n",
    "import pandas as pd\n",
    "import seaborn\n",
    "import matplotlib.pyplot as plt\n",
    "import datetime\n",
    "import csv\n",
    "import os\n",
    "from sklearn.metrics import r2_score, mean_squared_error\n",
    "from IPython.display import display\n",
    "\n",
    "%matplotlib inline\n",
    "%load_ext autoreload\n",
    "%autoreload 2"
   ]
  },
  {
   "cell_type": "code",
   "execution_count": 2,
   "metadata": {},
   "outputs": [],
   "source": [
    "from modules.prediction import load_all_data\n",
    "from modules.prediction import precrime_train_test_split\n",
    "from modules.prediction import load_splits\n",
    "from modules.prediction import create_all_splits\n",
    "from modules.prediction import sample_model\n",
    "from modules.simple_time_series import simple_time_series_model\n",
    "from modules.eval_model import eval_predictions"
   ]
  },
  {
   "cell_type": "code",
   "execution_count": 3,
   "metadata": {},
   "outputs": [
    {
     "name": "stderr",
     "output_type": "stream",
     "text": [
      "/Users/jsamet/anaconda/lib/python3.6/site-packages/numpy/lib/arraysetops.py:463: FutureWarning: elementwise comparison failed; returning scalar instead, but in the future will perform elementwise comparison\n",
      "  mask |= (ar1 == a)\n"
     ]
    }
   ],
   "source": [
    "crime_data = load_all_data()\n",
    "splits = load_splits()\n",
    "train_test_data = create_all_splits(crime_data, splits)"
   ]
  },
  {
   "cell_type": "code",
   "execution_count": 4,
   "metadata": {},
   "outputs": [],
   "source": [
    "X_train_fine, X_test_fine, y_train_fine, y_test_fine = train_test_data['fine']\n",
    "X_train_coarse, X_test_coarse, y_train_coarse, y_test_coarse = train_test_data['coarse']\n",
    "X_train_2016, X_test_2016, y_train_2016, y_test_2016 = train_test_data['2016']"
   ]
  },
  {
   "cell_type": "code",
   "execution_count": 5,
   "metadata": {},
   "outputs": [],
   "source": [
    "y_ts_fine = simple_time_series_model(X_train_fine, y_train_fine, X_test_fine, y_test_fine)\n",
    "y_ts_coarse = simple_time_series_model(X_train_coarse, y_train_coarse, X_test_coarse, y_test_coarse)\n",
    "y_ts_2016 = simple_time_series_model(X_train_2016, y_train_2016, X_test_2016, y_test_2016)"
   ]
  },
  {
   "cell_type": "code",
   "execution_count": 6,
   "metadata": {},
   "outputs": [
    {
     "name": "stdout",
     "output_type": "stream",
     "text": [
      "------------------------------------------------------------------\n",
      "Four-hour buckets:\n",
      "------------------------------------------------------------------\n",
      "Homicide:         R2 =    -20.0, RMSE =     0.060, RMSE (%) =  2143.289\n",
      "Rape:             R2 =    -18.8, RMSE =     0.133, RMSE (%) =   956.153\n",
      "Robbery:          R2 =    -13.2, RMSE =     0.381, RMSE (%) =   328.924\n",
      "FelonyAssault:    R2 =    -13.0, RMSE =     0.398, RMSE (%) =   362.422\n",
      "Burglary:         R2 =    -13.4, RMSE =     0.375, RMSE (%) =   340.812\n",
      "GrandLarceny:     R2 =      0.7, RMSE =     0.559, RMSE (%) =   222.733\n",
      "GrandLarcenyAuto: R2 =    -14.5, RMSE =     0.270, RMSE (%) =   457.720\n",
      "Fraud:            R2 =    -15.6, RMSE =     0.199, RMSE (%) =   624.481\n",
      "Forgery:          R2 =    -14.2, RMSE =     0.198, RMSE (%) =   667.583\n",
      "Arson:            R2 =    -20.8, RMSE =     0.103, RMSE (%) =  1302.002\n",
      "Drugs:            R2 =    -11.1, RMSE =     0.215, RMSE (%) =   599.847\n",
      "Weapons:          R2 =    -14.5, RMSE =     0.192, RMSE (%) =   654.605\n",
      "CriminalMischief: R2 =    -15.8, RMSE =     0.249, RMSE (%) =   567.918\n",
      "Other:            R2 =    -13.6, RMSE =     0.309, RMSE (%) =   404.239\n",
      "\n",
      "------------------------------------------------------------------\n",
      "Days:\n",
      "------------------------------------------------------------------\n",
      "Homicide:         R2 =    -19.7, RMSE =     0.067, RMSE (%) =  1905.447\n",
      "Rape:             R2 =    -18.2, RMSE =     0.150, RMSE (%) =   852.052\n",
      "Robbery:          R2 =     -8.6, RMSE =     0.429, RMSE (%) =   291.862\n",
      "FelonyAssault:    R2 =     -8.3, RMSE =     0.450, RMSE (%) =   322.029\n",
      "Burglary:         R2 =    -10.0, RMSE =     0.424, RMSE (%) =   303.023\n",
      "GrandLarceny:     R2 =      8.2, RMSE =     0.632, RMSE (%) =   198.218\n",
      "GrandLarcenyAuto: R2 =    -11.9, RMSE =     0.304, RMSE (%) =   406.683\n",
      "Fraud:            R2 =    -14.4, RMSE =     0.225, RMSE (%) =   556.364\n",
      "Forgery:          R2 =    -12.5, RMSE =     0.224, RMSE (%) =   593.399\n",
      "Arson:            R2 =    -20.4, RMSE =     0.116, RMSE (%) =  1154.469\n",
      "Drugs:            R2 =     -8.8, RMSE =     0.243, RMSE (%) =   533.226\n",
      "Weapons:          R2 =    -12.8, RMSE =     0.216, RMSE (%) =   580.015\n",
      "CriminalMischief: R2 =    -14.0, RMSE =     0.282, RMSE (%) =   505.840\n",
      "Other:            R2 =    -10.2, RMSE =     0.348, RMSE (%) =   358.803\n",
      "\n",
      "------------------------------------------------------------------\n",
      "Days (All Precincts):\n",
      "------------------------------------------------------------------\n",
      "Homicide:         R2 =     -6.0, RMSE =     0.594, RMSE (%) =   218.077\n",
      "Rape:             R2 =     -0.8, RMSE =     2.204, RMSE (%) =   162.247\n",
      "Robbery:          R2 =     69.3, RMSE =     4.208, RMSE (%) =    37.155\n",
      "FelonyAssault:    R2 =     63.7, RMSE =     4.561, RMSE (%) =    42.436\n",
      "Burglary:         R2 =     68.5, RMSE =     3.957, RMSE (%) =    36.730\n",
      "GrandLarceny:     R2 =     79.5, RMSE =     7.140, RMSE (%) =    29.092\n",
      "GrandLarcenyAuto: R2 =     60.3, RMSE =     2.885, RMSE (%) =    50.068\n",
      "Fraud:            R2 =     34.8, RMSE =     2.986, RMSE (%) =    95.696\n",
      "Forgery:          R2 =     44.5, RMSE =     2.066, RMSE (%) =    71.182\n",
      "Arson:            R2 =      3.1, RMSE =     1.049, RMSE (%) =   135.042\n",
      "Drugs:            R2 =     56.9, RMSE =     2.309, RMSE (%) =    65.837\n",
      "Weapons:          R2 =     44.0, RMSE =     2.002, RMSE (%) =    69.835\n",
      "CriminalMischief: R2 =     39.0, RMSE =     2.665, RMSE (%) =    62.024\n",
      "Other:            R2 =     58.2, RMSE =     3.140, RMSE (%) =    42.034\n",
      "\n"
     ]
    }
   ],
   "source": [
    "eval_predictions(X_test_fine, y_test_fine, y_ts_fine)"
   ]
  },
  {
   "cell_type": "code",
   "execution_count": 7,
   "metadata": {},
   "outputs": [
    {
     "name": "stdout",
     "output_type": "stream",
     "text": [
      "------------------------------------------------------------------\n",
      "Four-hour buckets:\n",
      "------------------------------------------------------------------\n",
      "Homicide:         R2 =    -18.8, RMSE =     0.055, RMSE (%) =  2284.914\n",
      "Rape:             R2 =    -19.1, RMSE =     0.134, RMSE (%) =   941.800\n",
      "Robbery:          R2 =    -12.5, RMSE =     0.376, RMSE (%) =   329.583\n",
      "FelonyAssault:    R2 =    -11.3, RMSE =     0.408, RMSE (%) =   348.695\n",
      "Burglary:         R2 =    -14.4, RMSE =     0.360, RMSE (%) =   351.528\n",
      "GrandLarceny:     R2 =      0.5, RMSE =     0.566, RMSE (%) =   217.953\n",
      "GrandLarcenyAuto: R2 =    -14.5, RMSE =     0.255, RMSE (%) =   478.932\n",
      "Fraud:            R2 =    -16.4, RMSE =     0.191, RMSE (%) =   649.797\n",
      "Forgery:          R2 =    -14.7, RMSE =     0.191, RMSE (%) =   680.949\n",
      "Arson:            R2 =    -19.1, RMSE =     0.099, RMSE (%) =  1343.295\n",
      "Drugs:            R2 =    -12.1, RMSE =     0.203, RMSE (%) =   625.704\n",
      "Weapons:          R2 =    -12.5, RMSE =     0.198, RMSE (%) =   627.465\n",
      "CriminalMischief: R2 =    -16.8, RMSE =     0.248, RMSE (%) =   523.016\n",
      "Other:            R2 =    -13.3, RMSE =     0.318, RMSE (%) =   394.656\n",
      "\n",
      "------------------------------------------------------------------\n",
      "Days:\n",
      "------------------------------------------------------------------\n",
      "Homicide:         R2 =    -17.8, RMSE =     0.136, RMSE (%) =   949.708\n",
      "Rape:             R2 =    -17.8, RMSE =     0.334, RMSE (%) =   391.867\n",
      "Robbery:          R2 =      3.0, RMSE =     0.933, RMSE (%) =   136.364\n",
      "FelonyAssault:    R2 =     10.0, RMSE =     1.010, RMSE (%) =   143.757\n",
      "Burglary:         R2 =     -1.7, RMSE =     0.900, RMSE (%) =   146.350\n",
      "GrandLarceny:     R2 =     26.5, RMSE =     1.414, RMSE (%) =    90.763\n",
      "GrandLarcenyAuto: R2 =     -3.7, RMSE =     0.635, RMSE (%) =   198.867\n",
      "Fraud:            R2 =    -13.1, RMSE =     0.472, RMSE (%) =   267.193\n",
      "Forgery:          R2 =     -6.0, RMSE =     0.476, RMSE (%) =   282.534\n",
      "Arson:            R2 =    -16.3, RMSE =     0.244, RMSE (%) =   554.686\n",
      "Drugs:            R2 =      2.1, RMSE =     0.498, RMSE (%) =   256.682\n",
      "Weapons:          R2 =      0.4, RMSE =     0.487, RMSE (%) =   257.492\n",
      "CriminalMischief: R2 =     -7.5, RMSE =     0.612, RMSE (%) =   215.063\n",
      "Other:            R2 =      2.4, RMSE =     0.781, RMSE (%) =   161.793\n",
      "\n",
      "------------------------------------------------------------------\n",
      "Days (All Precincts):\n",
      "------------------------------------------------------------------\n",
      "Homicide:         R2 =     -8.9, RMSE =     1.118, RMSE (%) =   101.355\n",
      "Rape:             R2 =    -19.7, RMSE =     5.873, RMSE (%) =    89.526\n",
      "Robbery:          R2 =     48.7, RMSE =     9.199, RMSE (%) =    17.454\n",
      "FelonyAssault:    R2 =     52.8, RMSE =    11.572, RMSE (%) =    21.400\n",
      "Burglary:         R2 =     63.4, RMSE =     8.645, RMSE (%) =    18.258\n",
      "GrandLarceny:     R2 =     45.0, RMSE =    17.769, RMSE (%) =    14.816\n",
      "GrandLarcenyAuto: R2 =     46.6, RMSE =     5.723, RMSE (%) =    23.289\n",
      "Fraud:            R2 =      6.5, RMSE =     7.298, RMSE (%) =    53.640\n",
      "Forgery:          R2 =     36.5, RMSE =     4.373, RMSE (%) =    33.687\n",
      "Arson:            R2 =     11.5, RMSE =     2.146, RMSE (%) =    63.279\n",
      "Drugs:            R2 =     53.9, RMSE =     5.461, RMSE (%) =    36.520\n",
      "Weapons:          R2 =     31.8, RMSE =     4.911, RMSE (%) =    33.742\n",
      "CriminalMischief: R2 =     34.7, RMSE =     5.741, RMSE (%) =    26.188\n",
      "Other:            R2 =     33.0, RMSE =     7.096, RMSE (%) =    19.083\n",
      "\n"
     ]
    }
   ],
   "source": [
    "eval_predictions(X_test_coarse, y_test_coarse, y_ts_coarse)"
   ]
  },
  {
   "cell_type": "code",
   "execution_count": 8,
   "metadata": {},
   "outputs": [
    {
     "name": "stdout",
     "output_type": "stream",
     "text": [
      "------------------------------------------------------------------\n",
      "Four-hour buckets:\n",
      "------------------------------------------------------------------\n",
      "Homicide:         R2 =    -19.4, RMSE =     0.049, RMSE (%) =  2603.355\n",
      "Rape:             R2 =    -19.8, RMSE =     0.124, RMSE (%) =   991.948\n",
      "Robbery:          R2 =    -13.4, RMSE =     0.336, RMSE (%) =   367.911\n",
      "FelonyAssault:    R2 =    -11.9, RMSE =     0.413, RMSE (%) =   337.855\n",
      "Burglary:         R2 =    -17.4, RMSE =     0.310, RMSE (%) =   408.249\n",
      "GrandLarceny:     R2 =     -3.1, RMSE =     0.558, RMSE (%) =   224.013\n",
      "GrandLarcenyAuto: R2 =    -17.3, RMSE =     0.212, RMSE (%) =   574.197\n",
      "Fraud:            R2 =    -17.6, RMSE =     0.169, RMSE (%) =   726.302\n",
      "Forgery:          R2 =    -12.7, RMSE =     0.213, RMSE (%) =   600.130\n",
      "Arson:            R2 =    -19.4, RMSE =     0.077, RMSE (%) =  1753.834\n",
      "Drugs:            R2 =    -14.1, RMSE =     0.188, RMSE (%) =   672.322\n",
      "Weapons:          R2 =    -12.3, RMSE =     0.199, RMSE (%) =   618.468\n",
      "CriminalMischief: R2 =    -16.7, RMSE =     0.276, RMSE (%) =   483.111\n",
      "Other:            R2 =    -13.4, RMSE =     0.328, RMSE (%) =   384.649\n",
      "\n",
      "------------------------------------------------------------------\n",
      "Days:\n",
      "------------------------------------------------------------------\n",
      "Homicide:         R2 =    -19.5, RMSE =     0.121, RMSE (%) =  1070.861\n",
      "Rape:             R2 =    -18.0, RMSE =     0.305, RMSE (%) =   405.542\n",
      "Robbery:          R2 =      0.8, RMSE =     0.834, RMSE (%) =   151.997\n",
      "FelonyAssault:    R2 =      8.9, RMSE =     1.019, RMSE (%) =   138.958\n",
      "Burglary:         R2 =     -8.1, RMSE =     0.766, RMSE (%) =   168.124\n",
      "GrandLarceny:     R2 =     20.4, RMSE =     1.396, RMSE (%) =    93.436\n",
      "GrandLarcenyAuto: R2 =    -10.6, RMSE =     0.525, RMSE (%) =   236.897\n",
      "Fraud:            R2 =    -14.5, RMSE =     0.417, RMSE (%) =   298.301\n",
      "Forgery:          R2 =     -0.9, RMSE =     0.530, RMSE (%) =   248.502\n",
      "Arson:            R2 =    -17.6, RMSE =     0.190, RMSE (%) =   719.678\n",
      "Drugs:            R2 =     -4.0, RMSE =     0.464, RMSE (%) =   276.093\n",
      "Weapons:          R2 =      0.9, RMSE =     0.492, RMSE (%) =   254.421\n",
      "CriminalMischief: R2 =     -8.1, RMSE =     0.683, RMSE (%) =   199.108\n",
      "Other:            R2 =      1.8, RMSE =     0.818, RMSE (%) =   159.712\n",
      "\n",
      "------------------------------------------------------------------\n",
      "Days (All Precincts):\n",
      "------------------------------------------------------------------\n",
      "Homicide:         R2 =    -14.2, RMSE =     1.023, RMSE (%) =   117.786\n",
      "Rape:             R2 =      2.9, RMSE =     3.128, RMSE (%) =    53.971\n",
      "Robbery:          R2 =    -10.5, RMSE =     8.308, RMSE (%) =    19.671\n",
      "FelonyAssault:    R2 =     32.3, RMSE =    11.429, RMSE (%) =    20.239\n",
      "Burglary:         R2 =     14.8, RMSE =     7.270, RMSE (%) =    20.730\n",
      "GrandLarceny:     R2 =     10.7, RMSE =    17.751, RMSE (%) =    15.432\n",
      "GrandLarcenyAuto: R2 =      8.8, RMSE =     5.035, RMSE (%) =    29.501\n",
      "Fraud:            R2 =     21.1, RMSE =     4.415, RMSE (%) =    41.062\n",
      "Forgery:          R2 =     27.9, RMSE =     5.383, RMSE (%) =    32.768\n",
      "Arson:            R2 =    -15.4, RMSE =     1.668, RMSE (%) =    81.967\n",
      "Drugs:            R2 =     43.6, RMSE =     4.750, RMSE (%) =    36.723\n",
      "Weapons:          R2 =     29.1, RMSE =     4.903, RMSE (%) =    32.947\n",
      "CriminalMischief: R2 =     -4.9, RMSE =     6.351, RMSE (%) =    24.044\n",
      "Other:            R2 =     -2.8, RMSE =     8.081, RMSE (%) =    20.499\n",
      "\n"
     ]
    }
   ],
   "source": [
    "eval_predictions(X_test_2016, y_test_2016, y_ts_2016)"
   ]
  }
 ],
 "metadata": {
  "kernelspec": {
   "display_name": "Python 3",
   "language": "python",
   "name": "python3"
  },
  "language_info": {
   "codemirror_mode": {
    "name": "ipython",
    "version": 3
   },
   "file_extension": ".py",
   "mimetype": "text/x-python",
   "name": "python",
   "nbconvert_exporter": "python",
   "pygments_lexer": "ipython3",
   "version": "3.6.1"
  }
 },
 "nbformat": 4,
 "nbformat_minor": 2
}
