{
 "cells": [
  {
   "cell_type": "code",
   "execution_count": 1,
   "metadata": {
    "collapsed": false
   },
   "outputs": [],
   "source": [
    "%load_ext autoreload\n",
    "%autoreload 2\n",
    "\n",
    "import numpy as np\n",
    "import matplotlib.pyplot as plt\n",
    "\n",
    "from modules.nyc_shapefiles import read_nyc_shapefiles"
   ]
  },
  {
   "cell_type": "code",
   "execution_count": 2,
   "metadata": {
    "collapsed": false
   },
   "outputs": [
    {
     "name": "stdout",
     "output_type": "stream",
     "text": [
      "Mean number of tracts per precinct: 40.103896103896105\n",
      "Mean number of precincts per tract: 1.4263279445727484\n"
     ]
    }
   ],
   "source": [
    "precinct_dict, tract_dict, merged_census_info = read_nyc_shapefiles()\n",
    "print('Mean number of tracts per precinct: {0}'.format(\n",
    "    np.mean([len(v['intersections']) for k, v in precinct_dict.items()])\n",
    "))\n",
    "print('Mean number of precincts per tract: {0}'.format(\n",
    "    np.mean([len(v['intersections']) for k, v in tract_dict.items()])\n",
    "))"
   ]
  },
  {
   "cell_type": "code",
   "execution_count": 3,
   "metadata": {
    "collapsed": false
   },
   "outputs": [
    {
     "name": "stdout",
     "output_type": "stream",
     "text": [
      "---Keys---\n",
      "shape_orig <class 'shapely.geometry.polygon.Polygon'>\n",
      "shape_gps <class 'shapely.geometry.polygon.Polygon'>\n",
      "intersections <class 'dict'>\n",
      "properties <class 'collections.OrderedDict'>\n",
      "census_info <class 'pandas.core.series.Series'>\n",
      "total_intersection_area <class 'float'>\n",
      "\n"
     ]
    },
    {
     "data": {
      "text/plain": [
       "{'census_info': GEO.id2                                                  36005036100\n",
       " GEO.display-label           Census Tract 361, Bronx County, New York\n",
       " Population                                                      6099\n",
       " Median_Household_Income                                        18799\n",
       " Percent_Bachelors_Degree                                         7.8\n",
       " Name: 1400000US36005036100, dtype: object,\n",
       " 'intersections': {'30': {'intersection_area_absolute': 1760194.0239685476,\n",
       "   'intersection_area_percent_of_tract': 1.0}},\n",
       " 'properties': OrderedDict([('CTLabel', '361'),\n",
       "              ('BoroCode', '2'),\n",
       "              ('BoroName', 'Bronx'),\n",
       "              ('CT2010', '036100'),\n",
       "              ('BoroCT2010', '2036100'),\n",
       "              ('CDEligibil', 'E'),\n",
       "              ('NTACode', 'BX17'),\n",
       "              ('NTAName', 'East Tremont'),\n",
       "              ('PUMA', '3705'),\n",
       "              ('Shape_Leng', 5701.06188867),\n",
       "              ('Shape_Area', 1760194.02397)]),\n",
       " 'shape_gps': <shapely.geometry.polygon.Polygon at 0x112720588>,\n",
       " 'shape_orig': <shapely.geometry.polygon.Polygon at 0x112720550>,\n",
       " 'total_intersection_area': 1760194.0239685476}"
      ]
     },
     "execution_count": 3,
     "metadata": {},
     "output_type": "execute_result"
    }
   ],
   "source": [
    "print('---Keys---')\n",
    "for k, v in tract_dict['1407'].items():\n",
    "    print(k, type(v))\n",
    "print()\n",
    "\n",
    "tract_dict['1407']"
   ]
  },
  {
   "cell_type": "code",
   "execution_count": 4,
   "metadata": {
    "collapsed": false
   },
   "outputs": [
    {
     "name": "stdout",
     "output_type": "stream",
     "text": [
      "---Keys---\n",
      "shape_orig\n",
      "shape_gps\n",
      "intersections\n",
      "properties\n",
      "total_population\n",
      "\n"
     ]
    },
    {
     "data": {
      "text/plain": [
       "{'intersections': {'100': {'population_assigned_to_precinct': 1181.8216337416325,\n",
       "   'population_percent_of_precinct': 0.012841349882442173},\n",
       "  '104': {'population_assigned_to_precinct': 1927.2504157944732,\n",
       "   'population_percent_of_precinct': 0.020940974673094751},\n",
       "  '106': {'population_assigned_to_precinct': 204.34002173250809,\n",
       "   'population_percent_of_precinct': 0.0022203026574707536},\n",
       "  '1117': {'population_assigned_to_precinct': 2139.6336508152008,\n",
       "   'population_percent_of_precinct': 0.02324867268115334},\n",
       "  '1118': {'population_assigned_to_precinct': 2449.1770533113008,\n",
       "   'population_percent_of_precinct': 0.026612086433082542},\n",
       "  '1216': {'population_assigned_to_precinct': 442.23527710202677,\n",
       "   'population_percent_of_precinct': 0.0048052072846615388},\n",
       "  '1232': {'population_assigned_to_precinct': 0.00070366883070973338,\n",
       "   'population_percent_of_precinct': 7.645872607615594e-09},\n",
       "  '1240': {'population_assigned_to_precinct': 2375.0,\n",
       "   'population_percent_of_precinct': 0.025806098907026457},\n",
       "  '1241': {'population_assigned_to_precinct': 6521.9999378568382,\n",
       "   'population_percent_of_precinct': 0.070866263354927989},\n",
       "  '1259': {'population_assigned_to_precinct': 0.00033481589554676606,\n",
       "   'population_percent_of_precinct': 3.6380177331050456e-09},\n",
       "  '1260': {'population_assigned_to_precinct': 674.21851430374738,\n",
       "   'population_percent_of_precinct': 0.0073258735431877631},\n",
       "  '1261': {'population_assigned_to_precinct': 4863.0,\n",
       "   'population_percent_of_precinct': 0.052840024835734592},\n",
       "  '1359': {'population_assigned_to_precinct': 0.00012346845533686717,\n",
       "   'population_percent_of_precinct': 1.3415743875035675e-09},\n",
       "  '1360': {'population_assigned_to_precinct': 0.00015162997249908492,\n",
       "   'population_percent_of_precinct': 1.6475697126657207e-09},\n",
       "  '1522': {'population_assigned_to_precinct': 979.9323498189641,\n",
       "   'population_percent_of_precinct': 0.010647676270157069},\n",
       "  '1831': {'population_assigned_to_precinct': 5269.8170882962922,\n",
       "   'population_percent_of_precinct': 0.05726038779053149},\n",
       "  '1832': {'population_assigned_to_precinct': 0.00010471226856206723,\n",
       "   'population_percent_of_precinct': 1.1377748039123469e-09},\n",
       "  '692': {'population_assigned_to_precinct': 1914.0,\n",
       "   'population_percent_of_precinct': 0.020796999287599427},\n",
       "  '693': {'population_assigned_to_precinct': 3737.0,\n",
       "   'population_percent_of_precinct': 0.040605217522340156},\n",
       "  '72': {'population_assigned_to_precinct': 2573.6539510076136,\n",
       "   'population_percent_of_precinct': 0.02796461827880501},\n",
       "  '73': {'population_assigned_to_precinct': 3780.0,\n",
       "   'population_percent_of_precinct': 0.041072443734130527},\n",
       "  '74': {'population_assigned_to_precinct': 0.00014975893358389517,\n",
       "   'population_percent_of_precinct': 1.6272395167481282e-09},\n",
       "  '75': {'population_assigned_to_precinct': 4015.0,\n",
       "   'population_percent_of_precinct': 0.043625889310194198},\n",
       "  '750': {'population_assigned_to_precinct': 2176.9998654199103,\n",
       "   'population_percent_of_precinct': 0.02365468372530926},\n",
       "  '795': {'population_assigned_to_precinct': 4987.0,\n",
       "   'population_percent_of_precinct': 0.054187374841827764},\n",
       "  '80': {'population_assigned_to_precinct': 3855.0,\n",
       "   'population_percent_of_precinct': 0.041887373173299783},\n",
       "  '82': {'population_assigned_to_precinct': 2103.999999697849,\n",
       "   'population_percent_of_precinct': 0.022861487196878454},\n",
       "  '822': {'population_assigned_to_precinct': 7.1509448023563204e-05,\n",
       "   'population_percent_of_precinct': 7.7700205830860619e-10},\n",
       "  '84': {'population_assigned_to_precinct': 3973.0,\n",
       "   'population_percent_of_precinct': 0.043169528824259416},\n",
       "  '855': {'population_assigned_to_precinct': 2540.0,\n",
       "   'population_percent_of_precinct': 0.02759894367319882},\n",
       "  '884': {'population_assigned_to_precinct': 2747.1243404394636,\n",
       "   'population_percent_of_precinct': 0.029849499974433945},\n",
       "  '916': {'population_assigned_to_precinct': 2625.9997892304768,\n",
       "   'population_percent_of_precinct': 0.028533393806615709},\n",
       "  '92': {'population_assigned_to_precinct': 2002.0,\n",
       "   'population_percent_of_precinct': 0.021753183162891352},\n",
       "  '935': {'population_assigned_to_precinct': 4273.0,\n",
       "   'population_percent_of_precinct': 0.046429246580936438},\n",
       "  '938': {'population_assigned_to_precinct': 3522.0,\n",
       "   'population_percent_of_precinct': 0.038269086463388287},\n",
       "  '939': {'population_assigned_to_precinct': 3558.0,\n",
       "   'population_percent_of_precinct': 0.03866025259418953},\n",
       "  '95': {'population_assigned_to_precinct': 3531.0,\n",
       "   'population_percent_of_precinct': 0.038366877996088594},\n",
       "  '97': {'population_assigned_to_precinct': 2685.0,\n",
       "   'population_percent_of_precinct': 0.029174473922259383},\n",
       "  '976': {'population_assigned_to_precinct': 2404.3023126147368,\n",
       "   'population_percent_of_precinct': 0.026124489802832985}},\n",
       " 'properties': OrderedDict([('Precinct', 79),\n",
       "              ('Shape_Leng', 28256.6021125),\n",
       "              ('Shape_Area', 44975546.9316)]),\n",
       " 'shape_gps': <shapely.geometry.polygon.Polygon at 0x1150eb3c8>,\n",
       " 'shape_orig': <shapely.geometry.polygon.Polygon at 0x1150eb390>,\n",
       " 'total_population': 92032.50784074681}"
      ]
     },
     "execution_count": 4,
     "metadata": {},
     "output_type": "execute_result"
    }
   ],
   "source": [
    "print('---Keys---')\n",
    "for k in precinct_dict['50']:\n",
    "    print(k)\n",
    "print()\n",
    "\n",
    "precinct_dict['50']"
   ]
  },
  {
   "cell_type": "code",
   "execution_count": 5,
   "metadata": {
    "collapsed": false
   },
   "outputs": [
    {
     "name": "stdout",
     "output_type": "stream",
     "text": [
      "8426743.0\n",
      "8426743\n",
      "8426743\n"
     ]
    }
   ],
   "source": [
    "print(np.sum([d['total_population'] for d in precinct_dict.values()]))\n",
    "print(np.sum(merged_census_info['Population']))\n",
    "print(np.sum([d['census_info']['Population'] for d in tract_dict.values()]))"
   ]
  },
  {
   "cell_type": "code",
   "execution_count": null,
   "metadata": {
    "collapsed": true
   },
   "outputs": [],
   "source": []
  }
 ],
 "metadata": {
  "kernelspec": {
   "display_name": "Python 3",
   "language": "python",
   "name": "python3"
  },
  "language_info": {
   "codemirror_mode": {
    "name": "ipython",
    "version": 3
   },
   "file_extension": ".py",
   "mimetype": "text/x-python",
   "name": "python",
   "nbconvert_exporter": "python",
   "pygments_lexer": "ipython3",
   "version": "3.6.1"
  }
 },
 "nbformat": 4,
 "nbformat_minor": 2
}
