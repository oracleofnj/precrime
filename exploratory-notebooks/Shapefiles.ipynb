{
 "cells": [
  {
   "cell_type": "code",
   "execution_count": 1,
   "metadata": {
    "collapsed": false
   },
   "outputs": [],
   "source": [
    "import numpy as np\n",
    "import matplotlib.pyplot as plt\n",
    "\n",
    "import fiona\n",
    "import pyproj\n",
    "from shapely.geometry import shape, MultiPolygon, Polygon\n",
    "from shapely.geos import TopologicalError\n",
    "from descartes.patch import PolygonPatch\n"
   ]
  },
  {
   "cell_type": "code",
   "execution_count": 2,
   "metadata": {
    "collapsed": true
   },
   "outputs": [],
   "source": [
    "precincts = fiona.open(\"../shapefiles/police_precincts/nypp.shp\")"
   ]
  },
  {
   "cell_type": "code",
   "execution_count": 3,
   "metadata": {
    "collapsed": true
   },
   "outputs": [],
   "source": [
    "tracts = fiona.open(\"../shapefiles/census_tracts/nyct2010.shp\")"
   ]
  },
  {
   "cell_type": "code",
   "execution_count": 4,
   "metadata": {
    "collapsed": true
   },
   "outputs": [],
   "source": [
    "def convert_geometry_to_gps(geometry, orig_proj):\n",
    "    original = pyproj.Proj(orig_proj, preserve_units=True)\n",
    "    destination = pyproj.Proj(init='epsg:4326')\n",
    "\n",
    "    if geometry['type'] == 'Polygon':\n",
    "        return shape({\n",
    "            'type': 'Polygon',\n",
    "            'coordinates': [\n",
    "                [\n",
    "                    pyproj.transform(original, destination, x, y)\n",
    "                    for (x,y) in path\n",
    "                ]\n",
    "                for path in geometry['coordinates']\n",
    "            ]\n",
    "        })\n",
    "    elif geometry['type'] == 'MultiPolygon':\n",
    "        return shape({\n",
    "            'type': 'MultiPolygon',\n",
    "            'coordinates': [\n",
    "                [\n",
    "                    [\n",
    "                        pyproj.transform(original, destination, x, y)\n",
    "                        for (x,y) in path\n",
    "                    ]\n",
    "                    for path in polygon\n",
    "                ]\n",
    "                for polygon in geometry['coordinates']\n",
    "            ]\n",
    "        })\n",
    "    else:\n",
    "        return None\n"
   ]
  },
  {
   "cell_type": "code",
   "execution_count": 5,
   "metadata": {
    "collapsed": false,
    "scrolled": false
   },
   "outputs": [
    {
     "name": "stdout",
     "output_type": "stream",
     "text": [
      "Processing tract 0\n",
      "Processing tract 50\n",
      "Processing tract 100\n",
      "Processing tract 150\n",
      "Processing tract 200\n",
      "Processing tract 250\n",
      "Processing tract 300\n",
      "Processing tract 350\n",
      "Processing tract 400\n",
      "Processing tract 450\n",
      "Processing tract 500\n",
      "Processing tract 550\n",
      "Processing tract 600\n",
      "Processing tract 650\n",
      "Processing tract 700\n",
      "Processing tract 750\n",
      "Processing tract 800\n",
      "Processing tract 850\n",
      "Processing tract 900\n",
      "Processing tract 950\n",
      "Processing tract 1000\n",
      "Processing tract 1050\n",
      "Processing tract 1100\n",
      "Processing tract 1150\n",
      "Processing tract 1200\n",
      "Processing tract 1250\n",
      "Processing tract 1300\n",
      "Processing tract 1350\n",
      "Processing tract 1400\n",
      "Processing tract 1450\n",
      "Processing tract 1500\n",
      "Processing tract 1550\n",
      "Processing tract 1600\n",
      "Processing tract 1650\n",
      "Processing tract 1700\n",
      "Processing tract 1750\n",
      "Processing tract 1800\n",
      "Processing tract 1850\n",
      "Processing tract 1900\n",
      "Processing tract 1950\n",
      "Processing tract 2000\n",
      "Processing tract 2050\n",
      "Processing tract 2100\n",
      "Processing tract 2150\n"
     ]
    }
   ],
   "source": [
    "tract_dict = {}\n",
    "precinct_dict = {}\n",
    "\n",
    "for tract in tracts:\n",
    "    tract_dict[tract['id']] = {\n",
    "        'shape': convert_geometry_to_gps(\n",
    "            tract['geometry'],\n",
    "            tracts.crs\n",
    "        ),\n",
    "        'intersections': []\n",
    "    }\n",
    "    \n",
    "\n",
    "for precinct in precincts:\n",
    "    if precinct['id'] == '35':\n",
    "        precinct_geom = convert_geometry_to_gps(\n",
    "            {\n",
    "                'type': 'MultiPolygon',\n",
    "                'coordinates': [ precinct['geometry']['coordinates'][260] ]\n",
    "            },\n",
    "            precincts.crs\n",
    "        )\n",
    "    elif precinct['id'] == '70':\n",
    "        precinct_geom = convert_geometry_to_gps({\n",
    "            'type': 'MultiPolygon',\n",
    "            'coordinates': [\n",
    "                precinct['geometry']['coordinates'][0],\n",
    "                precinct['geometry']['coordinates'][103]\n",
    "            ]},\n",
    "            precincts.crs\n",
    "        )\n",
    "    else:\n",
    "        precinct_geom = convert_geometry_to_gps(\n",
    "            precinct['geometry'],\n",
    "            precincts.crs\n",
    "        )\n",
    "    \n",
    "    precinct_dict[precinct['id']] = {\n",
    "        'shape': precinct_geom,\n",
    "        'intersections': []\n",
    "    }\n",
    "\n",
    "for tract in tracts:\n",
    "    if (int(tract['id']) % 50) == 0:\n",
    "        print('Processing tract {0}'.format(tract['id']))\n",
    "    for precinct in precincts:\n",
    "        if tract_dict[tract['id']]['shape'].intersects(precinct_dict[precinct['id']]['shape']):\n",
    "            tract_dict[tract['id']]['intersections'].append(precinct['id'])\n",
    "            precinct_dict[precinct['id']]['intersections'].append(tract['id'])"
   ]
  },
  {
   "cell_type": "code",
   "execution_count": 6,
   "metadata": {
    "collapsed": false
   },
   "outputs": [
    {
     "name": "stdout",
     "output_type": "stream",
     "text": [
      "Mean number of tracts per precinct: 42.467532467532465\n",
      "Mean number of precincts per tract: 1.5096952908587258\n"
     ]
    }
   ],
   "source": [
    "print('Mean number of tracts per precinct: {0}'.format(\n",
    "    np.mean([len(v['intersections']) for k, v in precinct_dict.items()])\n",
    "))\n",
    "print('Mean number of precincts per tract: {0}'.format(\n",
    "    np.mean([len(v['intersections']) for k, v in tract_dict.items()])\n",
    "))"
   ]
  }
 ],
 "metadata": {
  "kernelspec": {
   "display_name": "Python 3",
   "language": "python",
   "name": "python3"
  },
  "language_info": {
   "codemirror_mode": {
    "name": "ipython",
    "version": 3
   },
   "file_extension": ".py",
   "mimetype": "text/x-python",
   "name": "python",
   "nbconvert_exporter": "python",
   "pygments_lexer": "ipython3",
   "version": "3.6.0"
  }
 },
 "nbformat": 4,
 "nbformat_minor": 2
}
