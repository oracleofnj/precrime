{
 "cells": [
  {
   "cell_type": "code",
   "execution_count": 1,
   "metadata": {
    "collapsed": false
   },
   "outputs": [],
   "source": [
    "%load_ext autoreload\n",
    "%autoreload 2\n",
    "\n",
    "import numpy as np\n",
    "import matplotlib.pyplot as plt\n",
    "\n",
    "from modules.nyc_shapefiles import read_nyc_shapefiles"
   ]
  },
  {
   "cell_type": "code",
   "execution_count": 2,
   "metadata": {
    "collapsed": false
   },
   "outputs": [
    {
     "name": "stdout",
     "output_type": "stream",
     "text": [
      "Mean number of tracts per precinct: 40.103896103896105\n",
      "Mean number of precincts per tract: 1.4263279445727484\n"
     ]
    }
   ],
   "source": [
    "precinct_dict, tract_dict, merged_census_info = read_nyc_shapefiles()\n",
    "print('Mean number of tracts per precinct: {0}'.format(\n",
    "    np.mean([len(v['intersections']) for k, v in precinct_dict.items()])\n",
    "))\n",
    "print('Mean number of precincts per tract: {0}'.format(\n",
    "    np.mean([len(v['intersections']) for k, v in tract_dict.items()])\n",
    "))"
   ]
  },
  {
   "cell_type": "code",
   "execution_count": 3,
   "metadata": {
    "collapsed": false
   },
   "outputs": [
    {
     "name": "stdout",
     "output_type": "stream",
     "text": [
      "---Keys---\n",
      "shape_orig <class 'shapely.geometry.polygon.Polygon'>\n",
      "shape_gps <class 'shapely.geometry.polygon.Polygon'>\n",
      "intersections <class 'dict'>\n",
      "properties <class 'collections.OrderedDict'>\n",
      "census_info <class 'pandas.core.series.Series'>\n",
      "total_intersection_area <class 'float'>\n",
      "\n"
     ]
    },
    {
     "data": {
      "text/plain": [
       "{'census_info': GEO.id2                                                  36005036100\n",
       " GEO.display-label           Census Tract 361, Bronx County, New York\n",
       " Population                                                      6099\n",
       " Median_Household_Income                                        18799\n",
       " Percent_Bachelors_Degree                                         7.8\n",
       " Name: 1400000US36005036100, dtype: object,\n",
       " 'intersections': {'30': {'intersection_area_absolute': 1760194.0239685476,\n",
       "   'intersection_area_percent_of_tract': 1.0}},\n",
       " 'properties': OrderedDict([('CTLabel', '361'),\n",
       "              ('BoroCode', '2'),\n",
       "              ('BoroName', 'Bronx'),\n",
       "              ('CT2010', '036100'),\n",
       "              ('BoroCT2010', '2036100'),\n",
       "              ('CDEligibil', 'E'),\n",
       "              ('NTACode', 'BX17'),\n",
       "              ('NTAName', 'East Tremont'),\n",
       "              ('PUMA', '3705'),\n",
       "              ('Shape_Leng', 5701.06188867),\n",
       "              ('Shape_Area', 1760194.02397)]),\n",
       " 'shape_gps': <shapely.geometry.polygon.Polygon at 0x11bcab1d0>,\n",
       " 'shape_orig': <shapely.geometry.polygon.Polygon at 0x11bcab198>,\n",
       " 'total_intersection_area': 1760194.0239685476}"
      ]
     },
     "execution_count": 3,
     "metadata": {},
     "output_type": "execute_result"
    }
   ],
   "source": [
    "print('---Keys---')\n",
    "for k, v in tract_dict['1407'].items():\n",
    "    print(k, type(v))\n",
    "print()\n",
    "\n",
    "tract_dict['1407']"
   ]
  },
  {
   "cell_type": "code",
   "execution_count": 4,
   "metadata": {
    "collapsed": false
   },
   "outputs": [
    {
     "name": "stdout",
     "output_type": "stream",
     "text": [
      "---Keys---\n",
      "shape_orig\n",
      "shape_gps\n",
      "intersections\n",
      "properties\n",
      "total_population\n",
      "\n"
     ]
    },
    {
     "data": {
      "text/plain": [
       "{'intersections': {'100': {'population_assigned_to_precinct': 1181.8216337416325,\n",
       "   'population_percent_of_precinct': 0.012841349882442173},\n",
       "  '104': {'population_assigned_to_precinct': 1927.2504157944732,\n",
       "   'population_percent_of_precinct': 0.020940974673094751},\n",
       "  '106': {'population_assigned_to_precinct': 204.34002173250809,\n",
       "   'population_percent_of_precinct': 0.0022203026574707536},\n",
       "  '1117': {'population_assigned_to_precinct': 2139.6336508152008,\n",
       "   'population_percent_of_precinct': 0.02324867268115334},\n",
       "  '1118': {'population_assigned_to_precinct': 2449.1770533113008,\n",
       "   'population_percent_of_precinct': 0.026612086433082542},\n",
       "  '1216': {'population_assigned_to_precinct': 442.23527710202677,\n",
       "   'population_percent_of_precinct': 0.0048052072846615388},\n",
       "  '1232': {'population_assigned_to_precinct': 0.00070366883070973338,\n",
       "   'population_percent_of_precinct': 7.645872607615594e-09},\n",
       "  '1240': {'population_assigned_to_precinct': 2375.0,\n",
       "   'population_percent_of_precinct': 0.025806098907026457},\n",
       "  '1241': {'population_assigned_to_precinct': 6521.9999378568382,\n",
       "   'population_percent_of_precinct': 0.070866263354927989},\n",
       "  '1259': {'population_assigned_to_precinct': 0.00033481589554676606,\n",
       "   'population_percent_of_precinct': 3.6380177331050456e-09},\n",
       "  '1260': {'population_assigned_to_precinct': 674.21851430374738,\n",
       "   'population_percent_of_precinct': 0.0073258735431877631},\n",
       "  '1261': {'population_assigned_to_precinct': 4863.0,\n",
       "   'population_percent_of_precinct': 0.052840024835734592},\n",
       "  '1359': {'population_assigned_to_precinct': 0.00012346845533686717,\n",
       "   'population_percent_of_precinct': 1.3415743875035675e-09},\n",
       "  '1360': {'population_assigned_to_precinct': 0.00015162997249908492,\n",
       "   'population_percent_of_precinct': 1.6475697126657207e-09},\n",
       "  '1522': {'population_assigned_to_precinct': 979.9323498189641,\n",
       "   'population_percent_of_precinct': 0.010647676270157069},\n",
       "  '1831': {'population_assigned_to_precinct': 5269.8170882962922,\n",
       "   'population_percent_of_precinct': 0.05726038779053149},\n",
       "  '1832': {'population_assigned_to_precinct': 0.00010471226856206723,\n",
       "   'population_percent_of_precinct': 1.1377748039123469e-09},\n",
       "  '692': {'population_assigned_to_precinct': 1914.0,\n",
       "   'population_percent_of_precinct': 0.020796999287599427},\n",
       "  '693': {'population_assigned_to_precinct': 3737.0,\n",
       "   'population_percent_of_precinct': 0.040605217522340156},\n",
       "  '72': {'population_assigned_to_precinct': 2573.6539510076136,\n",
       "   'population_percent_of_precinct': 0.02796461827880501},\n",
       "  '73': {'population_assigned_to_precinct': 3780.0,\n",
       "   'population_percent_of_precinct': 0.041072443734130527},\n",
       "  '74': {'population_assigned_to_precinct': 0.00014975893358389517,\n",
       "   'population_percent_of_precinct': 1.6272395167481282e-09},\n",
       "  '75': {'population_assigned_to_precinct': 4015.0,\n",
       "   'population_percent_of_precinct': 0.043625889310194198},\n",
       "  '750': {'population_assigned_to_precinct': 2176.9998654199103,\n",
       "   'population_percent_of_precinct': 0.02365468372530926},\n",
       "  '795': {'population_assigned_to_precinct': 4987.0,\n",
       "   'population_percent_of_precinct': 0.054187374841827764},\n",
       "  '80': {'population_assigned_to_precinct': 3855.0,\n",
       "   'population_percent_of_precinct': 0.041887373173299783},\n",
       "  '82': {'population_assigned_to_precinct': 2103.999999697849,\n",
       "   'population_percent_of_precinct': 0.022861487196878454},\n",
       "  '822': {'population_assigned_to_precinct': 7.1509448023563204e-05,\n",
       "   'population_percent_of_precinct': 7.7700205830860619e-10},\n",
       "  '84': {'population_assigned_to_precinct': 3973.0,\n",
       "   'population_percent_of_precinct': 0.043169528824259416},\n",
       "  '855': {'population_assigned_to_precinct': 2540.0,\n",
       "   'population_percent_of_precinct': 0.02759894367319882},\n",
       "  '884': {'population_assigned_to_precinct': 2747.1243404394636,\n",
       "   'population_percent_of_precinct': 0.029849499974433945},\n",
       "  '916': {'population_assigned_to_precinct': 2625.9997892304768,\n",
       "   'population_percent_of_precinct': 0.028533393806615709},\n",
       "  '92': {'population_assigned_to_precinct': 2002.0,\n",
       "   'population_percent_of_precinct': 0.021753183162891352},\n",
       "  '935': {'population_assigned_to_precinct': 4273.0,\n",
       "   'population_percent_of_precinct': 0.046429246580936438},\n",
       "  '938': {'population_assigned_to_precinct': 3522.0,\n",
       "   'population_percent_of_precinct': 0.038269086463388287},\n",
       "  '939': {'population_assigned_to_precinct': 3558.0,\n",
       "   'population_percent_of_precinct': 0.03866025259418953},\n",
       "  '95': {'population_assigned_to_precinct': 3531.0,\n",
       "   'population_percent_of_precinct': 0.038366877996088594},\n",
       "  '97': {'population_assigned_to_precinct': 2685.0,\n",
       "   'population_percent_of_precinct': 0.029174473922259383},\n",
       "  '976': {'population_assigned_to_precinct': 2404.3023126147368,\n",
       "   'population_percent_of_precinct': 0.026124489802832985}},\n",
       " 'properties': OrderedDict([('Precinct', 79),\n",
       "              ('Shape_Leng', 28256.6021125),\n",
       "              ('Shape_Area', 44975546.9316)]),\n",
       " 'shape_gps': <shapely.geometry.polygon.Polygon at 0x11bc1bf60>,\n",
       " 'shape_orig': <shapely.geometry.polygon.Polygon at 0x11bc1bf28>,\n",
       " 'total_population': 92032.50784074681}"
      ]
     },
     "execution_count": 4,
     "metadata": {},
     "output_type": "execute_result"
    }
   ],
   "source": [
    "print('---Keys---')\n",
    "for k in precinct_dict['50']:\n",
    "    print(k)\n",
    "print()\n",
    "\n",
    "precinct_dict['50']"
   ]
  },
  {
   "cell_type": "code",
   "execution_count": 5,
   "metadata": {
    "collapsed": false
   },
   "outputs": [
    {
     "name": "stdout",
     "output_type": "stream",
     "text": [
      "8426743.0\n",
      "8426743\n",
      "8426743\n"
     ]
    }
   ],
   "source": [
    "print(np.sum([d['total_population'] for d in precinct_dict.values()]))\n",
    "print(np.sum(merged_census_info['Population']))\n",
    "print(np.sum([d['census_info']['Population'] for d in tract_dict.values()]))"
   ]
  },
  {
   "cell_type": "code",
   "execution_count": 6,
   "metadata": {
    "collapsed": false
   },
   "outputs": [
    {
     "data": {
      "text/plain": [
       "OrderedDict([('Precinct', 79),\n",
       "             ('Shape_Leng', 28256.6021125),\n",
       "             ('Shape_Area', 44975546.9316)])"
      ]
     },
     "execution_count": 6,
     "metadata": {},
     "output_type": "execute_result"
    }
   ],
   "source": [
    "precinct_dict['50']['properties']"
   ]
  },
  {
   "cell_type": "code",
   "execution_count": 11,
   "metadata": {
    "collapsed": false
   },
   "outputs": [
    {
     "ename": "AttributeError",
     "evalue": "'Polygon' object has no attribute 'geometry'",
     "output_type": "error",
     "traceback": [
      "\u001b[0;31m---------------------------------------------------------------------------\u001b[0m",
      "\u001b[0;31mAttributeError\u001b[0m                            Traceback (most recent call last)",
      "\u001b[0;32m<ipython-input-11-e60c59af8474>\u001b[0m in \u001b[0;36m<module>\u001b[0;34m()\u001b[0m\n\u001b[0;32m----> 1\u001b[0;31m \u001b[0mprecinct_dict\u001b[0m\u001b[0;34m[\u001b[0m\u001b[0;34m'50'\u001b[0m\u001b[0;34m]\u001b[0m\u001b[0;34m[\u001b[0m\u001b[0;34m'shape_gps'\u001b[0m\u001b[0;34m]\u001b[0m\u001b[0;34m.\u001b[0m\u001b[0mgeometry\u001b[0m\u001b[0;34m(\u001b[0m\u001b[0;34m)\u001b[0m\u001b[0;34m\u001b[0m\u001b[0m\n\u001b[0m",
      "\u001b[0;31mAttributeError\u001b[0m: 'Polygon' object has no attribute 'geometry'"
     ]
    }
   ],
   "source": [
    "precinct_dict['50']['shape_gps'].geometry()"
   ]
  },
  {
   "cell_type": "code",
   "execution_count": 12,
   "metadata": {
    "collapsed": true
   },
   "outputs": [],
   "source": [
    "import shapely"
   ]
  },
  {
   "cell_type": "code",
   "execution_count": 14,
   "metadata": {
    "collapsed": false,
    "scrolled": false
   },
   "outputs": [
    {
     "data": {
      "text/plain": [
       "{'coordinates': (((-73.93856854848711, 40.69884813554975),\n",
       "   (-73.93848766732174, 40.69880516733192),\n",
       "   (-73.93817718618821, 40.69864022329228),\n",
       "   (-73.93815708957668, 40.69851472448597),\n",
       "   (-73.9381357896041, 40.69838170757393),\n",
       "   (-73.93810517170144, 40.69819049720775),\n",
       "   (-73.938088711252, 40.698087702300356),\n",
       "   (-73.93807151221566, 40.698002610777095),\n",
       "   (-73.9379544821177, 40.69742359221613),\n",
       "   (-73.93794236786951, 40.69736914868103),\n",
       "   (-73.93792316380201, 40.69728284063561),\n",
       "   (-73.93779110792102, 40.696689342233164),\n",
       "   (-73.93763027449141, 40.69595086258838),\n",
       "   (-73.93867614288104, 40.69583093541051),\n",
       "   (-73.93951197570928, 40.69573529040102),\n",
       "   (-73.93970150313743, 40.69571360091015),\n",
       "   (-73.94055524905511, 40.69561589745617),\n",
       "   (-73.94041185850952, 40.69488089726512),\n",
       "   (-73.94026548739568, 40.69414839746769),\n",
       "   (-73.94011786576063, 40.69341620400914),\n",
       "   (-73.9400882372574, 40.693267924474334),\n",
       "   (-73.94006857803832, 40.69316954431201),\n",
       "   (-73.93997144215315, 40.69268340714788),\n",
       "   (-73.93982595770755, 40.6919502505055),\n",
       "   (-73.93968061607363, 40.691218714513),\n",
       "   (-73.9395337776127, 40.69048487213587),\n",
       "   (-73.93938872383342, 40.68975628041892),\n",
       "   (-73.93924249381858, 40.68902355425611),\n",
       "   (-73.93909616247791, 40.68828890105096),\n",
       "   (-73.93895074351089, 40.68755640934759),\n",
       "   (-73.93880456947423, 40.686824745246675),\n",
       "   (-73.93865905188188, 40.68609038907362),\n",
       "   (-73.9385140330557, 40.68535798678874),\n",
       "   (-73.93836816506894, 40.68462560189115),\n",
       "   (-73.93822325860343, 40.683893298507726),\n",
       "   (-73.93807695931454, 40.683160902989364),\n",
       "   (-73.93793221399763, 40.68242734809397),\n",
       "   (-73.93778801579033, 40.68169433234846),\n",
       "   (-73.93764243456839, 40.68096300863983),\n",
       "   (-73.93739763665229, 40.67972990017674),\n",
       "   (-73.93843613326652, 40.67978585170399),\n",
       "   (-73.93850818855235, 40.67903432002991),\n",
       "   (-73.93861683123455, 40.677943810022846),\n",
       "   (-73.93862492563589, 40.677862569582956),\n",
       "   (-73.93983518264363, 40.677923903429125),\n",
       "   (-73.94057204212221, 40.67797019500913),\n",
       "   (-73.94137663796481, 40.67800823081447),\n",
       "   (-73.94173858926428, 40.678027974530515),\n",
       "   (-73.94183266714782, 40.678033101067875),\n",
       "   (-73.9431895081842, 40.67810708093779),\n",
       "   (-73.94347880220393, 40.67812315295524),\n",
       "   (-73.94357330609716, 40.67812781891739),\n",
       "   (-73.94415120120405, 40.678156358782104),\n",
       "   (-73.94691891466371, 40.678320581257665),\n",
       "   (-73.94823586605835, 40.67839997660237),\n",
       "   (-73.94836694399437, 40.67840485359556),\n",
       "   (-73.94842651816113, 40.67840706789108),\n",
       "   (-73.94861778026603, 40.67841417789937),\n",
       "   (-73.94869725226631, 40.67841713102455),\n",
       "   (-73.94876386149973, 40.67841982322302),\n",
       "   (-73.94967567453644, 40.67845668168315),\n",
       "   (-73.95206345258708, 40.67858633021579),\n",
       "   (-73.95298672714047, 40.67872199549216),\n",
       "   (-73.95412766155529, 40.67895797685635),\n",
       "   (-73.95415040911311, 40.67896276029515),\n",
       "   (-73.95529361599387, 40.67920315104394),\n",
       "   (-73.9559586243741, 40.67934624664824),\n",
       "   (-73.95829216807783, 40.67983113349481),\n",
       "   (-73.95826930372931, 40.679906895127694),\n",
       "   (-73.95824570369483, 40.67998510490544),\n",
       "   (-73.95839571582435, 40.68079779225758),\n",
       "   (-73.95858566682583, 40.681742482212094),\n",
       "   (-73.95884062085962, 40.68301805301672),\n",
       "   (-73.9589832800778, 40.683749915653806),\n",
       "   (-73.9591320677473, 40.68448514870075),\n",
       "   (-73.95927598679731, 40.68521670504713),\n",
       "   (-73.95942259332388, 40.68595030593006),\n",
       "   (-73.95956770187391, 40.68668255542494),\n",
       "   (-73.95971374756459, 40.687415634090904),\n",
       "   (-73.95985939491729, 40.68814745121746),\n",
       "   (-73.96000519802637, 40.688881033718204),\n",
       "   (-73.96009714631373, 40.68934521009769),\n",
       "   (-73.96012172912182, 40.689469307063895),\n",
       "   (-73.96017256138678, 40.68972986156121),\n",
       "   (-73.96018691924301, 40.68980345598879),\n",
       "   (-73.96022304539724, 40.68998862738376),\n",
       "   (-73.96023740336464, 40.69006222230524),\n",
       "   (-73.96029281668113, 40.69034624991542),\n",
       "   (-73.96073858361359, 40.69242390479988),\n",
       "   (-73.96109264168149, 40.694010503684176),\n",
       "   (-73.96158556117244, 40.69620748840586),\n",
       "   (-73.96174994835218, 40.69684616840299),\n",
       "   (-73.96194070436869, 40.69791168223715),\n",
       "   (-73.96189837824244, 40.69818833253152),\n",
       "   (-73.96105100700007, 40.69832607881908),\n",
       "   (-73.96019688923502, 40.69846272743884),\n",
       "   (-73.95885874693442, 40.69867732641646),\n",
       "   (-73.95795938220984, 40.698820003215815),\n",
       "   (-73.95701993189442, 40.698973914349814),\n",
       "   (-73.956074562506, 40.69909000196755),\n",
       "   (-73.95518370886958, 40.69919290241297),\n",
       "   (-73.9542905338426, 40.69929535377405),\n",
       "   (-73.95337000736592, 40.69940454065291),\n",
       "   (-73.95254800177942, 40.69949477663856),\n",
       "   (-73.95216084033508, 40.69953727484404),\n",
       "   (-73.95195162310942, 40.6995628820225),\n",
       "   (-73.95177257901098, 40.69958479492669),\n",
       "   (-73.95153738930502, 40.69961357834284),\n",
       "   (-73.95137278648251, 40.699633723428605),\n",
       "   (-73.95101112102623, 40.69967798539404),\n",
       "   (-73.95009094715486, 40.69979059273515),\n",
       "   (-73.94979379348653, 40.69982331442352),\n",
       "   (-73.9481322539088, 40.700006272816346),\n",
       "   (-73.94724808771964, 40.70010490924673),\n",
       "   (-73.94712762146801, 40.70012281038155),\n",
       "   (-73.94631557531731, 40.700214952761804),\n",
       "   (-73.94461766111529, 40.700405300419824),\n",
       "   (-73.94438788596533, 40.70042452327999),\n",
       "   (-73.94193078882275, 40.700725234193236),\n",
       "   (-73.9414309536809, 40.69993432173253),\n",
       "   (-73.9413088072284, 40.699292473697334),\n",
       "   (-73.94115035326037, 40.69854113184361),\n",
       "   (-73.94081408898718, 40.69858112040262),\n",
       "   (-73.94072013299976, 40.698592293195475),\n",
       "   (-73.94059420815624, 40.69860726786546),\n",
       "   (-73.94051278043682, 40.69861695160602),\n",
       "   (-73.94011148839299, 40.69866467155278),\n",
       "   (-73.94002089568352, 40.69867544312422),\n",
       "   (-73.93960973978696, 40.69872433423286),\n",
       "   (-73.93952025950128, 40.698734974820084),\n",
       "   (-73.93906425896625, 40.698789195417),\n",
       "   (-73.93896470906456, 40.698801031914),\n",
       "   (-73.93856854848711, 40.69884813554975)),),\n",
       " 'type': 'Polygon'}"
      ]
     },
     "execution_count": 14,
     "metadata": {},
     "output_type": "execute_result"
    }
   ],
   "source": [
    "def create_feature(key, val):\n",
    "    pass\n",
    "\n",
    "def cfc(shape_dict):\n",
    "    output_dict = {\n",
    "        'type': 'FeatureCollection',\n",
    "        'features': []\n",
    "    }"
   ]
  },
  {
   "cell_type": "code",
   "execution_count": null,
   "metadata": {
    "collapsed": true
   },
   "outputs": [],
   "source": []
  }
 ],
 "metadata": {
  "kernelspec": {
   "display_name": "Python 3",
   "language": "python",
   "name": "python3"
  },
  "language_info": {
   "codemirror_mode": {
    "name": "ipython",
    "version": 3
   },
   "file_extension": ".py",
   "mimetype": "text/x-python",
   "name": "python",
   "nbconvert_exporter": "python",
   "pygments_lexer": "ipython3",
   "version": "3.6.0"
  }
 },
 "nbformat": 4,
 "nbformat_minor": 2
}
