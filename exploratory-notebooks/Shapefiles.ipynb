{
 "cells": [
  {
   "cell_type": "code",
   "execution_count": 1,
   "metadata": {
    "collapsed": false
   },
   "outputs": [],
   "source": [
    "import numpy as np\n",
    "import matplotlib.pyplot as plt\n",
    "\n",
    "import fiona\n",
    "from shapely.geometry import shape, MultiPolygon, Polygon\n",
    "from shapely.geos import TopologicalError\n",
    "from descartes.patch import PolygonPatch"
   ]
  },
  {
   "cell_type": "code",
   "execution_count": 2,
   "metadata": {
    "collapsed": true
   },
   "outputs": [],
   "source": [
    "precincts = fiona.open(\"../shapefiles/police_precincts/nypp.shp\")"
   ]
  },
  {
   "cell_type": "code",
   "execution_count": 3,
   "metadata": {
    "collapsed": true
   },
   "outputs": [],
   "source": [
    "tracts = fiona.open(\"../shapefiles/census_tracts/nyct2010.shp\")"
   ]
  },
  {
   "cell_type": "code",
   "execution_count": 4,
   "metadata": {
    "collapsed": false,
    "scrolled": false
   },
   "outputs": [
    {
     "name": "stdout",
     "output_type": "stream",
     "text": [
      "Processing tract 0\n",
      "Processing tract 50\n",
      "Processing tract 100\n",
      "Processing tract 150\n",
      "Processing tract 200\n",
      "Processing tract 250\n",
      "Processing tract 300\n",
      "Processing tract 350\n",
      "Processing tract 400\n",
      "Processing tract 450\n",
      "Processing tract 500\n",
      "Processing tract 550\n",
      "Processing tract 600\n",
      "Processing tract 650\n",
      "Processing tract 700\n",
      "Processing tract 750\n",
      "Processing tract 800\n",
      "Processing tract 850\n",
      "Processing tract 900\n",
      "Processing tract 950\n",
      "Processing tract 1000\n",
      "Processing tract 1050\n",
      "Processing tract 1100\n",
      "Processing tract 1150\n",
      "Processing tract 1200\n",
      "Processing tract 1250\n",
      "Processing tract 1300\n",
      "Processing tract 1350\n",
      "Processing tract 1400\n",
      "Processing tract 1450\n",
      "Processing tract 1500\n",
      "Processing tract 1550\n",
      "Processing tract 1600\n",
      "Processing tract 1650\n",
      "Processing tract 1700\n",
      "Processing tract 1750\n",
      "Processing tract 1800\n",
      "Processing tract 1850\n",
      "Processing tract 1900\n",
      "Processing tract 1950\n",
      "Processing tract 2000\n",
      "Processing tract 2050\n",
      "Processing tract 2100\n",
      "Processing tract 2150\n"
     ]
    }
   ],
   "source": [
    "tract_dict = {}\n",
    "precinct_dict = {}\n",
    "\n",
    "for tract in tracts:\n",
    "    tract_dict[tract['id']] = {\n",
    "        'shape': shape(tract['geometry']),\n",
    "        'intersections': []\n",
    "    }\n",
    "    \n",
    "\n",
    "for precinct in precincts:\n",
    "    if precinct['id'] == '35':\n",
    "        precinct_geom = shape({\n",
    "            'type': 'MultiPolygon',\n",
    "            'coordinates': [\n",
    "                precinct['geometry']['coordinates'][260]\n",
    "            ]\n",
    "        })\n",
    "    elif precinct['id'] == '70':\n",
    "        precinct_geom = shape({\n",
    "            'type': 'MultiPolygon',\n",
    "            'coordinates': [\n",
    "                precincts[70]['geometry']['coordinates'][0],\n",
    "                precincts[70]['geometry']['coordinates'][103]\n",
    "            ]\n",
    "        })\n",
    "    else:\n",
    "        precinct_geom = shape(precinct['geometry'])\n",
    "    \n",
    "    precinct_dict[precinct['id']] = {\n",
    "        'shape': precinct_geom,\n",
    "        'intersections': []\n",
    "    }\n",
    "\n",
    "for tract in tracts:\n",
    "    if (int(tract['id']) % 50) == 0:\n",
    "        print('Processing tract {0}'.format(tract['id']))\n",
    "    for precinct in precincts:\n",
    "        if tract_dict[tract['id']]['shape'].intersects(precinct_dict[precinct['id']]['shape']):\n",
    "            tract_dict[tract['id']]['intersections'].append(precinct['id'])\n",
    "            precinct_dict[precinct['id']]['intersections'].append(tract['id'])"
   ]
  },
  {
   "cell_type": "code",
   "execution_count": 5,
   "metadata": {
    "collapsed": false
   },
   "outputs": [
    {
     "name": "stdout",
     "output_type": "stream",
     "text": [
      "Mean number of tracts per precinct: 42.48051948051948\n",
      "Mean number of precincts per tract: 1.5101569713758078\n"
     ]
    }
   ],
   "source": [
    "print('Mean number of tracts per precinct: {0}'.format(\n",
    "    np.mean([len(v['intersections']) for k, v in precinct_dict.items()])\n",
    "))\n",
    "print('Mean number of precincts per tract: {0}'.format(\n",
    "    np.mean([len(v['intersections']) for k, v in tract_dict.items()])\n",
    "))"
   ]
  },
  {
   "cell_type": "code",
   "execution_count": null,
   "metadata": {
    "collapsed": true
   },
   "outputs": [],
   "source": []
  }
 ],
 "metadata": {
  "kernelspec": {
   "display_name": "Python 3",
   "language": "python",
   "name": "python3"
  },
  "language_info": {
   "codemirror_mode": {
    "name": "ipython",
    "version": 3
   },
   "file_extension": ".py",
   "mimetype": "text/x-python",
   "name": "python",
   "nbconvert_exporter": "python",
   "pygments_lexer": "ipython3",
   "version": "3.6.0"
  }
 },
 "nbformat": 4,
 "nbformat_minor": 2
}
