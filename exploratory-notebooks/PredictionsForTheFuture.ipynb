{
 "cells": [
  {
   "cell_type": "code",
   "execution_count": 1,
   "metadata": {
    "collapsed": true
   },
   "outputs": [],
   "source": [
    "import numpy as np\n",
    "import pandas as pd\n",
    "import seaborn\n",
    "import matplotlib.pyplot as plt\n",
    "import datetime\n",
    "import csv\n",
    "import os\n",
    "from sklearn.metrics import r2_score, mean_squared_error\n",
    "\n",
    "%matplotlib inline\n",
    "%load_ext autoreload\n",
    "%autoreload 2"
   ]
  },
  {
   "cell_type": "code",
   "execution_count": 2,
   "metadata": {
    "collapsed": true
   },
   "outputs": [],
   "source": [
    "from modules.prediction import load_all_data\n",
    "from modules.prediction import precrime_train_test_split\n",
    "from modules.prediction import load_splits\n",
    "from modules.prediction import create_all_splits\n",
    "from modules.prediction import sample_model\n",
    "from modules.poly_ridge import poly_ridge_model\n",
    "from modules.fancy_time_series import fancy_time_series_model\n",
    "from modules.eval_model import eval_predictions\n",
    "from modules.prediction import create_test_period"
   ]
  },
  {
   "cell_type": "code",
   "execution_count": 3,
   "metadata": {
    "collapsed": false
   },
   "outputs": [
    {
     "name": "stderr",
     "output_type": "stream",
     "text": [
      "/Users/jsamet/anaconda2/envs/py3k/lib/python3.6/site-packages/numpy/lib/arraysetops.py:463: FutureWarning: elementwise comparison failed; returning scalar instead, but in the future will perform elementwise comparison\n",
      "  mask |= (ar1 == a)\n"
     ]
    }
   ],
   "source": [
    "crime_data = load_all_data()"
   ]
  },
  {
   "cell_type": "code",
   "execution_count": 4,
   "metadata": {
    "collapsed": true
   },
   "outputs": [],
   "source": [
    "split_future = create_test_period(datetime.date(2017,10,1),datetime.date(2018,9,30))"
   ]
  },
  {
   "cell_type": "code",
   "execution_count": 5,
   "metadata": {
    "collapsed": true
   },
   "outputs": [],
   "source": [
    "train_test_data = create_all_splits(crime_data, {'future': split_future})"
   ]
  },
  {
   "cell_type": "code",
   "execution_count": 6,
   "metadata": {
    "collapsed": true
   },
   "outputs": [],
   "source": [
    "X_train_future, _, y_train_future, _ = train_test_data['future']"
   ]
  },
  {
   "cell_type": "code",
   "execution_count": 7,
   "metadata": {
    "collapsed": false
   },
   "outputs": [],
   "source": [
    "average_weather = X_train_future.groupby([\n",
    "    'COMPLAINT_MONTH',\n",
    "    'COMPLAINT_DAY'\n",
    "])[[\n",
    "    'temperature',\n",
    "    'precipIntensity'\n",
    "]].mean().reset_index()\n",
    "\n",
    "precinct_codes = pd.DataFrame(X_train_future['ADDR_PCT_CD'].unique(), columns=['ADDR_PCT_CD'])\n",
    "precinct_codes['key'] = 1\n",
    "\n",
    "gimme_a_datetime = split_future.copy()\n",
    "gimme_a_datetime.columns = [c[5:].lower() for c in gimme_a_datetime.columns]\n",
    "gimme_a_datetime['dayofweek'] = pd.to_datetime(gimme_a_datetime[['year', 'month', 'day']]).dt.dayofweek\n",
    "gimme_a_datetime.columns = ['COMPLAINT_{0}'.format(c.upper()) for c in gimme_a_datetime.columns]\n",
    "gimme_a_datetime['key'] = 1\n",
    "\n",
    "dates_and_precincts = pd.merge(gimme_a_datetime, precinct_codes, how='outer')\n",
    "dates_and_precincts.drop('key', axis=1, inplace=True)\n"
   ]
  },
  {
   "cell_type": "code",
   "execution_count": 8,
   "metadata": {
    "collapsed": false
   },
   "outputs": [],
   "source": [
    "X_test_future = pd.merge(dates_and_precincts, average_weather)\n",
    "y_poly_future = poly_ridge_model(X_train_future, y_train_future, X_test_future)"
   ]
  },
  {
   "cell_type": "code",
   "execution_count": 9,
   "metadata": {
    "collapsed": false
   },
   "outputs": [],
   "source": [
    "crime_data_with_poly_future = pd.concat(\n",
    "    [crime_data, pd.merge(X_test_future, y_poly_future)],\n",
    "    ignore_index=True\n",
    ")\n",
    "train_test_data_with_poly_future = create_all_splits(crime_data_with_poly_future, {'ts_future': split_future})\n",
    "X_train_ts_future, X_test_ts_future, y_train_ts_future, y_test_ts_future = train_test_data_with_poly_future['ts_future']\n",
    "y_ts_future = fancy_time_series_model(X_train_ts_future, y_train_ts_future, X_test_ts_future, y_test_ts_future).reset_index().drop('index', axis=1)"
   ]
  },
  {
   "cell_type": "code",
   "execution_count": 22,
   "metadata": {
    "collapsed": true
   },
   "outputs": [],
   "source": [
    "y_hybrid_future = (y_poly_future + y_ts_future)/2\n",
    "y_hybrid_future.to_csv('../precrime_data/future_predictions.csv', quoting=csv.QUOTE_NONNUMERIC)"
   ]
  }
 ],
 "metadata": {
  "kernelspec": {
   "display_name": "Python 3",
   "language": "python",
   "name": "python3"
  },
  "language_info": {
   "codemirror_mode": {
    "name": "ipython",
    "version": 3
   },
   "file_extension": ".py",
   "mimetype": "text/x-python",
   "name": "python",
   "nbconvert_exporter": "python",
   "pygments_lexer": "ipython3",
   "version": "3.6.0"
  }
 },
 "nbformat": 4,
 "nbformat_minor": 2
}
