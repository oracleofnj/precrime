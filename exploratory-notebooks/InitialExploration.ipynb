{
 "cells": [
  {
   "cell_type": "code",
   "execution_count": 1,
   "metadata": {},
   "outputs": [],
   "source": [
    "%load_ext autoreload\n",
    "%autoreload 2\n",
    "\n",
    "import numpy as np\n",
    "import pandas as pd\n",
    "import matplotlib.pyplot as plt\n",
    "\n",
    "from sklearn.model_selection import train_test_split\n",
    "from sklearn.preprocessing import OneHotEncoder\n",
    "from sklearn.feature_extraction import DictVectorizer\n",
    "from sklearn.linear_model import Ridge\n",
    "from sklearn.metrics import r2_score\n",
    "\n",
    "%matplotlib inline\n",
    "pd.set_option('display.max_rows', 200)"
   ]
  },
  {
   "cell_type": "code",
   "execution_count": 2,
   "metadata": {},
   "outputs": [],
   "source": [
    "from modules.nypd_data import read_orig_file\n",
    "from modules.nypd_data import filter_raw_data\n",
    "from modules.nypd_data import save_dated_felonies\n",
    "from modules.nypd_data import load_dated_felonies\n",
    "from modules.nypd_data import save_clean_felonies\n",
    "from modules.nypd_data import load_clean_felonies\n",
    "from modules.nypd_data import add_offense_category\n",
    "from modules.nypd_data import add_datetime_columns\n",
    "from modules.nypd_data import save_pivoted_felonies\n",
    "from modules.nypd_data import load_pivoted_felonies"
   ]
  },
  {
   "cell_type": "code",
   "execution_count": null,
   "metadata": {},
   "outputs": [
    {
     "name": "stderr",
     "output_type": "stream",
     "text": [
      "/Users/jsamet/anaconda/lib/python3.6/site-packages/numpy/lib/arraysetops.py:463: FutureWarning: elementwise comparison failed; returning scalar instead, but in the future will perform elementwise comparison\n",
      "  mask |= (ar1 == a)\n"
     ]
    }
   ],
   "source": [
    "# Before running: execute \"tar -xvf cf.tar.gz\" from the root directory of the git repo\n",
    "# copy clean_felonies.csv into that directory,\n",
    "# and unzip it \n",
    "#\n",
    "#\n",
    "# To make the files from scratch (not necessary):\n",
    "# save_dated_felonies()\n",
    "# save_clean_felonies()\n",
    "\n",
    "\n",
    "nypd_data = load_clean_felonies()\n",
    "add_offense_category(nypd_data)"
   ]
  },
  {
   "cell_type": "code",
   "execution_count": null,
   "metadata": {
    "scrolled": false
   },
   "outputs": [],
   "source": [
    "nypd_data.pivot_table(\n",
    "    index=[\n",
    "        nypd_data['COMPLAINT_DATETIME'].map(lambda x: x.year),\n",
    "        nypd_data['COMPLAINT_DATETIME'].map(lambda x: x.month),\n",
    "#        nypd_data['COMPLAINT_DATETIME'].map(lambda x: x.day),\n",
    "#        nypd_data['COMPLAINT_DATETIME'].map(lambda x: x.hour),\n",
    "#        'BORO_NM',\n",
    "        'ADDR_PCT_CD',   # These are not duplicated across boros.\n",
    "    ],\n",
    "    values='KY_CD',\n",
    "    columns='OFFENSE',\n",
    "    fill_value=0,\n",
    "    aggfunc=len\n",
    ")"
   ]
  },
  {
   "cell_type": "code",
   "execution_count": null,
   "metadata": {
    "collapsed": true
   },
   "outputs": [],
   "source": [
    "add_datetime_columns(nypd_data)\n"
   ]
  },
  {
   "cell_type": "code",
   "execution_count": null,
   "metadata": {},
   "outputs": [],
   "source": [
    "# Before running: execute \"tar -xvf pivoted_felonies.tar.gz\" from the root directory of the git repo\n",
    "#\n",
    "# To make the files from scratch (not necessary):\n",
    "# save_pivoted_felonies(nypd_data)\n",
    "nypd_pivoted = load_pivoted_felonies()"
   ]
  },
  {
   "cell_type": "code",
   "execution_count": null,
   "metadata": {
    "scrolled": false
   },
   "outputs": [],
   "source": [
    "nypd_pivoted"
   ]
  },
  {
   "cell_type": "code",
   "execution_count": null,
   "metadata": {},
   "outputs": [],
   "source": [
    "pivoted_weekday_precinct = nypd_data.pivot_table(\n",
    "    index=[\n",
    "        'COMPLAINT_DAYOFWEEK',   \n",
    "        'COMPLAINT_HOURGROUP'\n",
    "    ],\n",
    "    values='KY_CD',\n",
    "    columns='ADDR_PCT_CD',\n",
    "    fill_value=0,\n",
    "    aggfunc=len\n",
    ")"
   ]
  },
  {
   "cell_type": "code",
   "execution_count": null,
   "metadata": {},
   "outputs": [],
   "source": [
    "ax = pivoted_weekday_precinct.mean(axis=1).plot(kind='bar', figsize=(20,10))\n",
    "ax.figure.savefig('mean_complaints_by_dayofweek_time.png')"
   ]
  },
  {
   "cell_type": "code",
   "execution_count": null,
   "metadata": {},
   "outputs": [],
   "source": [
    "ax = pivoted_weekday_precinct.mean(axis=0).plot(kind='bar', figsize=(20,10))\n",
    "ax.figure.savefig('mean_complaints_by_precinct.png')"
   ]
  },
  {
   "cell_type": "code",
   "execution_count": null,
   "metadata": {},
   "outputs": [],
   "source": [
    "summed_weekday_precinct = nypd_data.pivot_table(\n",
    "    index=[\n",
    "        'COMPLAINT_DAYOFWEEK',   \n",
    "        'COMPLAINT_HOURGROUP',\n",
    "        'ADDR_PCT_CD',\n",
    "    ],\n",
    "    values='KY_CD',\n",
    "    fill_value=0,\n",
    "    aggfunc=len\n",
    ").reset_index()\n",
    "\n",
    "summed_weekday_precinct['COMPLAINT_DAY_HOUR'] = \\\n",
    "    summed_weekday_precinct['COMPLAINT_DAYOFWEEK'].astype(str) + \\\n",
    "    '_' + \\\n",
    "    summed_weekday_precinct['COMPLAINT_HOURGROUP'].astype(str)"
   ]
  },
  {
   "cell_type": "code",
   "execution_count": null,
   "metadata": {},
   "outputs": [],
   "source": [
    "def eval_ridge(X_train, X_test, y_train, y_test):\n",
    "    ridge = Ridge()\n",
    "    ridge.fit(X_train, y_train)\n",
    "    print('R2 (log space):', ridge.score(X_test, y_test))\n",
    "    print('R2 (actual space):', r2_score(np.exp(y_test), np.exp(ridge.predict(X_test))))\n",
    "    print('Baseline: ', np.exp(ridge.intercept_))\n",
    "    for col, val in zip(X.columns, ridge.coef_):\n",
    "        print('{0: <30}'.format(col), '{0:.0f}%'.format(100*(-1+np.exp(val))))\n",
    "    return ridge"
   ]
  },
  {
   "cell_type": "code",
   "execution_count": null,
   "metadata": {},
   "outputs": [],
   "source": [
    "# Results using only weekday + time of day\n",
    "\n",
    "X = pd.get_dummies(summed_weekday_precinct[['COMPLAINT_DAY_HOUR']].astype(str))\n",
    "y = np.log(1 + summed_weekday_precinct['KY_CD'].values)\n",
    "X_train, X_test, y_train, y_test = train_test_split(X, y, shuffle=True, random_state=4800)\n",
    "eval_ridge(X_train, X_test, y_train, y_test)"
   ]
  },
  {
   "cell_type": "code",
   "execution_count": null,
   "metadata": {},
   "outputs": [],
   "source": [
    "# Results using only precinct code\n",
    "\n",
    "X = pd.get_dummies(summed_weekday_precinct[['ADDR_PCT_CD']].astype(str))\n",
    "y = np.log(1 + summed_weekday_precinct['KY_CD'].values)\n",
    "X_train, X_test, y_train, y_test = train_test_split(X, y, shuffle=True, random_state=4800)\n",
    "eval_ridge(X_train, X_test, y_train, y_test)"
   ]
  },
  {
   "cell_type": "code",
   "execution_count": null,
   "metadata": {
    "scrolled": false
   },
   "outputs": [],
   "source": [
    "# Results using both precinct code and weekday + time of day\n",
    "\n",
    "X = pd.get_dummies(summed_weekday_precinct[['COMPLAINT_DAY_HOUR', 'ADDR_PCT_CD']].astype(str))\n",
    "y = np.log(1 + summed_weekday_precinct['KY_CD'].values)\n",
    "X_train, X_test, y_train, y_test = train_test_split(X, y, shuffle=True, random_state=4800)\n",
    "eval_ridge(X_train, X_test, y_train, y_test)"
   ]
  }
 ],
 "metadata": {
  "kernelspec": {
   "display_name": "Python 3",
   "language": "python",
   "name": "python3"
  },
  "language_info": {
   "codemirror_mode": {
    "name": "ipython",
    "version": 3
   },
   "file_extension": ".py",
   "mimetype": "text/x-python",
   "name": "python",
   "nbconvert_exporter": "python",
   "pygments_lexer": "ipython3",
   "version": "3.6.1"
  }
 },
 "nbformat": 4,
 "nbformat_minor": 2
}
