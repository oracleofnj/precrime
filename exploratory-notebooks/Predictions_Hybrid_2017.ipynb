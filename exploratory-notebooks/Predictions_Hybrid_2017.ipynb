{
 "cells": [
  {
   "cell_type": "code",
   "execution_count": 2,
   "metadata": {
    "collapsed": true
   },
   "outputs": [],
   "source": [
    "import numpy as np\n",
    "import pandas as pd\n",
    "import seaborn\n",
    "import matplotlib.pyplot as plt\n",
    "import datetime\n",
    "import csv\n",
    "import os\n",
    "from sklearn.metrics import r2_score, mean_squared_error\n",
    "\n",
    "%matplotlib inline\n",
    "%load_ext autoreload\n",
    "%autoreload 2"
   ]
  },
  {
   "cell_type": "code",
   "execution_count": 1,
   "metadata": {
    "collapsed": true
   },
   "outputs": [],
   "source": [
    "from modules.nypd_data import read_orig_file\n",
    "from modules.nypd_data import filter_raw_data\n",
    "from modules.nypd_data import save_dated_felonies\n",
    "from modules.nypd_data import load_dated_felonies\n",
    "from modules.nypd_data import save_clean_felonies\n",
    "from modules.nypd_data import load_clean_felonies\n",
    "from modules.nypd_data import add_offense_category\n",
    "from modules.nypd_data import add_datetime_columns\n",
    "from modules.nypd_data import pivot_felonies\n",
    "from modules.nypd_data import save_pivoted_felonies\n",
    "from modules.nypd_data import load_pivoted_felonies"
   ]
  },
  {
   "cell_type": "code",
   "execution_count": 3,
   "metadata": {
    "collapsed": true
   },
   "outputs": [],
   "source": [
    "from modules.prediction import load_all_data\n",
    "from modules.prediction import precrime_train_test_split\n",
    "from modules.prediction import load_splits\n",
    "from modules.prediction import create_all_splits\n",
    "from modules.prediction import sample_model\n",
    "from modules.poly_ridge import poly_ridge_model\n",
    "from modules.fancy_time_series import fancy_time_series_model\n",
    "from modules.eval_model import eval_predictions\n"
   ]
  },
  {
   "cell_type": "code",
   "execution_count": 8,
   "metadata": {
    "collapsed": true
   },
   "outputs": [],
   "source": [
    "from modules.nypd_data import load_clean_felonies\n",
    "from modules.nyc_shapefiles import read_nyc_shapefiles\n",
    "from modules.weather import get_precinct_centroids\n",
    "from modules.weather import get_mean_latlon\n",
    "from modules.weather import write_weather_data\n",
    "from modules.weather import read_weather_data\n",
    "from modules.weather import read_api_key"
   ]
  },
  {
   "cell_type": "code",
   "execution_count": 20,
   "metadata": {},
   "outputs": [
    {
     "name": "stdout",
     "output_type": "stream",
     "text": [
      "Starting (2017-12-05 15:00:31)...\n",
      "Saving filtered output (2017-12-05 15:00:34)...\n",
      "Done (2017-12-05 15:00:36)\n",
      "Starting (2017-12-05 15:00:58)...\n",
      "Done (2017-12-05 15:01:19)\n"
     ]
    }
   ],
   "source": [
    "# Generating file for 2017\n",
    "# Get the ytd crime file from the open data website and \n",
    "# store it in the folder precrime_data/raw\n",
    "save_dated_felonies('../precrime_data/raw/'\n",
    "                    , 'NYPD_Complaint_Data_Current_YTD.csv'\n",
    "                   , '../precrime_data/dated_felonies_2017.csv')\n",
    "dated_felonies = load_dated_felonies('../precrime_data/'\n",
    "                                     , 'dated_felonies_2017.csv')\n",
    "save_clean_felonies('../precrime_data/', 'dated_felonies_2017.csv'\n",
    "                   , '../precrime_data/clean_felonies_2017.csv')\n",
    "dated_felonies = dated_felonies[dated_felonies['REPORT_DATE'] >= '2017-01-01']\n",
    "dated_felonies.to_csv('../precrime_data/clean_felonies_2017.csv')\n",
    "nypd_data_2017 = load_clean_felonies('../precrime_data/'\n",
    "                                     , 'clean_felonies_2017.csv')\n",
    "add_offense_category(nypd_data_2017)\n",
    "add_datetime_columns(nypd_data_2017)\n",
    "pivoted_2017 = pivot_felonies(nypd_data_2017)\n",
    "save_pivoted_felonies(nypd_data_2017, data_path='../precrime_data/'\n",
    "                      , pivot_file='pivoted_felonies_2017.csv')\n",
    "\n",
    "    "
   ]
  },
  {
   "cell_type": "code",
   "execution_count": 40,
   "metadata": {},
   "outputs": [],
   "source": [
    "# Creating weather data until 2017-11-30 \n",
    "\n",
    "# Before running: execute \"tar -xvf weather_hist.tar.gz\"\n",
    "# from the root directory of the git repo\n",
    "#\n",
    "# To make the files from scratch (not necessary):\n",
    "#\n",
    "#nypd_data = load_clean_felonies()\n",
    "#precinct_dict, tract_dict, merged_census_info = read_nyc_shapefiles()\n",
    "#centroids = get_precinct_centroids(precinct_dict)\n",
    "#nyc_mean_latlon = get_mean_latlon(centroids)\n",
    "#nypd_dates = nypd_data['COMPLAINT_DATETIME'].dt.date.unique()\n",
    "#hours = range(2,26,4)\n",
    "#darksky_api_key = read_api_key()"
   ]
  },
  {
   "cell_type": "code",
   "execution_count": null,
   "metadata": {
    "collapsed": true
   },
   "outputs": [],
   "source": [
    "#new_nypd_dates = []\n",
    "#one_day = datetime.timedelta(days=1)\n",
    "#cur_day = nypd_dates[-1] + one_day\n",
    "#while cur_day.month < 12:\n",
    "#    new_nypd_dates.append(cur_day)\n",
    "#    cur_day += one_day"
   ]
  },
  {
   "cell_type": "code",
   "execution_count": 41,
   "metadata": {
    "collapsed": true
   },
   "outputs": [],
   "source": [
    "#write_weather_data(new_nypd_dates, hours, darksky_api_key, nyc_mean_latlon, append_output=True)"
   ]
  },
  {
   "cell_type": "code",
   "execution_count": null,
   "metadata": {
    "collapsed": true
   },
   "outputs": [],
   "source": [
    "weather_hist = read_weather_data()\n",
    "weather_hist\n"
   ]
  }
 ],
 "metadata": {
  "kernelspec": {
   "display_name": "capstone",
   "language": "python",
   "name": "capstone"
  },
  "language_info": {
   "codemirror_mode": {
    "name": "ipython",
    "version": 3
   },
   "file_extension": ".py",
   "mimetype": "text/x-python",
   "name": "python",
   "nbconvert_exporter": "python",
   "pygments_lexer": "ipython3",
   "version": "3.6.3"
  }
 },
 "nbformat": 4,
 "nbformat_minor": 2
}
