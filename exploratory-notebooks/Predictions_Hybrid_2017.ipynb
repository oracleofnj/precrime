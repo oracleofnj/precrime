{
 "cells": [
  {
   "cell_type": "code",
   "execution_count": 1,
   "metadata": {
    "collapsed": true
   },
   "outputs": [],
   "source": [
    "import numpy as np\n",
    "import pandas as pd\n",
    "import seaborn\n",
    "import matplotlib.pyplot as plt\n",
    "import datetime\n",
    "import csv\n",
    "import os\n",
    "from sklearn.metrics import r2_score, mean_squared_error\n",
    "\n",
    "%matplotlib inline\n",
    "%load_ext autoreload\n",
    "%autoreload 2"
   ]
  },
  {
   "cell_type": "code",
   "execution_count": 2,
   "metadata": {
    "collapsed": true
   },
   "outputs": [],
   "source": [
    "from modules.nypd_data import read_orig_file\n",
    "from modules.nypd_data import filter_raw_data\n",
    "from modules.nypd_data import save_dated_felonies\n",
    "from modules.nypd_data import load_dated_felonies\n",
    "from modules.nypd_data import save_clean_felonies\n",
    "from modules.nypd_data import load_clean_felonies\n",
    "from modules.nypd_data import add_offense_category\n",
    "from modules.nypd_data import add_datetime_columns\n",
    "from modules.nypd_data import pivot_felonies\n",
    "from modules.nypd_data import save_pivoted_felonies\n",
    "from modules.nypd_data import load_pivoted_felonies"
   ]
  },
  {
   "cell_type": "code",
   "execution_count": 3,
   "metadata": {
    "collapsed": true
   },
   "outputs": [],
   "source": [
    "from modules.prediction import load_all_data\n",
    "from modules.prediction import precrime_train_test_split, create_test_period, precrime_train_test_split\n",
    "from modules.prediction import split_into_X_y\n",
    "from modules.prediction import load_splits\n",
    "from modules.prediction import create_all_splits\n",
    "from modules.prediction import sample_model\n",
    "from modules.poly_ridge import poly_ridge_model\n",
    "from modules.fancy_time_series import fancy_time_series_model\n",
    "from modules.eval_model import eval_predictions\n"
   ]
  },
  {
   "cell_type": "code",
   "execution_count": 4,
   "metadata": {
    "collapsed": true
   },
   "outputs": [],
   "source": [
    "from modules.nypd_data import load_clean_felonies\n",
    "from modules.nyc_shapefiles import read_nyc_shapefiles\n",
    "from modules.weather import get_precinct_centroids\n",
    "from modules.weather import get_mean_latlon\n",
    "from modules.weather import write_weather_data\n",
    "from modules.weather import read_weather_data\n",
    "from modules.weather import read_api_key"
   ]
  },
  {
   "cell_type": "code",
   "execution_count": 23,
   "metadata": {
    "collapsed": true
   },
   "outputs": [],
   "source": [
    "# Generating file for 2017\n",
    "# Get the ytd crime file from the open data website and \n",
    "# store it in the folder precrime_data/raw\n",
    "# save_dated_felonies('../precrime_data/raw/'\n",
    "#                     , 'NYPD_Complaint_Data_Current_YTD.csv'\n",
    "#                    , '../precrime_data/dated_felonies_2017.csv')\n",
    "# dated_felonies = load_dated_felonies('../precrime_data/'\n",
    "#                                      , 'dated_felonies_2017.csv', datetime='2017-01-01 00:00:00')\n",
    "# save_clean_felonies('../precrime_data/', 'dated_felonies_2017.csv'\n",
    "#                    , '../precrime_data/clean_felonies_2017.csv')\n",
    "\n",
    "# nypd_data_2017 = load_clean_felonies('../precrime_data/'\n",
    "#                                      , 'clean_felonies_2017.csv')\n",
    "# add_offense_category(nypd_data_2017)\n",
    "# add_datetime_columns(nypd_data_2017)\n",
    "# pivoted_2017 = pivot_felonies(nypd_data_2017)\n",
    "# save_pivoted_felonies(nypd_data_2017, data_path='../precrime_data/'\n",
    "#                       , pivot_file='pivoted_felonies_2017.csv')\n",
    "\n",
    "    "
   ]
  },
  {
   "cell_type": "code",
   "execution_count": 24,
   "metadata": {
    "collapsed": true
   },
   "outputs": [],
   "source": [
    "# Creating weather data until 2017-11-30 \n",
    "\n",
    "# Before running: execute \"tar -xvf weather_hist.tar.gz\"\n",
    "# from the root directory of the git repo\n",
    "#\n",
    "# To make the files from scratch (not necessary):\n",
    "#\n",
    "#nypd_data = load_clean_felonies()\n",
    "#precinct_dict, tract_dict, merged_census_info = read_nyc_shapefiles()\n",
    "#centroids = get_precinct_centroids(precinct_dict)\n",
    "#nyc_mean_latlon = get_mean_latlon(centroids)\n",
    "#nypd_dates = nypd_data['COMPLAINT_DATETIME'].dt.date.unique()\n",
    "#hours = range(2,26,4)\n",
    "#darksky_api_key = read_api_key()"
   ]
  },
  {
   "cell_type": "code",
   "execution_count": 25,
   "metadata": {
    "collapsed": true
   },
   "outputs": [],
   "source": [
    "#new_nypd_dates = []\n",
    "#one_day = datetime.timedelta(days=1)\n",
    "#cur_day = nypd_dates[-1] + one_day\n",
    "#while cur_day.month < 12:\n",
    "#    new_nypd_dates.append(cur_day)\n",
    "#    cur_day += one_day"
   ]
  },
  {
   "cell_type": "code",
   "execution_count": 26,
   "metadata": {
    "collapsed": true
   },
   "outputs": [],
   "source": [
    "#write_weather_data(new_nypd_dates, hours, darksky_api_key, nyc_mean_latlon, append_output=True)"
   ]
  },
  {
   "cell_type": "code",
   "execution_count": 27,
   "metadata": {
    "collapsed": true
   },
   "outputs": [],
   "source": [
    "# import traceback\n",
    "# import warnings\n",
    "# import sys\n",
    "\n",
    "# def warn_with_traceback(message, category, filename, lineno, file=None, line=None):\n",
    "\n",
    "#     log = file if hasattr(file,'write') else sys.stderr\n",
    "#     traceback.print_stack(file=log)\n",
    "#     log.write(warnings.formatwarning(message, category, filename, lineno, line))\n",
    "\n",
    "# warnings.showwarning = warn_with_traceback"
   ]
  },
  {
   "cell_type": "code",
   "execution_count": 5,
   "metadata": {},
   "outputs": [
    {
     "name": "stderr",
     "output_type": "stream",
     "text": [
      "C:\\Users\\ngamf\\Anaconda3\\envs\\capstone\\lib\\site-packages\\numpy\\lib\\arraysetops.py:463: FutureWarning: elementwise comparison failed; returning scalar instead, but in the future will perform elementwise comparison\n",
      "  mask |= (ar1 == a)\n"
     ]
    }
   ],
   "source": [
    "crime_data_train = load_all_data()\n",
    "\n",
    "crime_data_test = load_all_data(data_path='../precrime_data/'\n",
    "                           , pivot_file='pivoted_felonies_2017.csv' )\n",
    "\n",
    "crime_data = pd.concat([crime_data_train, crime_data_test])\n"
   ]
  },
  {
   "cell_type": "code",
   "execution_count": 6,
   "metadata": {
    "collapsed": true
   },
   "outputs": [],
   "source": [
    "str_date = datetime.datetime.strptime('2017-01-01', '%Y-%m-%d')\n",
    "end_date = datetime.datetime.strptime('2017-07-01', '%Y-%m-%d')\n",
    "test_times = create_test_period(str_date,end_date)\n",
    "X_train, X_test, y_train, y_test = precrime_train_test_split(crime_data, test_times)"
   ]
  },
  {
   "cell_type": "code",
   "execution_count": 7,
   "metadata": {},
   "outputs": [],
   "source": [
    "y_poly = poly_ridge_model(X_train, y_train, X_test)\n",
    "\n",
    "\n"
   ]
  },
  {
   "cell_type": "code",
   "execution_count": 8,
   "metadata": {
    "collapsed": true
   },
   "outputs": [],
   "source": [
    "y_ts = fancy_time_series_model(X_train, y_train, X_test, y_test)\n",
    "\n",
    "y_hybrid = (y_poly + y_ts) / 2"
   ]
  },
  {
   "cell_type": "code",
   "execution_count": 9,
   "metadata": {},
   "outputs": [
    {
     "name": "stdout",
     "output_type": "stream",
     "text": [
      "------------------------------------------------------------------\n",
      "Four-hour buckets:\n",
      "------------------------------------------------------------------\n",
      "Homicide:         R2 =     -0.6, RMSE =     0.039, RMSE (%) =  2827.521\n",
      "Rape:             R2 =     -0.3, RMSE =     0.107, RMSE (%) =   963.968\n",
      "Robbery:          R2 =      2.8, RMSE =     0.288, RMSE (%) =   366.856\n",
      "FelonyAssault:    R2 =      3.5, RMSE =     0.377, RMSE (%) =   328.765\n",
      "Burglary:         R2 =      0.8, RMSE =     0.267, RMSE (%) =   399.288\n",
      "GrandLarceny:     R2 =      8.2, RMSE =     0.493, RMSE (%) =   222.044\n",
      "GrandLarcenyAuto: R2 =      0.8, RMSE =     0.173, RMSE (%) =   592.334\n",
      "Fraud:            R2 =      1.5, RMSE =     0.151, RMSE (%) =   683.975\n",
      "Forgery:          R2 =      2.5, RMSE =     0.183, RMSE (%) =   576.411\n",
      "Arson:            R2 =     -0.5, RMSE =     0.064, RMSE (%) =  1639.196\n",
      "Drugs:            R2 =      2.0, RMSE =     0.167, RMSE (%) =   624.612\n",
      "Weapons:          R2 =      1.9, RMSE =     0.174, RMSE (%) =   615.254\n",
      "CriminalMischief: R2 =      1.0, RMSE =     0.245, RMSE (%) =   443.311\n",
      "Other:            R2 =      2.4, RMSE =     0.293, RMSE (%) =   362.825\n",
      "\n",
      "------------------------------------------------------------------\n",
      "Days:\n",
      "------------------------------------------------------------------\n",
      "Homicide:         R2 =     -0.7, RMSE =     0.097, RMSE (%) =  1160.194\n",
      "Rape:             R2 =     -0.2, RMSE =     0.262, RMSE (%) =   395.553\n",
      "Robbery:          R2 =     10.2, RMSE =     0.725, RMSE (%) =   154.019\n",
      "FelonyAssault:    R2 =     14.1, RMSE =     0.960, RMSE (%) =   139.394\n",
      "Burglary:         R2 =      3.6, RMSE =     0.684, RMSE (%) =   170.742\n",
      "GrandLarceny:     R2 =     16.8, RMSE =     1.310, RMSE (%) =    98.271\n",
      "GrandLarcenyAuto: R2 =      3.5, RMSE =     0.433, RMSE (%) =   246.677\n",
      "Fraud:            R2 =      2.4, RMSE =     0.380, RMSE (%) =   286.636\n",
      "Forgery:          R2 =      7.8, RMSE =     0.457, RMSE (%) =   239.874\n",
      "Arson:            R2 =      0.2, RMSE =     0.160, RMSE (%) =   681.762\n",
      "Drugs:            R2 =      5.4, RMSE =     0.420, RMSE (%) =   261.399\n",
      "Weapons:          R2 =      6.4, RMSE =     0.438, RMSE (%) =   258.452\n",
      "CriminalMischief: R2 =      4.2, RMSE =     0.615, RMSE (%) =   185.712\n",
      "Other:            R2 =      8.5, RMSE =     0.750, RMSE (%) =   154.793\n",
      "\n",
      "------------------------------------------------------------------\n",
      "Days (All Precincts):\n",
      "------------------------------------------------------------------\n",
      "Homicide:         R2 =    -10.5, RMSE =     0.937, RMSE (%) =   146.146\n",
      "Rape:             R2 =    -42.8, RMSE =     3.492, RMSE (%) =    68.395\n",
      "Robbery:          R2 =   -170.0, RMSE =    13.468, RMSE (%) =    37.149\n",
      "FelonyAssault:    R2 =   -164.5, RMSE =    19.413, RMSE (%) =    36.624\n",
      "Burglary:         R2 =    -98.6, RMSE =    10.791, RMSE (%) =    34.960\n",
      "GrandLarceny:     R2 =   -369.5, RMSE =    34.781, RMSE (%) =    33.891\n",
      "GrandLarcenyAuto: R2 =   -138.2, RMSE =     6.349, RMSE (%) =    46.941\n",
      "Fraud:            R2 =    -24.4, RMSE =     5.231, RMSE (%) =    51.232\n",
      "Forgery:          R2 =    -28.2, RMSE =     6.472, RMSE (%) =    44.091\n",
      "Arson:            R2 =    -12.0, RMSE =     1.573, RMSE (%) =    87.091\n",
      "Drugs:            R2 =    -11.7, RMSE =     5.845, RMSE (%) =    47.253\n",
      "Weapons:          R2 =    -41.5, RMSE =     5.981, RMSE (%) =    45.853\n",
      "CriminalMischief: R2 =   -181.4, RMSE =     9.755, RMSE (%) =    38.244\n",
      "Other:            R2 =   -244.5, RMSE =    13.541, RMSE (%) =    36.273\n",
      "\n"
     ]
    }
   ],
   "source": [
    "eval_predictions(X_test, y_test, y_hybrid)"
   ]
  },
  {
   "cell_type": "code",
   "execution_count": null,
   "metadata": {
    "collapsed": true
   },
   "outputs": [],
   "source": []
  },
  {
   "cell_type": "code",
   "execution_count": null,
   "metadata": {
    "collapsed": true
   },
   "outputs": [],
   "source": []
  }
 ],
 "metadata": {
  "kernelspec": {
   "display_name": "capstone",
   "language": "python",
   "name": "capstone"
  },
  "language_info": {
   "codemirror_mode": {
    "name": "ipython",
    "version": 3
   },
   "file_extension": ".py",
   "mimetype": "text/x-python",
   "name": "python",
   "nbconvert_exporter": "python",
   "pygments_lexer": "ipython3",
   "version": "3.6.3"
  }
 },
 "nbformat": 4,
 "nbformat_minor": 2
}
