{
 "cells": [
  {
   "cell_type": "code",
   "execution_count": 1,
   "metadata": {
    "collapsed": true
   },
   "outputs": [],
   "source": [
    "import numpy as np\n",
    "import pandas as pd\n",
    "import seaborn\n",
    "import matplotlib.pyplot as plt\n",
    "import datetime\n",
    "import csv\n",
    "import os\n",
    "from sklearn.metrics import r2_score, mean_squared_error\n",
    "\n",
    "%matplotlib inline\n",
    "%load_ext autoreload\n",
    "%autoreload 2"
   ]
  },
  {
   "cell_type": "code",
   "execution_count": 2,
   "metadata": {
    "collapsed": true
   },
   "outputs": [],
   "source": [
    "from modules.nypd_data import read_orig_file\n",
    "from modules.nypd_data import filter_raw_data\n",
    "from modules.nypd_data import save_dated_felonies\n",
    "from modules.nypd_data import load_dated_felonies\n",
    "from modules.nypd_data import save_clean_felonies\n",
    "from modules.nypd_data import load_clean_felonies\n",
    "from modules.nypd_data import add_offense_category\n",
    "from modules.nypd_data import add_datetime_columns\n",
    "from modules.nypd_data import pivot_felonies\n",
    "from modules.nypd_data import save_pivoted_felonies\n",
    "from modules.nypd_data import load_pivoted_felonies"
   ]
  },
  {
   "cell_type": "code",
   "execution_count": 3,
   "metadata": {
    "collapsed": true
   },
   "outputs": [],
   "source": [
    "from modules.prediction import load_all_data\n",
    "from modules.prediction import precrime_train_test_split, create_test_period, precrime_train_test_split\n",
    "from modules.prediction import split_into_X_y\n",
    "from modules.prediction import load_splits\n",
    "from modules.prediction import create_all_splits\n",
    "from modules.prediction import sample_model\n",
    "from modules.poly_ridge import poly_ridge_model\n",
    "from modules.fancy_time_series import fancy_time_series_model\n",
    "from modules.eval_model import eval_predictions\n"
   ]
  },
  {
   "cell_type": "code",
   "execution_count": 4,
   "metadata": {
    "collapsed": true
   },
   "outputs": [],
   "source": [
    "from modules.nypd_data import load_clean_felonies\n",
    "from modules.nyc_shapefiles import read_nyc_shapefiles\n",
    "from modules.weather import get_precinct_centroids\n",
    "from modules.weather import get_mean_latlon\n",
    "from modules.weather import write_weather_data\n",
    "from modules.weather import read_weather_data\n",
    "from modules.weather import read_api_key"
   ]
  },
  {
   "cell_type": "code",
   "execution_count": 23,
   "metadata": {
    "collapsed": true
   },
   "outputs": [],
   "source": [
    "# Generating file for 2017\n",
    "# Get the ytd crime file from the open data website and \n",
    "# store it in the folder precrime_data/raw\n",
    "# save_dated_felonies('../precrime_data/raw/'\n",
    "#                     , 'NYPD_Complaint_Data_Current_YTD.csv'\n",
    "#                    , '../precrime_data/dated_felonies_2017.csv')\n",
    "# dated_felonies = load_dated_felonies('../precrime_data/'\n",
    "#                                      , 'dated_felonies_2017.csv', datetime='2017-01-01 00:00:00')\n",
    "# save_clean_felonies('../precrime_data/', 'dated_felonies_2017.csv'\n",
    "#                    , '../precrime_data/clean_felonies_2017.csv')\n",
    "\n",
    "# nypd_data_2017 = load_clean_felonies('../precrime_data/'\n",
    "#                                      , 'clean_felonies_2017.csv')\n",
    "# add_offense_category(nypd_data_2017)\n",
    "# add_datetime_columns(nypd_data_2017)\n",
    "# pivoted_2017 = pivot_felonies(nypd_data_2017)\n",
    "# save_pivoted_felonies(nypd_data_2017, data_path='../precrime_data/'\n",
    "#                       , pivot_file='pivoted_felonies_2017.csv')\n",
    "\n",
    "    "
   ]
  },
  {
   "cell_type": "code",
   "execution_count": 24,
   "metadata": {
    "collapsed": true
   },
   "outputs": [],
   "source": [
    "# Creating weather data until 2017-11-30 \n",
    "\n",
    "# Before running: execute \"tar -xvf weather_hist.tar.gz\"\n",
    "# from the root directory of the git repo\n",
    "#\n",
    "# To make the files from scratch (not necessary):\n",
    "#\n",
    "#nypd_data = load_clean_felonies()\n",
    "#precinct_dict, tract_dict, merged_census_info = read_nyc_shapefiles()\n",
    "#centroids = get_precinct_centroids(precinct_dict)\n",
    "#nyc_mean_latlon = get_mean_latlon(centroids)\n",
    "#nypd_dates = nypd_data['COMPLAINT_DATETIME'].dt.date.unique()\n",
    "#hours = range(2,26,4)\n",
    "#darksky_api_key = read_api_key()"
   ]
  },
  {
   "cell_type": "code",
   "execution_count": 25,
   "metadata": {
    "collapsed": true
   },
   "outputs": [],
   "source": [
    "#new_nypd_dates = []\n",
    "#one_day = datetime.timedelta(days=1)\n",
    "#cur_day = nypd_dates[-1] + one_day\n",
    "#while cur_day.month < 12:\n",
    "#    new_nypd_dates.append(cur_day)\n",
    "#    cur_day += one_day"
   ]
  },
  {
   "cell_type": "code",
   "execution_count": 26,
   "metadata": {
    "collapsed": true
   },
   "outputs": [],
   "source": [
    "#write_weather_data(new_nypd_dates, hours, darksky_api_key, nyc_mean_latlon, append_output=True)"
   ]
  },
  {
   "cell_type": "code",
   "execution_count": 27,
   "metadata": {
    "collapsed": true
   },
   "outputs": [],
   "source": [
    "# import traceback\n",
    "# import warnings\n",
    "# import sys\n",
    "\n",
    "# def warn_with_traceback(message, category, filename, lineno, file=None, line=None):\n",
    "\n",
    "#     log = file if hasattr(file,'write') else sys.stderr\n",
    "#     traceback.print_stack(file=log)\n",
    "#     log.write(warnings.formatwarning(message, category, filename, lineno, line))\n",
    "\n",
    "# warnings.showwarning = warn_with_traceback"
   ]
  },
  {
   "cell_type": "code",
   "execution_count": 5,
   "metadata": {},
   "outputs": [
    {
     "name": "stderr",
     "output_type": "stream",
     "text": [
      "C:\\Users\\ngamf\\Anaconda3\\envs\\capstone\\lib\\site-packages\\numpy\\lib\\arraysetops.py:463: FutureWarning: elementwise comparison failed; returning scalar instead, but in the future will perform elementwise comparison\n",
      "  mask |= (ar1 == a)\n"
     ]
    }
   ],
   "source": [
    "crime_data_train = load_all_data()\n",
    "\n",
    "crime_data_test = load_all_data(data_path='../precrime_data/'\n",
    "                           , pivot_file='pivoted_felonies_2017.csv' )\n",
    "\n",
    "crime_data = pd.concat([crime_data_train, crime_data_test])\n"
   ]
  },
  {
   "cell_type": "code",
   "execution_count": 6,
   "metadata": {
    "collapsed": true
   },
   "outputs": [],
   "source": [
    "str_date = datetime.datetime.strptime('2017-01-01', '%Y-%m-%d')\n",
    "end_date = datetime.datetime.strptime('2017-07-01', '%Y-%m-%d')\n",
    "test_times = create_test_period(str_date,end_date)\n",
    "X_train, X_test, y_train, y_test = precrime_train_test_split(crime_data, test_times)"
   ]
  },
  {
   "cell_type": "code",
   "execution_count": 7,
   "metadata": {},
   "outputs": [],
   "source": [
    "y_poly = poly_ridge_model(X_train, y_train, X_test)\n",
    "\n",
    "\n"
   ]
  },
  {
   "cell_type": "code",
   "execution_count": 8,
   "metadata": {
    "collapsed": true
   },
   "outputs": [],
   "source": [
    "y_ts = fancy_time_series_model(X_train, y_train, X_test, y_test)\n",
    "\n",
    "y_hybrid = (y_poly + y_ts) / 2"
   ]
  },
  {
   "cell_type": "code",
   "execution_count": 9,
   "metadata": {},
   "outputs": [
    {
     "name": "stdout",
     "output_type": "stream",
     "text": [
      "------------------------------------------------------------------\n",
      "Four-hour buckets:\n",
      "------------------------------------------------------------------\n",
      "Homicide:         R2 =     -0.6, RMSE =     0.039, RMSE (%) =  2827.521\n",
      "Rape:             R2 =     -0.3, RMSE =     0.107, RMSE (%) =   963.968\n",
      "Robbery:          R2 =      2.8, RMSE =     0.288, RMSE (%) =   366.856\n",
      "FelonyAssault:    R2 =      3.5, RMSE =     0.377, RMSE (%) =   328.765\n",
      "Burglary:         R2 =      0.8, RMSE =     0.267, RMSE (%) =   399.288\n",
      "GrandLarceny:     R2 =      8.2, RMSE =     0.493, RMSE (%) =   222.044\n",
      "GrandLarcenyAuto: R2 =      0.8, RMSE =     0.173, RMSE (%) =   592.334\n",
      "Fraud:            R2 =      1.5, RMSE =     0.151, RMSE (%) =   683.975\n",
      "Forgery:          R2 =      2.5, RMSE =     0.183, RMSE (%) =   576.411\n",
      "Arson:            R2 =     -0.5, RMSE =     0.064, RMSE (%) =  1639.196\n",
      "Drugs:            R2 =      2.0, RMSE =     0.167, RMSE (%) =   624.612\n",
      "Weapons:          R2 =      1.9, RMSE =     0.174, RMSE (%) =   615.254\n",
      "CriminalMischief: R2 =      1.0, RMSE =     0.245, RMSE (%) =   443.311\n",
      "Other:            R2 =      2.4, RMSE =     0.293, RMSE (%) =   362.825\n",
      "\n",
      "------------------------------------------------------------------\n",
      "Days:\n",
      "------------------------------------------------------------------\n",
      "Homicide:         R2 =     -0.7, RMSE =     0.097, RMSE (%) =  1160.194\n",
      "Rape:             R2 =     -0.2, RMSE =     0.262, RMSE (%) =   395.553\n",
      "Robbery:          R2 =     10.2, RMSE =     0.725, RMSE (%) =   154.019\n",
      "FelonyAssault:    R2 =     14.1, RMSE =     0.960, RMSE (%) =   139.394\n",
      "Burglary:         R2 =      3.6, RMSE =     0.684, RMSE (%) =   170.742\n",
      "GrandLarceny:     R2 =     16.8, RMSE =     1.310, RMSE (%) =    98.271\n",
      "GrandLarcenyAuto: R2 =      3.5, RMSE =     0.433, RMSE (%) =   246.677\n",
      "Fraud:            R2 =      2.4, RMSE =     0.380, RMSE (%) =   286.636\n",
      "Forgery:          R2 =      7.8, RMSE =     0.457, RMSE (%) =   239.874\n",
      "Arson:            R2 =      0.2, RMSE =     0.160, RMSE (%) =   681.762\n",
      "Drugs:            R2 =      5.4, RMSE =     0.420, RMSE (%) =   261.399\n",
      "Weapons:          R2 =      6.4, RMSE =     0.438, RMSE (%) =   258.452\n",
      "CriminalMischief: R2 =      4.2, RMSE =     0.615, RMSE (%) =   185.712\n",
      "Other:            R2 =      8.5, RMSE =     0.750, RMSE (%) =   154.793\n",
      "\n",
      "------------------------------------------------------------------\n",
      "Days (All Precincts):\n",
      "------------------------------------------------------------------\n",
      "Homicide:         R2 =    -10.5, RMSE =     0.937, RMSE (%) =   146.146\n",
      "Rape:             R2 =    -42.8, RMSE =     3.492, RMSE (%) =    68.395\n",
      "Robbery:          R2 =   -170.0, RMSE =    13.468, RMSE (%) =    37.149\n",
      "FelonyAssault:    R2 =   -164.5, RMSE =    19.413, RMSE (%) =    36.624\n",
      "Burglary:         R2 =    -98.6, RMSE =    10.791, RMSE (%) =    34.960\n",
      "GrandLarceny:     R2 =   -369.5, RMSE =    34.781, RMSE (%) =    33.891\n",
      "GrandLarcenyAuto: R2 =   -138.2, RMSE =     6.349, RMSE (%) =    46.941\n",
      "Fraud:            R2 =    -24.4, RMSE =     5.231, RMSE (%) =    51.232\n",
      "Forgery:          R2 =    -28.2, RMSE =     6.472, RMSE (%) =    44.091\n",
      "Arson:            R2 =    -12.0, RMSE =     1.573, RMSE (%) =    87.091\n",
      "Drugs:            R2 =    -11.7, RMSE =     5.845, RMSE (%) =    47.253\n",
      "Weapons:          R2 =    -41.5, RMSE =     5.981, RMSE (%) =    45.853\n",
      "CriminalMischief: R2 =   -181.4, RMSE =     9.755, RMSE (%) =    38.244\n",
      "Other:            R2 =   -244.5, RMSE =    13.541, RMSE (%) =    36.273\n",
      "\n"
     ]
    }
   ],
   "source": [
    "eval_predictions(X_test, y_test, y_hybrid)"
   ]
  },
  {
   "cell_type": "code",
   "execution_count": 11,
   "metadata": {},
   "outputs": [
    {
     "name": "stderr",
     "output_type": "stream",
     "text": [
      "C:\\Users\\ngamf\\Anaconda3\\envs\\capstone\\lib\\site-packages\\numpy\\lib\\arraysetops.py:463: FutureWarning: elementwise comparison failed; returning scalar instead, but in the future will perform elementwise comparison\n",
      "  mask |= (ar1 == a)\n"
     ]
    }
   ],
   "source": [
    "crime_data_js = load_all_data(data_path='../precrime_data/'\n",
    "                           , pivot_file='new_pivoted_felonies.csv')"
   ]
  },
  {
   "cell_type": "code",
   "execution_count": 12,
   "metadata": {
    "collapsed": true
   },
   "outputs": [],
   "source": [
    "from modules.prediction import create_test_period\n",
    "split_all_2017 = create_test_period(datetime.date(2017,1,1),datetime.date(2017,10,1))\n",
    "split_thru_june_2017 = create_test_period(datetime.date(2017,1,1),datetime.date(2017,7,1))"
   ]
  },
  {
   "cell_type": "code",
   "execution_count": 14,
   "metadata": {
    "collapsed": true
   },
   "outputs": [],
   "source": [
    "train_test_data = create_all_splits(crime_data_js, {'all_2017': split_all_2017, 'thru_june': split_thru_june_2017})"
   ]
  },
  {
   "cell_type": "code",
   "execution_count": 15,
   "metadata": {
    "collapsed": true
   },
   "outputs": [],
   "source": [
    "X_train_2017, X_test_2017, y_train_2017, y_test_2017 = train_test_data['all_2017']\n",
    "X_train_june, X_test_june, y_train_june, y_test_june = train_test_data['thru_june']"
   ]
  },
  {
   "cell_type": "code",
   "execution_count": 16,
   "metadata": {
    "collapsed": true
   },
   "outputs": [],
   "source": [
    "y_poly_2017 = poly_ridge_model(X_train_2017, y_train_2017, X_test_2017)\n",
    "y_poly_june = poly_ridge_model(X_train_june, y_train_june, X_test_june)\n",
    "\n",
    "y_ts_2017 = fancy_time_series_model(X_train_2017, y_train_2017, X_test_2017, y_test_2017)\n",
    "y_ts_june = fancy_time_series_model(X_train_june, y_train_june, X_test_june, y_test_june)\n",
    "\n",
    "y_hybrid_2017 = (y_poly_2017 + y_ts_2017) / 2\n",
    "y_hybrid_june = (y_poly_june + y_ts_june) / 2"
   ]
  },
  {
   "cell_type": "code",
   "execution_count": 17,
   "metadata": {},
   "outputs": [
    {
     "name": "stdout",
     "output_type": "stream",
     "text": [
      "------------------------------------------------------------------\n",
      "Four-hour buckets:\n",
      "------------------------------------------------------------------\n",
      "Homicide:         R2 =     -0.4, RMSE =     0.041, RMSE (%) =  2730.391\n",
      "Rape:             R2 =      0.0, RMSE =     0.112, RMSE (%) =   918.150\n",
      "Robbery:          R2 =      3.7, RMSE =     0.291, RMSE (%) =   358.580\n",
      "FelonyAssault:    R2 =      5.4, RMSE =     0.382, RMSE (%) =   318.653\n",
      "Burglary:         R2 =      1.0, RMSE =     0.269, RMSE (%) =   391.755\n",
      "GrandLarceny:     R2 =     10.7, RMSE =     0.501, RMSE (%) =   213.885\n",
      "GrandLarcenyAuto: R2 =      1.4, RMSE =     0.183, RMSE (%) =   562.755\n",
      "Fraud:            R2 =      1.7, RMSE =     0.152, RMSE (%) =   675.712\n",
      "Forgery:          R2 =      2.6, RMSE =     0.181, RMSE (%) =   586.003\n",
      "Arson:            R2 =     -0.4, RMSE =     0.065, RMSE (%) =  1623.359\n",
      "Drugs:            R2 =      2.8, RMSE =     0.168, RMSE (%) =   623.468\n",
      "Weapons:          R2 =      3.2, RMSE =     0.174, RMSE (%) =   601.806\n",
      "CriminalMischief: R2 =      1.8, RMSE =     0.254, RMSE (%) =   434.915\n",
      "Other:            R2 =      3.8, RMSE =     0.297, RMSE (%) =   352.009\n",
      "\n",
      "------------------------------------------------------------------\n",
      "Days:\n",
      "------------------------------------------------------------------\n",
      "Homicide:         R2 =     -0.4, RMSE =     0.102, RMSE (%) =  1126.375\n",
      "Rape:             R2 =      1.2, RMSE =     0.274, RMSE (%) =   374.929\n",
      "Robbery:          R2 =     14.8, RMSE =     0.722, RMSE (%) =   148.199\n",
      "FelonyAssault:    R2 =     21.5, RMSE =     0.943, RMSE (%) =   131.116\n",
      "Burglary:         R2 =      6.2, RMSE =     0.681, RMSE (%) =   165.246\n",
      "GrandLarceny:     R2 =     26.3, RMSE =     1.271, RMSE (%) =    90.391\n",
      "GrandLarcenyAuto: R2 =      5.0, RMSE =     0.456, RMSE (%) =   233.587\n",
      "Fraud:            R2 =      3.8, RMSE =     0.377, RMSE (%) =   279.692\n",
      "Forgery:          R2 =      8.3, RMSE =     0.452, RMSE (%) =   243.964\n",
      "Arson:            R2 =      0.4, RMSE =     0.162, RMSE (%) =   674.937\n",
      "Drugs:            R2 =      8.1, RMSE =     0.418, RMSE (%) =   258.995\n",
      "Weapons:          R2 =     10.6, RMSE =     0.432, RMSE (%) =   248.786\n",
      "CriminalMischief: R2 =      7.4, RMSE =     0.635, RMSE (%) =   181.385\n",
      "Other:            R2 =     14.5, RMSE =     0.746, RMSE (%) =   147.303\n",
      "\n",
      "------------------------------------------------------------------\n",
      "Days (All Precincts):\n",
      "------------------------------------------------------------------\n",
      "Homicide:         R2 =     -2.5, RMSE =     0.928, RMSE (%) =   132.620\n",
      "Rape:             R2 =      1.8, RMSE =     2.991, RMSE (%) =    53.085\n",
      "Robbery:          R2 =      2.9, RMSE =     7.680, RMSE (%) =    20.486\n",
      "FelonyAssault:    R2 =     38.4, RMSE =    10.098, RMSE (%) =    18.229\n",
      "Burglary:         R2 =     10.5, RMSE =     7.150, RMSE (%) =    22.538\n",
      "GrandLarceny:     R2 =    -37.6, RMSE =    20.069, RMSE (%) =    18.539\n",
      "GrandLarcenyAuto: R2 =    -13.0, RMSE =     4.944, RMSE (%) =    32.867\n",
      "Fraud:            R2 =     15.1, RMSE =     4.491, RMSE (%) =    43.319\n",
      "Forgery:          R2 =     12.3, RMSE =     5.411, RMSE (%) =    37.898\n",
      "Arson:            R2 =      2.0, RMSE =     1.471, RMSE (%) =    79.538\n",
      "Drugs:            R2 =     44.7, RMSE =     4.133, RMSE (%) =    33.235\n",
      "Weapons:          R2 =     39.1, RMSE =     3.995, RMSE (%) =    29.879\n",
      "CriminalMischief: R2 =      8.1, RMSE =     5.868, RMSE (%) =    21.772\n",
      "Other:            R2 =     15.2, RMSE =     6.833, RMSE (%) =    17.531\n",
      "\n"
     ]
    }
   ],
   "source": [
    "eval_predictions(X_test_2017, y_test_2017, y_hybrid_2017)"
   ]
  },
  {
   "cell_type": "code",
   "execution_count": 18,
   "metadata": {},
   "outputs": [
    {
     "name": "stdout",
     "output_type": "stream",
     "text": [
      "------------------------------------------------------------------\n",
      "Four-hour buckets:\n",
      "------------------------------------------------------------------\n",
      "Homicide:         R2 =     -0.5, RMSE =     0.040, RMSE (%) =  2794.489\n",
      "Rape:             R2 =      0.1, RMSE =     0.111, RMSE (%) =   915.342\n",
      "Robbery:          R2 =      3.8, RMSE =     0.288, RMSE (%) =   363.713\n",
      "FelonyAssault:    R2 =      5.3, RMSE =     0.377, RMSE (%) =   322.523\n",
      "Burglary:         R2 =      1.2, RMSE =     0.269, RMSE (%) =   394.671\n",
      "GrandLarceny:     R2 =     11.6, RMSE =     0.499, RMSE (%) =   211.911\n",
      "GrandLarcenyAuto: R2 =      1.2, RMSE =     0.174, RMSE (%) =   586.598\n",
      "Fraud:            R2 =      1.9, RMSE =     0.160, RMSE (%) =   643.028\n",
      "Forgery:          R2 =      3.1, RMSE =     0.185, RMSE (%) =   564.507\n",
      "Arson:            R2 =     -0.4, RMSE =     0.066, RMSE (%) =  1578.134\n",
      "Drugs:            R2 =      2.7, RMSE =     0.167, RMSE (%) =   620.130\n",
      "Weapons:          R2 =      2.9, RMSE =     0.173, RMSE (%) =   611.794\n",
      "CriminalMischief: R2 =      1.8, RMSE =     0.249, RMSE (%) =   433.558\n",
      "Other:            R2 =      3.7, RMSE =     0.294, RMSE (%) =   356.519\n",
      "\n",
      "------------------------------------------------------------------\n",
      "Days:\n",
      "------------------------------------------------------------------\n",
      "Homicide:         R2 =     -0.4, RMSE =     0.099, RMSE (%) =  1145.272\n",
      "Rape:             R2 =      1.5, RMSE =     0.271, RMSE (%) =   372.256\n",
      "Robbery:          R2 =     14.5, RMSE =     0.711, RMSE (%) =   149.861\n",
      "FelonyAssault:    R2 =     21.4, RMSE =     0.930, RMSE (%) =   132.432\n",
      "Burglary:         R2 =      6.0, RMSE =     0.682, RMSE (%) =   166.801\n",
      "GrandLarceny:     R2 =     28.4, RMSE =     1.257, RMSE (%) =    88.975\n",
      "GrandLarcenyAuto: R2 =      4.7, RMSE =     0.433, RMSE (%) =   243.167\n",
      "Fraud:            R2 =      4.0, RMSE =     0.398, RMSE (%) =   266.466\n",
      "Forgery:          R2 =     10.0, RMSE =     0.460, RMSE (%) =   233.198\n",
      "Arson:            R2 =      0.4, RMSE =     0.165, RMSE (%) =   656.180\n",
      "Drugs:            R2 =      7.8, RMSE =     0.416, RMSE (%) =   257.234\n",
      "Weapons:          R2 =      9.9, RMSE =     0.430, RMSE (%) =   253.456\n",
      "CriminalMischief: R2 =      7.8, RMSE =     0.616, RMSE (%) =   179.105\n",
      "Other:            R2 =     14.1, RMSE =     0.735, RMSE (%) =   148.319\n",
      "\n",
      "------------------------------------------------------------------\n",
      "Days (All Precincts):\n",
      "------------------------------------------------------------------\n",
      "Homicide:         R2 =     -3.2, RMSE =     0.914, RMSE (%) =   137.811\n",
      "Rape:             R2 =      3.5, RMSE =     3.133, RMSE (%) =    55.976\n",
      "Robbery:          R2 =      6.7, RMSE =     7.912, RMSE (%) =    21.661\n",
      "FelonyAssault:    R2 =     43.0, RMSE =     9.351, RMSE (%) =    17.302\n",
      "Burglary:         R2 =     21.3, RMSE =     6.595, RMSE (%) =    20.949\n",
      "GrandLarceny:     R2 =     12.2, RMSE =    15.661, RMSE (%) =    14.392\n",
      "GrandLarcenyAuto: R2 =    -47.9, RMSE =     4.944, RMSE (%) =    36.027\n",
      "Fraud:            R2 =     18.3, RMSE =     4.240, RMSE (%) =    36.862\n",
      "Forgery:          R2 =     28.9, RMSE =     4.806, RMSE (%) =    31.669\n",
      "Arson:            R2 =      3.6, RMSE =     1.467, RMSE (%) =    75.673\n",
      "Drugs:            R2 =     44.4, RMSE =     4.156, RMSE (%) =    33.355\n",
      "Weapons:          R2 =     34.4, RMSE =     4.070, RMSE (%) =    31.179\n",
      "CriminalMischief: R2 =     15.5, RMSE =     5.586, RMSE (%) =    21.095\n",
      "Other:            R2 =     13.4, RMSE =     6.832, RMSE (%) =    17.904\n",
      "\n"
     ]
    }
   ],
   "source": [
    "eval_predictions(X_test_june, y_test_june, y_hybrid_june)"
   ]
  },
  {
   "cell_type": "code",
   "execution_count": 19,
   "metadata": {},
   "outputs": [
    {
     "name": "stdout",
     "output_type": "stream",
     "text": [
      "------------------------------------------------------------------\n",
      "Four-hour buckets:\n",
      "------------------------------------------------------------------\n",
      "Homicide:         R2 =      0.0, RMSE =     0.040, RMSE (%) =  2787.736\n",
      "Rape:             R2 =      0.4, RMSE =     0.111, RMSE (%) =   913.859\n",
      "Robbery:          R2 =      3.3, RMSE =     0.288, RMSE (%) =   364.645\n",
      "FelonyAssault:    R2 =      4.9, RMSE =     0.378, RMSE (%) =   323.177\n",
      "Burglary:         R2 =      0.4, RMSE =     0.270, RMSE (%) =   396.294\n",
      "GrandLarceny:     R2 =      9.2, RMSE =     0.506, RMSE (%) =   214.827\n",
      "GrandLarcenyAuto: R2 =      0.7, RMSE =     0.175, RMSE (%) =   588.015\n",
      "Fraud:            R2 =      1.7, RMSE =     0.160, RMSE (%) =   643.468\n",
      "Forgery:          R2 =      1.9, RMSE =     0.187, RMSE (%) =   568.051\n",
      "Arson:            R2 =      0.0, RMSE =     0.066, RMSE (%) =  1574.851\n",
      "Drugs:            R2 =      1.2, RMSE =     0.168, RMSE (%) =   624.768\n",
      "Weapons:          R2 =      2.3, RMSE =     0.173, RMSE (%) =   613.639\n",
      "CriminalMischief: R2 =      1.7, RMSE =     0.249, RMSE (%) =   433.783\n",
      "Other:            R2 =      3.3, RMSE =     0.295, RMSE (%) =   357.228\n",
      "\n",
      "------------------------------------------------------------------\n",
      "Days:\n",
      "------------------------------------------------------------------\n",
      "Homicide:         R2 =     -0.0, RMSE =     0.098, RMSE (%) =  1142.942\n",
      "Rape:             R2 =      1.2, RMSE =     0.271, RMSE (%) =   372.765\n",
      "Robbery:          R2 =     13.2, RMSE =     0.716, RMSE (%) =   150.951\n",
      "FelonyAssault:    R2 =     20.3, RMSE =     0.936, RMSE (%) =   133.303\n",
      "Burglary:         R2 =      3.1, RMSE =     0.692, RMSE (%) =   169.352\n",
      "GrandLarceny:     R2 =     24.4, RMSE =     1.292, RMSE (%) =    91.445\n",
      "GrandLarcenyAuto: R2 =      1.7, RMSE =     0.440, RMSE (%) =   247.021\n",
      "Fraud:            R2 =      3.2, RMSE =     0.400, RMSE (%) =   267.549\n",
      "Forgery:          R2 =      6.5, RMSE =     0.468, RMSE (%) =   237.678\n",
      "Arson:            R2 =      0.2, RMSE =     0.165, RMSE (%) =   656.783\n",
      "Drugs:            R2 =      2.7, RMSE =     0.427, RMSE (%) =   264.170\n",
      "Weapons:          R2 =      9.1, RMSE =     0.432, RMSE (%) =   254.535\n",
      "CriminalMischief: R2 =      6.5, RMSE =     0.620, RMSE (%) =   180.352\n",
      "Other:            R2 =     12.8, RMSE =     0.740, RMSE (%) =   149.405\n",
      "\n",
      "------------------------------------------------------------------\n",
      "Days (All Precincts):\n",
      "------------------------------------------------------------------\n",
      "Homicide:         R2 =     -3.4, RMSE =     0.914, RMSE (%) =   137.935\n",
      "Rape:             R2 =     -2.1, RMSE =     3.223, RMSE (%) =    57.581\n",
      "Robbery:          R2 =     -0.6, RMSE =     8.214, RMSE (%) =    22.488\n",
      "FelonyAssault:    R2 =     40.1, RMSE =     9.585, RMSE (%) =    17.735\n",
      "Burglary:         R2 =     -4.4, RMSE =     7.596, RMSE (%) =    24.128\n",
      "GrandLarceny:     R2 =     -8.1, RMSE =    17.379, RMSE (%) =    15.971\n",
      "GrandLarcenyAuto: R2 =   -102.7, RMSE =     5.789, RMSE (%) =    42.180\n",
      "Fraud:            R2 =      4.8, RMSE =     4.578, RMSE (%) =    39.798\n",
      "Forgery:          R2 =     17.1, RMSE =     5.189, RMSE (%) =    34.189\n",
      "Arson:            R2 =     -4.5, RMSE =     1.528, RMSE (%) =    78.771\n",
      "Drugs:            R2 =     33.2, RMSE =     4.555, RMSE (%) =    36.559\n",
      "Weapons:          R2 =     28.7, RMSE =     4.244, RMSE (%) =    32.508\n",
      "CriminalMischief: R2 =      3.4, RMSE =     5.974, RMSE (%) =    22.560\n",
      "Other:            R2 =     -4.0, RMSE =     7.486, RMSE (%) =    19.618\n",
      "\n"
     ]
    }
   ],
   "source": [
    "eval_predictions(X_test_june, y_test_june, y_poly_june)"
   ]
  },
  {
   "cell_type": "code",
   "execution_count": 20,
   "metadata": {},
   "outputs": [
    {
     "name": "stdout",
     "output_type": "stream",
     "text": [
      "------------------------------------------------------------------\n",
      "Four-hour buckets:\n",
      "------------------------------------------------------------------\n",
      "Homicide:         R2 =     -2.0, RMSE =     0.040, RMSE (%) =  2815.388\n",
      "Rape:             R2 =     -1.2, RMSE =     0.112, RMSE (%) =   921.286\n",
      "Robbery:          R2 =      2.8, RMSE =     0.289, RMSE (%) =   365.595\n",
      "FelonyAssault:    R2 =      4.3, RMSE =     0.379, RMSE (%) =   324.184\n",
      "Burglary:         R2 =      0.3, RMSE =     0.270, RMSE (%) =   396.455\n",
      "GrandLarceny:     R2 =     11.5, RMSE =     0.500, RMSE (%) =   212.093\n",
      "GrandLarcenyAuto: R2 =      0.1, RMSE =     0.175, RMSE (%) =   589.811\n",
      "Fraud:            R2 =      0.8, RMSE =     0.161, RMSE (%) =   646.612\n",
      "Forgery:          R2 =      1.9, RMSE =     0.187, RMSE (%) =   567.885\n",
      "Arson:            R2 =     -1.8, RMSE =     0.067, RMSE (%) =  1589.589\n",
      "Drugs:            R2 =      2.0, RMSE =     0.168, RMSE (%) =   622.085\n",
      "Weapons:          R2 =      1.6, RMSE =     0.174, RMSE (%) =   615.904\n",
      "CriminalMischief: R2 =      0.6, RMSE =     0.250, RMSE (%) =   436.180\n",
      "Other:            R2 =      2.6, RMSE =     0.296, RMSE (%) =   358.499\n",
      "\n",
      "------------------------------------------------------------------\n",
      "Days:\n",
      "------------------------------------------------------------------\n",
      "Homicide:         R2 =     -1.9, RMSE =     0.099, RMSE (%) =  1154.002\n",
      "Rape:             R2 =      0.5, RMSE =     0.272, RMSE (%) =   374.102\n",
      "Robbery:          R2 =     13.7, RMSE =     0.714, RMSE (%) =   150.493\n",
      "FelonyAssault:    R2 =     20.6, RMSE =     0.934, RMSE (%) =   133.109\n",
      "Burglary:         R2 =      6.1, RMSE =     0.682, RMSE (%) =   166.720\n",
      "GrandLarceny:     R2 =     29.2, RMSE =     1.251, RMSE (%) =    88.500\n",
      "GrandLarcenyAuto: R2 =      4.8, RMSE =     0.433, RMSE (%) =   243.069\n",
      "Fraud:            R2 =      3.0, RMSE =     0.400, RMSE (%) =   267.854\n",
      "Forgery:          R2 =      9.1, RMSE =     0.462, RMSE (%) =   234.424\n",
      "Arson:            R2 =     -0.8, RMSE =     0.166, RMSE (%) =   660.289\n",
      "Drugs:            R2 =      8.5, RMSE =     0.415, RMSE (%) =   256.183\n",
      "Weapons:          R2 =      8.4, RMSE =     0.433, RMSE (%) =   255.521\n",
      "CriminalMischief: R2 =      6.8, RMSE =     0.619, RMSE (%) =   180.063\n",
      "Other:            R2 =     13.3, RMSE =     0.739, RMSE (%) =   149.049\n",
      "\n",
      "------------------------------------------------------------------\n",
      "Days (All Precincts):\n",
      "------------------------------------------------------------------\n",
      "Homicide:         R2 =     -5.9, RMSE =     0.926, RMSE (%) =   139.623\n",
      "Rape:             R2 =      3.0, RMSE =     3.142, RMSE (%) =    56.135\n",
      "Robbery:          R2 =      4.8, RMSE =     7.990, RMSE (%) =    21.876\n",
      "FelonyAssault:    R2 =     31.4, RMSE =    10.255, RMSE (%) =    18.975\n",
      "Burglary:         R2 =     29.6, RMSE =     6.237, RMSE (%) =    19.812\n",
      "GrandLarceny:     R2 =     15.5, RMSE =    15.370, RMSE (%) =    14.125\n",
      "GrandLarcenyAuto: R2 =    -18.1, RMSE =     4.419, RMSE (%) =    32.197\n",
      "Fraud:            R2 =     15.4, RMSE =     4.315, RMSE (%) =    37.509\n",
      "Forgery:          R2 =     30.7, RMSE =     4.743, RMSE (%) =    31.249\n",
      "Arson:            R2 =      4.1, RMSE =     1.464, RMSE (%) =    75.486\n",
      "Drugs:            R2 =     43.5, RMSE =     4.192, RMSE (%) =    33.644\n",
      "Weapons:          R2 =     36.3, RMSE =     4.011, RMSE (%) =    30.727\n",
      "CriminalMischief: R2 =      3.1, RMSE =     5.983, RMSE (%) =    22.595\n",
      "Other:            R2 =      0.3, RMSE =     7.330, RMSE (%) =    19.208\n",
      "\n"
     ]
    }
   ],
   "source": [
    "eval_predictions(X_test_june, y_test_june, y_ts_june)"
   ]
  },
  {
   "cell_type": "code",
   "execution_count": null,
   "metadata": {
    "collapsed": true
   },
   "outputs": [],
   "source": []
  }
 ],
 "metadata": {
  "kernelspec": {
   "display_name": "capstone",
   "language": "python",
   "name": "capstone"
  },
  "language_info": {
   "codemirror_mode": {
    "name": "ipython",
    "version": 3
   },
   "file_extension": ".py",
   "mimetype": "text/x-python",
   "name": "python",
   "nbconvert_exporter": "python",
   "pygments_lexer": "ipython3",
   "version": "3.6.3"
  }
 },
 "nbformat": 4,
 "nbformat_minor": 2
}
