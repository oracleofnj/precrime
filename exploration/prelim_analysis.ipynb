{
 "cells": [
  {
   "cell_type": "markdown",
   "metadata": {},
   "source": [
    "### Cumulative Results For Transportation and Climate\n",
    "\n",
    "#####  Analysis done on Robbery/ Theft Fraud Offence Types\n",
    "<ol>\n",
    "\n",
    "<li> 20.34% times crimes committed within 5 mile (manhattan distance) radius of subway stops\n",
    "<li> 17.42% times crimes committed within 5 mile (manhattan distance) radius of bus stops\n",
    "<li> 3.34% times it is snowing during robbery/theft\n",
    "<li> 37.47% times it is raining\n",
    "</ol>\n",
    "\n"
   ]
  },
  {
   "cell_type": "code",
   "execution_count": 1,
   "metadata": {
    "collapsed": true
   },
   "outputs": [],
   "source": [
    "import numpy as np\n",
    "import pandas as pd\n",
    "import time\n",
    "%matplotlib inline\n",
    "import matplotlib.pyplot as plt\n",
    "from sklearn.model_selection import train_test_split\n"
   ]
  },
  {
   "cell_type": "code",
   "execution_count": 2,
   "metadata": {
    "collapsed": false
   },
   "outputs": [
    {
     "name": "stderr",
     "output_type": "stream",
     "text": [
      "/Users/abc/anaconda/lib/python2.7/site-packages/IPython/core/interactiveshell.py:2717: DtypeWarning: Columns (17) have mixed types. Specify dtype option on import or set low_memory=False.\n",
      "  interactivity=interactivity, compiler=compiler, result=result)\n"
     ]
    }
   ],
   "source": [
    "## Read Data Files\n",
    "big_theft=pd.read_csv('../data/Big_Theft.csv', header=0)\n",
    "drug=pd.read_csv('../data/Dangerous_drugs.csv', header=0)\n",
    "weapon=pd.read_csv('../data/Dangerous_weapons.csv', header=0)\n",
    "homicide=pd.read_csv('../data/Homicide.csv', header=0)\n",
    "kidnap=pd.read_csv('../data/Kidnapping.csv', header=0)\n",
    "small_theft=pd.read_csv('../data/Small_Theft.csv', header=0)\n",
    "violence=pd.read_csv('../data/violent_behaviour.csv', header=0)\n",
    "other=pd.read_csv('../data/Other.csv', header=0)\n",
    "electricity=pd.read_csv('../data/Electric_Consumption_And_Cost__2010_-__2016_.csv', header=0)\n",
    "event=pd.read_csv('../data/NYC_Permitted_Event_Information.csv', header=0)\n",
    "historic=pd.read_csv('../data/NYPD_Complaint_Data_Historic.csv', header=0)"
   ]
  },
  {
   "cell_type": "code",
   "execution_count": 176,
   "metadata": {
    "collapsed": false
   },
   "outputs": [],
   "source": [
    "crime=pd.read_csv('../data/Crime_Map_.csv', header=0)\n",
    "subway=pd.read_csv('../data/NYC_Transit_Subway_Entrance_And_Exit_Data.csv', header=0)\n",
    "bus=pd.read_csv('../data/Bus_Stop_Shelter.csv', header=0)\n",
    "climate=pd.read_csv('../data/climate.csv', header=0, low_memory=False)"
   ]
  },
  {
   "cell_type": "code",
   "execution_count": 5,
   "metadata": {
    "collapsed": false
   },
   "outputs": [
    {
     "data": {
      "text/plain": [
       "Index([u'CMPLNT_NUM', u'CMPLNT_FR_DT', u'CMPLNT_FR_TM', u'CMPLNT_TO_DT',\n",
       "       u'CMPLNT_TO_TM', u'RPT_DT', u'KY_CD', u'OFNS_DESC', u'PD_CD',\n",
       "       u'PD_DESC', u'CRM_ATPT_CPTD_CD', u'LAW_CAT_CD', u'JURIS_DESC',\n",
       "       u'BORO_NM', u'ADDR_PCT_CD', u'LOC_OF_OCCUR_DESC', u'PREM_TYP_DESC',\n",
       "       u'PARKS_NM', u'HADEVELOPT', u'X_COORD_CD', u'Y_COORD_CD', u'Latitude',\n",
       "       u'Longitude', u'Lat_Lon'],\n",
       "      dtype='object')"
      ]
     },
     "execution_count": 5,
     "metadata": {},
     "output_type": "execute_result"
    }
   ],
   "source": [
    "crime.columns"
   ]
  },
  {
   "cell_type": "code",
   "execution_count": 83,
   "metadata": {
    "collapsed": false
   },
   "outputs": [
    {
     "name": "stdout",
     "output_type": "stream",
     "text": [
      "set(['ALCOHOLIC BEVERAGE CONTROL LAW', nan, 'KIDNAPPING', 'PETIT LARCENY OF MOTOR VEHICLE', 'ADMINISTRATIVE CODE', 'FRAUDS', 'NYS LAWS-UNCLASSIFIED VIOLATION', 'ESCAPE 3', 'UNAUTHORIZED USE OF A VEHICLE', 'PROSTITUTION & RELATED OFFENSES', 'ROBBERY', 'BURGLARY', 'OFFENSES AGAINST PUBLIC ADMINI', 'SEX CRIMES', 'RAPE', 'HOMICIDE-NEGLIGENT-VEHICLE', 'ASSAULT 3 & RELATED OFFENSES', 'OFFENSES INVOLVING FRAUD', 'PETIT LARCENY', 'OTHER STATE LAWS', \"BURGLAR'S TOOLS\", 'HOMICIDE-NEGLIGENT,UNCLASSIFIE', 'THEFT-FRAUD', 'INTOXICATED & IMPAIRED DRIVING', 'CRIMINAL MISCHIEF & RELATED OF', 'GAMBLING', 'FRAUDULENT ACCOSTING', 'JOSTLING', 'DANGEROUS DRUGS', 'VEHICLE AND TRAFFIC LAWS', 'OTHER OFFENSES RELATED TO THEF', 'ARSON', 'ANTICIPATORY OFFENSES', 'OFFENSES AGAINST THE PERSON', 'HARRASSMENT 2', 'FORGERY', 'POSSESSION OF STOLEN PROPERTY', 'OTHER STATE LAWS (NON PENAL LA', 'MISCELLANEOUS PENAL LAW', 'NYS LAWS-UNCLASSIFIED FELONY', 'OFFENSES AGAINST PUBLIC SAFETY', 'ENDAN WELFARE INCOMP', 'FELONY ASSAULT', 'MURDER & NON-NEGL. MANSLAUGHTER', 'OTHER STATE LAWS (NON PENAL LAW)', 'KIDNAPPING & RELATED OFFENSES', 'DANGEROUS WEAPONS', 'AGRICULTURE & MRKTS LAW-UNCLASSIFIED', 'INTOXICATED/IMPAIRED DRIVING', 'GRAND LARCENY OF MOTOR VEHICLE', 'CRIMINAL TRESPASS', 'LOITERING/GAMBLING (CARDS, DIC', 'NEW YORK CITY HEALTH CODE', 'CHILD ABANDONMENT/NON SUPPORT', 'THEFT OF SERVICES', 'OFFENSES RELATED TO CHILDREN', 'DISRUPTION OF A RELIGIOUS SERV', 'GRAND LARCENY', 'DISORDERLY CONDUCT', 'OFF. AGNST PUB ORD SENSBLTY &'])\n"
     ]
    }
   ],
   "source": [
    "type_crime= set(crime['OFNS_DESC'])\n",
    "print type_crime\n",
    "theft_set=set(['THEFT-FRAUD', 'ROBBERY'])\n"
   ]
  },
  {
   "cell_type": "code",
   "execution_count": 87,
   "metadata": {
    "collapsed": false
   },
   "outputs": [
    {
     "name": "stdout",
     "output_type": "stream",
     "text": [
      "Index([u'Division', u'Line', u'Station Name', u'Station Latitude',\n",
      "       u'Station Longitude', u'Route1', u'Route2', u'Route3', u'Route4',\n",
      "       u'Route5', u'Route6', u'Route7', u'Route8', u'Route9', u'Route10',\n",
      "       u'Route11', u'Entrance Type', u'Entry', u'Exit Only', u'Vending',\n",
      "       u'Staffing', u'Staff Hours', u'ADA', u'ADA Notes', u'Free Crossover',\n",
      "       u'North South Street', u'East West Street', u'Corner',\n",
      "       u'Entrance Latitude', u'Entrance Longitude', u'Station Location',\n",
      "       u'Entrance Location'],\n",
      "      dtype='object')\n"
     ]
    }
   ],
   "source": [
    "print subway.columns\n"
   ]
  },
  {
   "cell_type": "code",
   "execution_count": 129,
   "metadata": {
    "collapsed": false
   },
   "outputs": [
    {
     "data": {
      "text/plain": [
       "Index([u'STATION', u'NAME', u'LATITUDE', u'LONGITUDE', u'ELEVATION', u'DATE',\n",
       "       u'AWND', u'AWND_ATTRIBUTES', u'DAPR', u'DAPR_ATTRIBUTES', u'DASF',\n",
       "       u'DASF_ATTRIBUTES', u'MDPR', u'MDPR_ATTRIBUTES', u'MDSF',\n",
       "       u'MDSF_ATTRIBUTES', u'PGTM', u'PGTM_ATTRIBUTES', u'PRCP',\n",
       "       u'PRCP_ATTRIBUTES', u'SNOW', u'SNOW_ATTRIBUTES', u'SNWD',\n",
       "       u'SNWD_ATTRIBUTES', u'TAVG', u'TAVG_ATTRIBUTES', u'TMAX',\n",
       "       u'TMAX_ATTRIBUTES', u'TMIN', u'TMIN_ATTRIBUTES', u'TOBS',\n",
       "       u'TOBS_ATTRIBUTES', u'WDF2', u'WDF2_ATTRIBUTES', u'WDF5',\n",
       "       u'WDF5_ATTRIBUTES', u'WESD', u'WESD_ATTRIBUTES', u'WESF',\n",
       "       u'WESF_ATTRIBUTES', u'WSF2', u'WSF2_ATTRIBUTES', u'WSF5',\n",
       "       u'WSF5_ATTRIBUTES', u'WT01', u'WT01_ATTRIBUTES', u'WT02',\n",
       "       u'WT02_ATTRIBUTES', u'WT03', u'WT03_ATTRIBUTES', u'WT04',\n",
       "       u'WT04_ATTRIBUTES', u'WT05', u'WT05_ATTRIBUTES', u'WT06',\n",
       "       u'WT06_ATTRIBUTES', u'WT08', u'WT08_ATTRIBUTES', u'WT09',\n",
       "       u'WT09_ATTRIBUTES', u'WT10', u'WT10_ATTRIBUTES', u'WT11',\n",
       "       u'WT11_ATTRIBUTES'],\n",
       "      dtype='object')"
      ]
     },
     "execution_count": 129,
     "metadata": {},
     "output_type": "execute_result"
    }
   ],
   "source": [
    "climate.columns"
   ]
  },
  {
   "cell_type": "code",
   "execution_count": 171,
   "metadata": {
    "collapsed": false
   },
   "outputs": [
    {
     "name": "stdout",
     "output_type": "stream",
     "text": [
      "9033\n"
     ]
    }
   ],
   "source": [
    "theft=crime[crime['OFNS_DESC'].isin(theft_set)]\n",
    "print len(theft)"
   ]
  },
  {
   "cell_type": "code",
   "execution_count": 172,
   "metadata": {
    "collapsed": false
   },
   "outputs": [],
   "source": [
    "theft = theft[np.isfinite(theft['Longitude'])]\n"
   ]
  },
  {
   "cell_type": "code",
   "execution_count": 136,
   "metadata": {
    "collapsed": true
   },
   "outputs": [
    {
     "name": "stdout",
     "output_type": "stream",
     "text": [
      "done creating dict\n",
      "100\n",
      "200\n",
      "300\n",
      "400\n",
      "500\n",
      "600\n",
      "700\n",
      "800\n",
      "900\n",
      "1000\n",
      "1100\n",
      "1200\n",
      "1300\n",
      "1400\n",
      "1500\n",
      "1600\n",
      "1700\n",
      "1800\n",
      "1900\n",
      "2000\n",
      "2100\n",
      "2200\n",
      "2300\n",
      "2400\n",
      "2500\n",
      "2600\n",
      "2700\n",
      "2800\n",
      "2900\n",
      "3000\n",
      "3100\n",
      "3200\n",
      "3300\n",
      "3400\n",
      "3500\n",
      "3600\n",
      "3700\n",
      "3800\n",
      "3900\n",
      "4000\n",
      "4100\n",
      "4200\n",
      "4300\n",
      "4400\n",
      "4500\n",
      "4600\n",
      "4700\n",
      "4800\n",
      "4900\n",
      "5000\n",
      "5100\n",
      "5200\n",
      "5300\n",
      "5400\n",
      "5500\n",
      "5600\n",
      "5700\n",
      "5800\n",
      "5900\n",
      "6000\n",
      "6100\n",
      "6200\n",
      "6300\n",
      "6400\n",
      "6500\n",
      "6600\n",
      "6700\n",
      "6800\n",
      "6900\n",
      "7000\n",
      "7100\n",
      "7200\n",
      "7300\n",
      "7400\n",
      "7500\n",
      "7600\n",
      "7700\n",
      "7800\n",
      "7900\n",
      "8000\n",
      "8100\n",
      "8200\n",
      "8300\n",
      "8400\n",
      "8500\n",
      "8600\n",
      "8700\n",
      "8800\n",
      "8900\n",
      "9000\n"
     ]
    }
   ],
   "source": [
    "loc={}\n",
    "for i in range(len(subway)):\n",
    "    name = str(subway['Entrance Longitude'][i])+' '+str(subway['Entrance Latitude'][i])\n",
    "    if name in loc:\n",
    "        loc[name][1] +=1\n",
    "    else:\n",
    "        loc[name]=[0,0]  #\n",
    "print 'done creating dict'    \n",
    "false=0\n",
    "true=0\n",
    "count =0\n",
    "for i in theft['Latitude'].keys():\n",
    "    for key in loc:\n",
    "        \n",
    "        c1, c2= key.split(' ')\n",
    "        x,y=theft['Longitude'][i], theft['Latitude'][i]\n",
    "        \n",
    "        if (abs(x-float(c1)) + abs(y-float(c2))) <= (5.0/60.0):\n",
    "            loc[key][0] += 1\n",
    "            true +=1\n",
    "            \n",
    "        else:\n",
    "            false +=1\n",
    "    count +=1\n",
    "    if count%100==0: print count\n",
    "    \n",
    "            \n",
    "\n"
   ]
  },
  {
   "cell_type": "code",
   "execution_count": 137,
   "metadata": {
    "collapsed": false
   },
   "outputs": [
    {
     "data": {
      "text/plain": [
       "0.20337074358060414"
      ]
     },
     "execution_count": 137,
     "metadata": {},
     "output_type": "execute_result"
    }
   ],
   "source": [
    "(true*1.0)/(true+false)"
   ]
  },
  {
   "cell_type": "code",
   "execution_count": 138,
   "metadata": {
    "collapsed": false
   },
   "outputs": [
    {
     "data": {
      "text/plain": [
       "Index([u'SHELTER_ID', u'the_geom', u'CORNER', u'LOCATION', u'AT_BETWEEN',\n",
       "       u'IN_SERVICE', u'LONGITUDE', u'LATITUDE'],\n",
       "      dtype='object')"
      ]
     },
     "execution_count": 138,
     "metadata": {},
     "output_type": "execute_result"
    }
   ],
   "source": [
    "bus.columns"
   ]
  },
  {
   "cell_type": "code",
   "execution_count": 141,
   "metadata": {
    "collapsed": true
   },
   "outputs": [
    {
     "name": "stdout",
     "output_type": "stream",
     "text": [
      "done creating dict\n",
      "100\n",
      "200\n",
      "300\n",
      "400\n",
      "500\n",
      "600\n",
      "700\n",
      "800\n",
      "900\n",
      "1000\n",
      "1100\n",
      "1200\n",
      "1300\n",
      "1400\n",
      "1500\n",
      "1600\n",
      "1700\n",
      "1800\n",
      "1900\n",
      "2000\n",
      "2100\n",
      "2200\n",
      "2300\n",
      "2400\n",
      "2500\n",
      "2600\n",
      "2700\n",
      "2800\n",
      "2900\n",
      "3000\n",
      "3100\n",
      "3200\n",
      "3300\n",
      "3400\n",
      "3500\n",
      "3600\n",
      "3700\n",
      "3800\n",
      "3900\n",
      "4000\n",
      "4100\n",
      "4200\n",
      "4300\n",
      "4400\n",
      "4500\n",
      "4600\n",
      "4700\n",
      "4800\n",
      "4900\n",
      "5000\n",
      "5100\n",
      "5200\n",
      "5300\n",
      "5400\n",
      "5500\n",
      "5600\n",
      "5700\n",
      "5800\n",
      "5900\n",
      "6000\n",
      "6100\n",
      "6200\n",
      "6300\n",
      "6400\n",
      "6500\n",
      "6600\n",
      "6700\n",
      "6800\n",
      "6900\n",
      "7000\n",
      "7100\n",
      "7200\n",
      "7300\n",
      "7400\n",
      "7500\n",
      "7600\n",
      "7700\n",
      "7800\n",
      "7900\n",
      "8000\n",
      "8100\n",
      "8200\n",
      "8300\n",
      "8400\n",
      "8500\n",
      "8600\n",
      "8700\n",
      "8800\n",
      "8900\n",
      "9000\n"
     ]
    }
   ],
   "source": [
    "loc2={}\n",
    "for i in range(len(bus)):\n",
    "    name = str(bus['LONGITUDE'][i])+' '+str(bus['LATITUDE'][i])\n",
    "    if name in loc2:\n",
    "        loc2[name][1] +=1\n",
    "    else:\n",
    "        loc2[name]=[0,0]  #\n",
    "print 'done creating dict'    \n",
    "false=0\n",
    "true=0\n",
    "count =0\n",
    "for i in theft['Latitude'].keys():\n",
    "    for key in loc2:\n",
    "        \n",
    "        c1, c2= key.split(' ')\n",
    "        x,y=theft['Longitude'][i], theft['Latitude'][i]\n",
    "        \n",
    "        if (abs(x-float(c1)) + abs(y-float(c2))) <= (5.0/60.0):\n",
    "            loc2[key][0] += 1\n",
    "            true +=1\n",
    "            \n",
    "        else:\n",
    "            false +=1\n",
    "    count +=1\n",
    "    if count%100==0: print count"
   ]
  },
  {
   "cell_type": "code",
   "execution_count": 142,
   "metadata": {
    "collapsed": false
   },
   "outputs": [
    {
     "data": {
      "text/plain": [
       "0.1741908352160456"
      ]
     },
     "execution_count": 142,
     "metadata": {},
     "output_type": "execute_result"
    }
   ],
   "source": [
    "(true*1.0)/(true+false)"
   ]
  },
  {
   "cell_type": "code",
   "execution_count": 173,
   "metadata": {
    "collapsed": false
   },
   "outputs": [],
   "source": [
    "theft['from'] = pd.to_datetime(theft['CMPLNT_FR_DT'],  format='%m/%d/%Y',dayfirst=False, yearfirst=False, errors='coerce')\n"
   ]
  },
  {
   "cell_type": "code",
   "execution_count": 177,
   "metadata": {
    "collapsed": false
   },
   "outputs": [],
   "source": [
    "climate=climate[climate['NAME']=='NY CITY CENTRAL PARK, NY US']"
   ]
  },
  {
   "cell_type": "code",
   "execution_count": 178,
   "metadata": {
    "collapsed": false
   },
   "outputs": [],
   "source": [
    "climate['DATE'] = pd.to_datetime(climate['DATE'], format='%Y-%m-%d')"
   ]
  },
  {
   "cell_type": "code",
   "execution_count": 180,
   "metadata": {
    "collapsed": false
   },
   "outputs": [],
   "source": [
    "theft['index']=theft['from']\n",
    "climate['index']=climate['DATE']\n"
   ]
  },
  {
   "cell_type": "code",
   "execution_count": 200,
   "metadata": {
    "collapsed": false
   },
   "outputs": [],
   "source": [
    "climate_crime = pd.merge(  theft, climate,on='index' ,how='outer')\n",
    "climate_crime = climate_crime[np.isfinite(climate_crime['Longitude'])]"
   ]
  },
  {
   "cell_type": "code",
   "execution_count": 207,
   "metadata": {
    "collapsed": false
   },
   "outputs": [],
   "source": [
    "import matplotlib.pyplot as plt\n",
    "%matplotlib inline\n",
    "import collections \n",
    "sno=collections.Counter(climate_crime['SNOW'])"
   ]
  },
  {
   "cell_type": "code",
   "execution_count": 212,
   "metadata": {
    "collapsed": false
   },
   "outputs": [
    {
     "name": "stdout",
     "output_type": "stream",
     "text": [
      "0.0334366696191\n"
     ]
    }
   ],
   "source": [
    "snow={0.0:0}\n",
    "for key in sno:\n",
    "    if not np.isfinite(key):\n",
    "        snow[0.0]+=1\n",
    "    else:\n",
    "        snow[key]=sno[key]\n",
    "print 1-((snow[0.0]*1.0)/sum(snow.values()))"
   ]
  },
  {
   "cell_type": "code",
   "execution_count": 213,
   "metadata": {
    "collapsed": true
   },
   "outputs": [
    {
     "data": {
      "text/plain": [
       "{0.0: 8730,\n",
       " 0.40000000000000002: 6,\n",
       " 0.59999999999999998: 38,\n",
       " 0.80000000000000004: 1,\n",
       " 1.0: 37,\n",
       " 1.2: 58,\n",
       " 1.3999999999999999: 1,\n",
       " 1.5: 1,\n",
       " 2.1000000000000001: 51,\n",
       " 2.7999999999999998: 1,\n",
       " 4.2999999999999998: 1,\n",
       " 4.5: 1,\n",
       " 4.7999999999999998: 2,\n",
       " 5.0: 1,\n",
       " 5.0999999999999996: 39,\n",
       " 5.5: 1,\n",
       " 7.5999999999999996: 29,\n",
       " 9.4000000000000004: 31,\n",
       " 11.0: 3}"
      ]
     },
     "execution_count": 213,
     "metadata": {},
     "output_type": "execute_result"
    }
   ],
   "source": [
    "snow"
   ]
  },
  {
   "cell_type": "code",
   "execution_count": 238,
   "metadata": {
    "collapsed": false
   },
   "outputs": [
    {
     "name": "stdout",
     "output_type": "stream",
     "text": [
      "0.374737075169\n"
     ]
    }
   ],
   "source": [
    "rai=collections.Counter(climate_crime['PRCP'])\n",
    "rain={0.0:0}\n",
    "for key in rai:\n",
    "    if not np.isfinite(key):\n",
    "        rain[0.0]+=1\n",
    "    else:\n",
    "        rain[key]=rai[key]\n",
    "print 1-((rain[0.0]*1.0)/sum(rain.values()))"
   ]
  },
  {
   "cell_type": "code",
   "execution_count": 239,
   "metadata": {
    "collapsed": false
   },
   "outputs": [
    {
     "data": {
      "text/plain": [
       "{0.0: 5648,\n",
       " 0.01: 300,\n",
       " 0.02: 336,\n",
       " 0.029999999999999999: 194,\n",
       " 0.040000000000000001: 97,\n",
       " 0.050000000000000003: 178,\n",
       " 0.059999999999999998: 247,\n",
       " 0.070000000000000007: 10,\n",
       " 0.080000000000000002: 36,\n",
       " 0.089999999999999997: 63,\n",
       " 0.10000000000000001: 155,\n",
       " 0.11: 47,\n",
       " 0.12: 105,\n",
       " 0.13: 32,\n",
       " 0.14000000000000001: 30,\n",
       " 0.14999999999999999: 1,\n",
       " 0.16: 9,\n",
       " 0.17000000000000001: 52,\n",
       " 0.17999999999999999: 83,\n",
       " 0.19: 2,\n",
       " 0.20000000000000001: 1,\n",
       " 0.20999999999999999: 53,\n",
       " 0.22: 1,\n",
       " 0.25: 3,\n",
       " 0.26000000000000001: 50,\n",
       " 0.27000000000000002: 38,\n",
       " 0.28999999999999998: 95,\n",
       " 0.29999999999999999: 1,\n",
       " 0.31: 56,\n",
       " 0.32000000000000001: 40,\n",
       " 0.33000000000000002: 4,\n",
       " 0.34000000000000002: 53,\n",
       " 0.34999999999999998: 44,\n",
       " 0.35999999999999999: 1,\n",
       " 0.38: 1,\n",
       " 0.39000000000000001: 14,\n",
       " 0.40000000000000002: 1,\n",
       " 0.44: 1,\n",
       " 0.45000000000000001: 1,\n",
       " 0.46000000000000002: 53,\n",
       " 0.46999999999999997: 11,\n",
       " 0.47999999999999998: 1,\n",
       " 0.48999999999999999: 1,\n",
       " 0.5: 11,\n",
       " 0.52000000000000002: 60,\n",
       " 0.54000000000000004: 45,\n",
       " 0.56000000000000005: 1,\n",
       " 0.57999999999999996: 103,\n",
       " 0.58999999999999997: 46,\n",
       " 0.62: 2,\n",
       " 0.66000000000000003: 1,\n",
       " 0.68000000000000005: 1,\n",
       " 0.71999999999999997: 57,\n",
       " 0.72999999999999998: 34,\n",
       " 0.81999999999999995: 1,\n",
       " 0.82999999999999996: 5,\n",
       " 0.91000000000000003: 43,\n",
       " 0.92000000000000004: 2,\n",
       " 1.02: 1,\n",
       " 1.1100000000000001: 1,\n",
       " 1.1599999999999999: 91,\n",
       " 1.1799999999999999: 94,\n",
       " 1.29: 44,\n",
       " 1.3500000000000001: 31,\n",
       " 1.3899999999999999: 41,\n",
       " 1.3999999999999999: 1,\n",
       " 1.4099999999999999: 1,\n",
       " 1.51: 38,\n",
       " 1.54: 1,\n",
       " 1.55: 1,\n",
       " 1.5800000000000001: 1,\n",
       " 1.6100000000000001: 41,\n",
       " 1.8100000000000001: 3,\n",
       " 1.95: 1,\n",
       " 1.97: 29,\n",
       " 2.2000000000000002: 3,\n",
       " 3.02: 49}"
      ]
     },
     "execution_count": 239,
     "metadata": {},
     "output_type": "execute_result"
    }
   ],
   "source": [
    "rain"
   ]
  },
  {
   "cell_type": "code",
   "execution_count": 222,
   "metadata": {
    "collapsed": false,
    "scrolled": true
   },
   "outputs": [],
   "source": [
    "t1=np.array(loc.values())\n",
    "t2=np.array(loc2.values())\n"
   ]
  },
  {
   "cell_type": "code",
   "execution_count": 233,
   "metadata": {
    "collapsed": false
   },
   "outputs": [
    {
     "data": {
      "text/plain": [
       "[<matplotlib.lines.Line2D at 0x13d5ebd10>]"
      ]
     },
     "execution_count": 233,
     "metadata": {},
     "output_type": "execute_result"
    },
    {
     "data": {
      "image/png": "[encoded data removed]",
      "text/plain": [
       "<matplotlib.figure.Figure at 0x13ccbf690>"
      ]
     },
     "metadata": {},
     "output_type": "display_data"
    }
   ],
   "source": [
    "t1=t1[t1[:,1].argsort()[::-1]]\n",
    "import matplotlib.pyplot as plt\n",
    "%matplotlib inline\n",
    "plt.plot(range(len(t1)),t1[:,1])"
   ]
  }
 ],
 "metadata": {
  "kernelspec": {
   "display_name": "Python 2",
   "language": "python",
   "name": "python2"
  },
  "language_info": {
   "codemirror_mode": {
    "name": "ipython",
    "version": 2
   },
   "file_extension": ".py",
   "mimetype": "text/x-python",
   "name": "python",
   "nbconvert_exporter": "python",
   "pygments_lexer": "ipython2",
   "version": "2.7.13"
  }
 },
 "nbformat": 4,
 "nbformat_minor": 2
}
